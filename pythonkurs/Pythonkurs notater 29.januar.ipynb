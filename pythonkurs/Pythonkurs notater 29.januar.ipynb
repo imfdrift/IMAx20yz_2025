{
 "cells": [
  {
   "cell_type": "markdown",
   "id": "2dca64d4",
   "metadata": {},
   "source": [
    "# Pythonkurs 3\n",
    "- 29 januar 2025 onsdag 17:15-19:00\n",
    "- Link til opptak: https://ntnu.cloud.panopto.eu/Panopto/Pages/Sessions/List.aspx?folderID=ef1bbfdd-320b-47b6-bbc8-b2660163093e\n",
    "- Jupyterhub: https://s.ntnu.no/imax20yz\n",
    "- Anaconda: https://anaconda.org/"
   ]
  },
  {
   "cell_type": "markdown",
   "id": "681cf161",
   "metadata": {},
   "source": [
    "## Funksjoner"
   ]
  },
  {
   "cell_type": "code",
   "execution_count": 15,
   "id": "59114cb8",
   "metadata": {},
   "outputs": [],
   "source": [
    "def påminnelse():\n",
    "    print(\"Hei\")\n",
    "    print(\"Husk å levere inn STACK øvingen i programmering!\")"
   ]
  },
  {
   "cell_type": "code",
   "execution_count": 16,
   "id": "48713ac0",
   "metadata": {},
   "outputs": [
    {
     "name": "stdout",
     "output_type": "stream",
     "text": [
      "Hei\n",
      "Husk å levere inn STACK øvingen i programmering!\n"
     ]
    }
   ],
   "source": [
    "påminnelse()"
   ]
  },
  {
   "cell_type": "code",
   "execution_count": 18,
   "id": "db0cccf9",
   "metadata": {},
   "outputs": [],
   "source": [
    "def påminnelse_2(navn):\n",
    "    print(f\"Hei {navn}\")\n",
    "    print(\"Husk å levere inn STACK øvingen i programmering!\")"
   ]
  },
  {
   "cell_type": "code",
   "execution_count": 19,
   "id": "b9ec1c58",
   "metadata": {},
   "outputs": [
    {
     "name": "stdout",
     "output_type": "stream",
     "text": [
      "Hei Stine\n",
      "Husk å levere inn STACK øvingen i programmering!\n"
     ]
    }
   ],
   "source": [
    "påminnelse_2(\"Stine\")"
   ]
  },
  {
   "cell_type": "code",
   "execution_count": 20,
   "id": "3958f694",
   "metadata": {},
   "outputs": [
    {
     "name": "stdout",
     "output_type": "stream",
     "text": [
      "Hei Eirik\n",
      "Husk å levere inn STACK øvingen i programmering!\n"
     ]
    }
   ],
   "source": [
    "påminnelse_2(\"Eirik\")"
   ]
  },
  {
   "cell_type": "code",
   "execution_count": 23,
   "id": "895a7d1c",
   "metadata": {},
   "outputs": [],
   "source": [
    "def påminnelse_3(navn, har_levert):\n",
    "    print(f\"Hei {navn}\")\n",
    "    if har_levert:\n",
    "        print(\"Vi har registrert at du har levert STACK øvingen!\")\n",
    "    elif not har_levert:\n",
    "        print(\"Husk å levere inn STACK øvingen i programmering!\")"
   ]
  },
  {
   "cell_type": "code",
   "execution_count": 25,
   "id": "eadb25ae",
   "metadata": {},
   "outputs": [
    {
     "name": "stdout",
     "output_type": "stream",
     "text": [
      "Hei Stine\n",
      "Husk å levere inn STACK øvingen i programmering!\n"
     ]
    }
   ],
   "source": [
    "påminnelse_3(\"Stine\", False)"
   ]
  },
  {
   "cell_type": "code",
   "execution_count": 26,
   "id": "238800cb",
   "metadata": {},
   "outputs": [],
   "source": [
    "def volum_kule(radius):\n",
    "    volum = 4 * radius**3 * 3.14 / 3\n",
    "    return volum"
   ]
  },
  {
   "cell_type": "code",
   "execution_count": 29,
   "id": "20bb0583",
   "metadata": {},
   "outputs": [],
   "source": [
    "volum = volum_kule(3)"
   ]
  },
  {
   "cell_type": "code",
   "execution_count": 31,
   "id": "73c8f6a3",
   "metadata": {},
   "outputs": [
    {
     "name": "stdout",
     "output_type": "stream",
     "text": [
      "113.04\n"
     ]
    }
   ],
   "source": [
    "print(volum)"
   ]
  },
  {
   "cell_type": "code",
   "execution_count": 33,
   "id": "5bc103c8",
   "metadata": {},
   "outputs": [],
   "source": [
    "from math import pi"
   ]
  },
  {
   "cell_type": "code",
   "execution_count": 35,
   "id": "0f93798a",
   "metadata": {},
   "outputs": [
    {
     "data": {
      "text/plain": [
       "3.141592653589793"
      ]
     },
     "execution_count": 35,
     "metadata": {},
     "output_type": "execute_result"
    }
   ],
   "source": [
    "pi"
   ]
  },
  {
   "cell_type": "code",
   "execution_count": 36,
   "id": "25d417be",
   "metadata": {},
   "outputs": [],
   "source": [
    "def volum_kule(radius):\n",
    "    volum = 4 * radius**3 * pi / 3\n",
    "    return volum"
   ]
  },
  {
   "cell_type": "markdown",
   "id": "a6175e03",
   "metadata": {},
   "source": [
    "#### Oppgave om effektiv temperatur\n",
    "Mer om effektiv temperatur kan du finne her: https://hjelp.yr.no/hc/no/articles/360001695513-Effektiv-temperatur-og-f%C3%B8les-som\n",
    "\n",
    "- effektiv temperatur formel\n",
    "$$13.12+0.6215 T-11.37V^{0.16}+0.3965TV^{0.16}$$\n",
    "- T er temperatur i celisius\n",
    "- V er vindstyrke målt i km/h\n",
    "\n",
    "Lag en funksjon som tar inn temperatur og vindstyrke, og gir ut effektiv temperatur."
   ]
  },
  {
   "cell_type": "code",
   "execution_count": 44,
   "id": "1e3a8f5b",
   "metadata": {},
   "outputs": [],
   "source": [
    "def beregn_effektiv_temperatur(temperatur, vindstyrke=0):\n",
    "    \"\"\"Funksjonen beregner effektiv temperatur i celsius. Formelen som blir brukt er \n",
    "    13.12+0.6215 T-11.37V^{0.16}+0.3965TV^{0.16}. Temperaturen som T er målt i celisius. \n",
    "    Vindstyrken V er vindstyrke målt i km/h.\\n\\n\n",
    "    Eksempel på bruk:\\n\n",
    "    beregn_effektiv_temperatur(-4, 19)\\n\n",
    "    >-10.118552226401977\n",
    "    \"\"\"\n",
    "    effektiv_temperatur = 13.12 + 0.6215*temperatur - 11.37*vindstyrke**0.16 + 0.3965*temperatur*vindstyrke**0.16\n",
    "    return effektiv_temperatur"
   ]
  },
  {
   "cell_type": "code",
   "execution_count": 45,
   "id": "0ceb6f1b",
   "metadata": {},
   "outputs": [
    {
     "data": {
      "text/plain": [
       "-42.79021515492761"
      ]
     },
     "execution_count": 45,
     "metadata": {},
     "output_type": "execute_result"
    }
   ],
   "source": [
    "beregn_effektiv_temperatur(-30, 19)"
   ]
  },
  {
   "cell_type": "code",
   "execution_count": null,
   "id": "8afd1078",
   "metadata": {},
   "outputs": [],
   "source": [
    "beregn_effektiv_temperatur"
   ]
  },
  {
   "cell_type": "code",
   "execution_count": 43,
   "id": "0302af52",
   "metadata": {},
   "outputs": [
    {
     "data": {
      "text/plain": [
       "-5.525000000000004"
      ]
     },
     "execution_count": 43,
     "metadata": {},
     "output_type": "execute_result"
    }
   ],
   "source": [
    "beregn_effektiv_temperatur(-30)"
   ]
  },
  {
   "cell_type": "code",
   "execution_count": null,
   "id": "e8d82b6e",
   "metadata": {},
   "outputs": [],
   "source": []
  },
  {
   "cell_type": "code",
   "execution_count": 46,
   "id": "b600b249",
   "metadata": {},
   "outputs": [],
   "source": [
    "import numpy as np"
   ]
  },
  {
   "cell_type": "markdown",
   "id": "b4909a1c",
   "metadata": {},
   "source": [
    "## Endre størelse av matriser"
   ]
  },
  {
   "cell_type": "code",
   "execution_count": 47,
   "id": "1b59045c",
   "metadata": {},
   "outputs": [
    {
     "data": {
      "text/plain": [
       "array([[1, 2, 3],\n",
       "       [2, 0, 1]])"
      ]
     },
     "execution_count": 47,
     "metadata": {},
     "output_type": "execute_result"
    }
   ],
   "source": [
    "matrise_1 = np.array([[1, 2, 3], [2, 0, 1]])\n",
    "matrise_1"
   ]
  },
  {
   "cell_type": "code",
   "execution_count": 49,
   "id": "14a55547",
   "metadata": {},
   "outputs": [],
   "source": [
    "matrise_1.resize((3, 2))"
   ]
  },
  {
   "cell_type": "code",
   "execution_count": 50,
   "id": "61bd884f",
   "metadata": {},
   "outputs": [
    {
     "data": {
      "text/plain": [
       "array([[1, 2],\n",
       "       [3, 2],\n",
       "       [0, 1]])"
      ]
     },
     "execution_count": 50,
     "metadata": {},
     "output_type": "execute_result"
    }
   ],
   "source": [
    "matrise_1"
   ]
  },
  {
   "cell_type": "code",
   "execution_count": 53,
   "id": "53bfd606",
   "metadata": {},
   "outputs": [],
   "source": [
    "matrise_1.resize((6,1))"
   ]
  },
  {
   "cell_type": "code",
   "execution_count": 54,
   "id": "d10a9fe2",
   "metadata": {},
   "outputs": [
    {
     "data": {
      "text/plain": [
       "array([[1],\n",
       "       [2],\n",
       "       [3],\n",
       "       [2],\n",
       "       [0],\n",
       "       [1]])"
      ]
     },
     "execution_count": 54,
     "metadata": {},
     "output_type": "execute_result"
    }
   ],
   "source": [
    "matrise_1"
   ]
  },
  {
   "cell_type": "code",
   "execution_count": 55,
   "id": "157e37d9",
   "metadata": {},
   "outputs": [
    {
     "ename": "ValueError",
     "evalue": "cannot resize an array that references or is referenced\nby another array in this way.\nUse the np.resize function or refcheck=False",
     "output_type": "error",
     "traceback": [
      "\u001b[1;31m---------------------------------------------------------------------------\u001b[0m",
      "\u001b[1;31mValueError\u001b[0m                                Traceback (most recent call last)",
      "Cell \u001b[1;32mIn [55], line 1\u001b[0m\n\u001b[1;32m----> 1\u001b[0m \u001b[43mmatrise_1\u001b[49m\u001b[38;5;241;43m.\u001b[39;49m\u001b[43mresize\u001b[49m\u001b[43m(\u001b[49m\u001b[43m(\u001b[49m\u001b[38;5;241;43m4\u001b[39;49m\u001b[43m,\u001b[49m\u001b[43m \u001b[49m\u001b[38;5;241;43m2\u001b[39;49m\u001b[43m)\u001b[49m\u001b[43m)\u001b[49m\n",
      "\u001b[1;31mValueError\u001b[0m: cannot resize an array that references or is referenced\nby another array in this way.\nUse the np.resize function or refcheck=False"
     ]
    }
   ],
   "source": [
    "matrise_1.resize((4, 2))"
   ]
  },
  {
   "cell_type": "code",
   "execution_count": null,
   "id": "2eaa9d53",
   "metadata": {},
   "outputs": [],
   "source": []
  },
  {
   "cell_type": "code",
   "execution_count": null,
   "id": "37500ecd",
   "metadata": {},
   "outputs": [],
   "source": []
  },
  {
   "cell_type": "code",
   "execution_count": 56,
   "id": "5d0cd71d",
   "metadata": {},
   "outputs": [
    {
     "data": {
      "text/plain": [
       "array([ 0,  1,  2,  3,  4,  5,  6,  7,  8,  9, 10, 11, 12, 13, 14, 15, 16,\n",
       "       17, 18, 19, 20, 21, 22, 23, 24, 25, 26, 27, 28, 29, 30, 31, 32, 33,\n",
       "       34, 35, 36, 37, 38, 39, 40, 41, 42, 43, 44, 45, 46, 47, 48, 49, 50,\n",
       "       51, 52, 53, 54, 55, 56, 57, 58, 59, 60, 61, 62, 63, 64, 65, 66, 67,\n",
       "       68, 69, 70, 71, 72, 73, 74, 75, 76, 77, 78, 79, 80, 81, 82, 83, 84,\n",
       "       85, 86, 87, 88, 89, 90, 91, 92, 93, 94, 95, 96, 97, 98, 99])"
      ]
     },
     "execution_count": 56,
     "metadata": {},
     "output_type": "execute_result"
    }
   ],
   "source": [
    "tall = np.arange(100)\n",
    "tall"
   ]
  },
  {
   "cell_type": "code",
   "execution_count": 58,
   "id": "f30c19ee",
   "metadata": {},
   "outputs": [
    {
     "data": {
      "text/plain": [
       "array([[ 0,  1,  2,  3,  4,  5,  6,  7,  8,  9, 10, 11, 12, 13, 14, 15,\n",
       "        16, 17, 18, 19, 20, 21, 22, 23, 24, 25, 26, 27, 28, 29, 30, 31,\n",
       "        32, 33, 34, 35, 36, 37, 38, 39, 40, 41, 42, 43, 44, 45, 46, 47,\n",
       "        48, 49],\n",
       "       [50, 51, 52, 53, 54, 55, 56, 57, 58, 59, 60, 61, 62, 63, 64, 65,\n",
       "        66, 67, 68, 69, 70, 71, 72, 73, 74, 75, 76, 77, 78, 79, 80, 81,\n",
       "        82, 83, 84, 85, 86, 87, 88, 89, 90, 91, 92, 93, 94, 95, 96, 97,\n",
       "        98, 99]])"
      ]
     },
     "execution_count": 58,
     "metadata": {},
     "output_type": "execute_result"
    }
   ],
   "source": [
    "tall.resize((2, 50))\n",
    "tall"
   ]
  },
  {
   "cell_type": "code",
   "execution_count": 59,
   "id": "3bc6d173",
   "metadata": {},
   "outputs": [],
   "source": [
    "liste = [False, 1, \"hei\"]"
   ]
  },
  {
   "cell_type": "code",
   "execution_count": 67,
   "id": "959ddffc",
   "metadata": {},
   "outputs": [
    {
     "data": {
      "text/plain": [
       "'hei'"
      ]
     },
     "execution_count": 67,
     "metadata": {},
     "output_type": "execute_result"
    }
   ],
   "source": [
    "liste[-1]"
   ]
  },
  {
   "cell_type": "code",
   "execution_count": 68,
   "id": "6a5325ef",
   "metadata": {},
   "outputs": [
    {
     "data": {
      "text/plain": [
       "[1, 'hei']"
      ]
     },
     "execution_count": 68,
     "metadata": {},
     "output_type": "execute_result"
    }
   ],
   "source": [
    "liste[1:3]"
   ]
  },
  {
   "cell_type": "markdown",
   "id": "9535e5b8",
   "metadata": {},
   "source": [
    "## Indeksing"
   ]
  },
  {
   "cell_type": "code",
   "execution_count": 63,
   "id": "ffeecdca",
   "metadata": {},
   "outputs": [
    {
     "data": {
      "text/plain": [
       "array([1.        , 1.11111111, 1.22222222, 1.33333333, 1.44444444,\n",
       "       1.55555556, 1.66666667, 1.77777778, 1.88888889, 2.        ])"
      ]
     },
     "execution_count": 63,
     "metadata": {},
     "output_type": "execute_result"
    }
   ],
   "source": [
    "vektor = np.linspace(1, 2, 10)\n",
    "vektor"
   ]
  },
  {
   "cell_type": "markdown",
   "id": "a807b286",
   "metadata": {},
   "source": [
    "### Indeksing av vektorer"
   ]
  },
  {
   "cell_type": "code",
   "execution_count": 65,
   "id": "2d757d5e",
   "metadata": {},
   "outputs": [
    {
     "data": {
      "text/plain": [
       "2.0"
      ]
     },
     "execution_count": 65,
     "metadata": {},
     "output_type": "execute_result"
    }
   ],
   "source": [
    "# Få ut det tredje elementet\n",
    "vektor[-1]"
   ]
  },
  {
   "cell_type": "code",
   "execution_count": 66,
   "id": "4de8a0b3",
   "metadata": {},
   "outputs": [
    {
     "data": {
      "text/plain": [
       "array([1.22222222, 1.33333333, 1.44444444])"
      ]
     },
     "execution_count": 66,
     "metadata": {},
     "output_type": "execute_result"
    }
   ],
   "source": [
    "# Gi ut 2 til 4\n",
    "vektor[2:5]"
   ]
  },
  {
   "cell_type": "code",
   "execution_count": 70,
   "id": "27ad9b28",
   "metadata": {},
   "outputs": [
    {
     "data": {
      "text/plain": [
       "array([1.44444444, 1.55555556, 1.66666667, 1.77777778, 1.88888889,\n",
       "       2.        ])"
      ]
     },
     "execution_count": 70,
     "metadata": {},
     "output_type": "execute_result"
    }
   ],
   "source": [
    "# Gi ut de fire første elementene\n",
    "vektor[4:]"
   ]
  },
  {
   "cell_type": "code",
   "execution_count": 74,
   "id": "6fb4f5fd",
   "metadata": {},
   "outputs": [
    {
     "data": {
      "text/plain": [
       "array([1.        , 1.11111111, 1.22222222, 1.33333333, 1.44444444])"
      ]
     },
     "execution_count": 74,
     "metadata": {},
     "output_type": "execute_result"
    }
   ],
   "source": [
    "# Gi ut element 4 til slutten\n",
    "vektor[:5]"
   ]
  },
  {
   "cell_type": "code",
   "execution_count": 75,
   "id": "b64f11e3",
   "metadata": {},
   "outputs": [
    {
     "data": {
      "text/plain": [
       "array([1.        , 1.11111111, 1.22222222, 1.33333333, 1.44444444,\n",
       "       1.55555556, 1.66666667, 1.77777778, 1.88888889, 2.        ])"
      ]
     },
     "execution_count": 75,
     "metadata": {},
     "output_type": "execute_result"
    }
   ],
   "source": [
    "vektor"
   ]
  },
  {
   "cell_type": "code",
   "execution_count": 73,
   "id": "dc47caf6",
   "metadata": {},
   "outputs": [
    {
     "data": {
      "text/plain": [
       "array([False, False, False, False, False,  True,  True,  True,  True,\n",
       "        True])"
      ]
     },
     "execution_count": 73,
     "metadata": {},
     "output_type": "execute_result"
    }
   ],
   "source": [
    "vektor > 1.5"
   ]
  },
  {
   "cell_type": "code",
   "execution_count": 77,
   "id": "c1f75d1f",
   "metadata": {},
   "outputs": [
    {
     "data": {
      "text/plain": [
       "array([1.55555556, 1.66666667, 1.77777778, 1.88888889, 2.        ])"
      ]
     },
     "execution_count": 77,
     "metadata": {},
     "output_type": "execute_result"
    }
   ],
   "source": [
    "vektor[vektor > 1.5]"
   ]
  },
  {
   "cell_type": "code",
   "execution_count": 82,
   "id": "b10168d7",
   "metadata": {},
   "outputs": [
    {
     "data": {
      "text/plain": [
       "array([False,  True,  True,  True,  True,  True,  True,  True,  True,\n",
       "        True])"
      ]
     },
     "execution_count": 82,
     "metadata": {},
     "output_type": "execute_result"
    }
   ],
   "source": [
    "(2 >= vektor) & (vektor > 1)"
   ]
  },
  {
   "cell_type": "code",
   "execution_count": 84,
   "id": "6f67c448",
   "metadata": {},
   "outputs": [
    {
     "data": {
      "text/plain": [
       "array([1.11111111, 1.22222222, 1.33333333, 1.44444444, 1.55555556,\n",
       "       1.66666667, 1.77777778, 1.88888889])"
      ]
     },
     "execution_count": 84,
     "metadata": {},
     "output_type": "execute_result"
    }
   ],
   "source": [
    "vektor[(1.9 >= vektor) & (vektor > 1)]"
   ]
  },
  {
   "cell_type": "markdown",
   "id": "301c5046",
   "metadata": {},
   "source": [
    "### Indeksing av matriser"
   ]
  },
  {
   "cell_type": "code",
   "execution_count": 88,
   "id": "a709438d",
   "metadata": {},
   "outputs": [
    {
     "data": {
      "text/plain": [
       "array([[1, 2, 3],\n",
       "       [2, 0, 1]])"
      ]
     },
     "execution_count": 88,
     "metadata": {},
     "output_type": "execute_result"
    }
   ],
   "source": [
    "matrise_1.resize((2, 3))\n",
    "matrise_1"
   ]
  },
  {
   "cell_type": "code",
   "execution_count": 90,
   "id": "739c0c94",
   "metadata": {},
   "outputs": [
    {
     "data": {
      "text/plain": [
       "0"
      ]
     },
     "execution_count": 90,
     "metadata": {},
     "output_type": "execute_result"
    }
   ],
   "source": [
    "matrise_1[1, 1]"
   ]
  },
  {
   "cell_type": "code",
   "execution_count": 91,
   "id": "5f9634a7",
   "metadata": {},
   "outputs": [
    {
     "data": {
      "text/plain": [
       "1"
      ]
     },
     "execution_count": 91,
     "metadata": {},
     "output_type": "execute_result"
    }
   ],
   "source": [
    "matrise_1[1, 2]"
   ]
  },
  {
   "cell_type": "code",
   "execution_count": 96,
   "id": "5e1d5e1c",
   "metadata": {},
   "outputs": [
    {
     "data": {
      "text/plain": [
       "array([3, 1])"
      ]
     },
     "execution_count": 96,
     "metadata": {},
     "output_type": "execute_result"
    }
   ],
   "source": [
    "matrise_1[:, -1]"
   ]
  },
  {
   "cell_type": "code",
   "execution_count": 98,
   "id": "5153866e",
   "metadata": {},
   "outputs": [
    {
     "data": {
      "text/plain": [
       "array([2, 0, 1])"
      ]
     },
     "execution_count": 98,
     "metadata": {},
     "output_type": "execute_result"
    }
   ],
   "source": [
    "matrise_1[1, :]"
   ]
  },
  {
   "cell_type": "code",
   "execution_count": 99,
   "id": "6f4f8ee4",
   "metadata": {},
   "outputs": [
    {
     "data": {
      "text/plain": [
       "array([[1, 2, 3],\n",
       "       [2, 0, 1]])"
      ]
     },
     "execution_count": 99,
     "metadata": {},
     "output_type": "execute_result"
    }
   ],
   "source": [
    "matrise_1"
   ]
  },
  {
   "cell_type": "code",
   "execution_count": 103,
   "id": "ee1dc3af",
   "metadata": {},
   "outputs": [
    {
     "data": {
      "text/plain": [
       "array([[1, 2],\n",
       "       [2, 0]])"
      ]
     },
     "execution_count": 103,
     "metadata": {},
     "output_type": "execute_result"
    }
   ],
   "source": [
    "matrise_1[:, :2]"
   ]
  },
  {
   "cell_type": "code",
   "execution_count": 105,
   "id": "b0e72072",
   "metadata": {},
   "outputs": [
    {
     "data": {
      "text/plain": [
       "array([[False,  True,  True],\n",
       "       [ True, False, False]])"
      ]
     },
     "execution_count": 105,
     "metadata": {},
     "output_type": "execute_result"
    }
   ],
   "source": [
    "matrise_1 > 1"
   ]
  },
  {
   "cell_type": "code",
   "execution_count": null,
   "id": "066cede0",
   "metadata": {},
   "outputs": [],
   "source": []
  },
  {
   "cell_type": "code",
   "execution_count": null,
   "id": "12603558",
   "metadata": {},
   "outputs": [],
   "source": []
  },
  {
   "cell_type": "code",
   "execution_count": null,
   "id": "0fbac2cb",
   "metadata": {},
   "outputs": [],
   "source": []
  },
  {
   "cell_type": "code",
   "execution_count": 107,
   "id": "a88e8a18",
   "metadata": {},
   "outputs": [
    {
     "data": {
      "text/plain": [
       "array([ 1,  0, -1,  5,  8])"
      ]
     },
     "execution_count": 107,
     "metadata": {},
     "output_type": "execute_result"
    }
   ],
   "source": [
    "np.array([1, 0, -1, 5, 8])"
   ]
  },
  {
   "cell_type": "markdown",
   "id": "49d1d1bb",
   "metadata": {},
   "source": [
    "## Oppgave \n",
    "i) Gi ut de siste tre tallene av vektoren over.\n",
    "\n",
    "ii) Gi ut alle tall større enn 2."
   ]
  },
  {
   "cell_type": "code",
   "execution_count": 109,
   "id": "0c0a5be8",
   "metadata": {},
   "outputs": [],
   "source": [
    "vec = np.array([1, 0, -1, 5, 8])"
   ]
  },
  {
   "cell_type": "code",
   "execution_count": 111,
   "id": "69dec8f2",
   "metadata": {},
   "outputs": [
    {
     "data": {
      "text/plain": [
       "array([-1,  5,  8])"
      ]
     },
     "execution_count": 111,
     "metadata": {},
     "output_type": "execute_result"
    }
   ],
   "source": [
    "vec[-3:]"
   ]
  },
  {
   "cell_type": "code",
   "execution_count": 113,
   "id": "018c54b3",
   "metadata": {},
   "outputs": [
    {
     "data": {
      "text/plain": [
       "array([-1,  5,  8])"
      ]
     },
     "execution_count": 113,
     "metadata": {},
     "output_type": "execute_result"
    }
   ],
   "source": [
    "vec[2:]"
   ]
  },
  {
   "cell_type": "code",
   "execution_count": 115,
   "id": "378d9483",
   "metadata": {},
   "outputs": [
    {
     "data": {
      "text/plain": [
       "array([-1,  5,  8])"
      ]
     },
     "execution_count": 115,
     "metadata": {},
     "output_type": "execute_result"
    }
   ],
   "source": [
    "vec[2:5]"
   ]
  },
  {
   "cell_type": "code",
   "execution_count": 116,
   "id": "7950fc37",
   "metadata": {},
   "outputs": [
    {
     "data": {
      "text/plain": [
       "array([5, 8])"
      ]
     },
     "execution_count": 116,
     "metadata": {},
     "output_type": "execute_result"
    }
   ],
   "source": [
    "vec[vec > 2]"
   ]
  },
  {
   "cell_type": "markdown",
   "id": "2e1ae00a",
   "metadata": {},
   "source": [
    "### Sette sammen matriser"
   ]
  },
  {
   "cell_type": "code",
   "execution_count": 117,
   "id": "fdaf110d",
   "metadata": {},
   "outputs": [
    {
     "data": {
      "text/plain": [
       "array([[1, 2, 3],\n",
       "       [2, 0, 1]])"
      ]
     },
     "execution_count": 117,
     "metadata": {},
     "output_type": "execute_result"
    }
   ],
   "source": [
    "matrise_1"
   ]
  },
  {
   "cell_type": "code",
   "execution_count": 118,
   "id": "c31002fe",
   "metadata": {},
   "outputs": [],
   "source": [
    "vektor_1 = np.array([8, 7, 9])"
   ]
  },
  {
   "cell_type": "code",
   "execution_count": 122,
   "id": "903354c7",
   "metadata": {},
   "outputs": [
    {
     "data": {
      "text/plain": [
       "array([[1, 2, 3],\n",
       "       [2, 0, 1],\n",
       "       [1, 2, 3],\n",
       "       [2, 0, 1],\n",
       "       [8, 7, 9],\n",
       "       [8, 7, 9]])"
      ]
     },
     "execution_count": 122,
     "metadata": {},
     "output_type": "execute_result"
    }
   ],
   "source": [
    "np.vstack((matrise_1, matrise_1, vektor_1, vektor_1))"
   ]
  },
  {
   "cell_type": "code",
   "execution_count": 123,
   "id": "5d404973",
   "metadata": {},
   "outputs": [
    {
     "data": {
      "text/plain": [
       "array([[1, 2, 3],\n",
       "       [2, 0, 1]])"
      ]
     },
     "execution_count": 123,
     "metadata": {},
     "output_type": "execute_result"
    }
   ],
   "source": [
    "matrise_1"
   ]
  },
  {
   "cell_type": "code",
   "execution_count": 124,
   "id": "547c312a",
   "metadata": {},
   "outputs": [
    {
     "data": {
      "text/plain": [
       "array([[1],\n",
       "       [2]])"
      ]
     },
     "execution_count": 124,
     "metadata": {},
     "output_type": "execute_result"
    }
   ],
   "source": [
    "kolonnevektor = np.array([[1], [2]])\n",
    "kolonnevektor"
   ]
  },
  {
   "cell_type": "code",
   "execution_count": 128,
   "id": "b930acaa",
   "metadata": {},
   "outputs": [
    {
     "data": {
      "text/plain": [
       "array([[1, 2, 3, 1, 1],\n",
       "       [2, 0, 1, 2, 2]])"
      ]
     },
     "execution_count": 128,
     "metadata": {},
     "output_type": "execute_result"
    }
   ],
   "source": [
    "np.hstack((matrise_1, kolonnevektor, kolonnevektor))"
   ]
  },
  {
   "cell_type": "code",
   "execution_count": 129,
   "id": "6eadc712",
   "metadata": {},
   "outputs": [
    {
     "ename": "ValueError",
     "evalue": "all the input arrays must have same number of dimensions, but the array at index 0 has 2 dimension(s) and the array at index 1 has 1 dimension(s)",
     "output_type": "error",
     "traceback": [
      "\u001b[1;31m---------------------------------------------------------------------------\u001b[0m",
      "\u001b[1;31mValueError\u001b[0m                                Traceback (most recent call last)",
      "Cell \u001b[1;32mIn [129], line 1\u001b[0m\n\u001b[1;32m----> 1\u001b[0m \u001b[43mnp\u001b[49m\u001b[38;5;241;43m.\u001b[39;49m\u001b[43mhstack\u001b[49m\u001b[43m(\u001b[49m\u001b[43m(\u001b[49m\u001b[43mmatrise_1\u001b[49m\u001b[43m,\u001b[49m\u001b[43m \u001b[49m\u001b[43mvektor_1\u001b[49m\u001b[43m)\u001b[49m\u001b[43m)\u001b[49m\n",
      "File \u001b[1;32m<__array_function__ internals>:5\u001b[0m, in \u001b[0;36mhstack\u001b[1;34m(*args, **kwargs)\u001b[0m\n",
      "File \u001b[1;32mC:\\ProgramData\\Anaconda3\\lib\\site-packages\\numpy\\core\\shape_base.py:345\u001b[0m, in \u001b[0;36mhstack\u001b[1;34m(tup)\u001b[0m\n\u001b[0;32m    343\u001b[0m     \u001b[38;5;28;01mreturn\u001b[39;00m _nx\u001b[38;5;241m.\u001b[39mconcatenate(arrs, \u001b[38;5;241m0\u001b[39m)\n\u001b[0;32m    344\u001b[0m \u001b[38;5;28;01melse\u001b[39;00m:\n\u001b[1;32m--> 345\u001b[0m     \u001b[38;5;28;01mreturn\u001b[39;00m \u001b[43m_nx\u001b[49m\u001b[38;5;241;43m.\u001b[39;49m\u001b[43mconcatenate\u001b[49m\u001b[43m(\u001b[49m\u001b[43marrs\u001b[49m\u001b[43m,\u001b[49m\u001b[43m \u001b[49m\u001b[38;5;241;43m1\u001b[39;49m\u001b[43m)\u001b[49m\n",
      "File \u001b[1;32m<__array_function__ internals>:5\u001b[0m, in \u001b[0;36mconcatenate\u001b[1;34m(*args, **kwargs)\u001b[0m\n",
      "\u001b[1;31mValueError\u001b[0m: all the input arrays must have same number of dimensions, but the array at index 0 has 2 dimension(s) and the array at index 1 has 1 dimension(s)"
     ]
    }
   ],
   "source": [
    "np.hstack((matrise_1, vektor_1))"
   ]
  },
  {
   "cell_type": "markdown",
   "id": "3c4173fb",
   "metadata": {},
   "source": [
    "## Plotting\n",
    "Nettside: https://matplotlib.org/stable/tutorials/pyplot.html"
   ]
  },
  {
   "cell_type": "code",
   "execution_count": 130,
   "id": "3f0be41a",
   "metadata": {},
   "outputs": [],
   "source": [
    "import matplotlib.pyplot as plt"
   ]
  },
  {
   "cell_type": "markdown",
   "id": "6259a81a",
   "metadata": {},
   "source": [
    "### Funksjonsplot i en dimensjon"
   ]
  },
  {
   "cell_type": "code",
   "execution_count": 131,
   "id": "a46362c9",
   "metadata": {},
   "outputs": [],
   "source": [
    "start_punkt = 0\n",
    "ende_punkt = 2 * np.pi"
   ]
  },
  {
   "cell_type": "code",
   "execution_count": 141,
   "id": "8e5e66c4",
   "metadata": {},
   "outputs": [
    {
     "data": {
      "text/plain": [
       "array([0.        , 0.06346652, 0.12693304, 0.19039955, 0.25386607,\n",
       "       0.31733259, 0.38079911, 0.44426563, 0.50773215, 0.57119866,\n",
       "       0.63466518, 0.6981317 , 0.76159822, 0.82506474, 0.88853126,\n",
       "       0.95199777, 1.01546429, 1.07893081, 1.14239733, 1.20586385,\n",
       "       1.26933037, 1.33279688, 1.3962634 , 1.45972992, 1.52319644,\n",
       "       1.58666296, 1.65012947, 1.71359599, 1.77706251, 1.84052903,\n",
       "       1.90399555, 1.96746207, 2.03092858, 2.0943951 , 2.15786162,\n",
       "       2.22132814, 2.28479466, 2.34826118, 2.41172769, 2.47519421,\n",
       "       2.53866073, 2.60212725, 2.66559377, 2.72906028, 2.7925268 ,\n",
       "       2.85599332, 2.91945984, 2.98292636, 3.04639288, 3.10985939,\n",
       "       3.17332591, 3.23679243, 3.30025895, 3.36372547, 3.42719199,\n",
       "       3.4906585 , 3.55412502, 3.61759154, 3.68105806, 3.74452458,\n",
       "       3.8079911 , 3.87145761, 3.93492413, 3.99839065, 4.06185717,\n",
       "       4.12532369, 4.1887902 , 4.25225672, 4.31572324, 4.37918976,\n",
       "       4.44265628, 4.5061228 , 4.56958931, 4.63305583, 4.69652235,\n",
       "       4.75998887, 4.82345539, 4.88692191, 4.95038842, 5.01385494,\n",
       "       5.07732146, 5.14078798, 5.2042545 , 5.26772102, 5.33118753,\n",
       "       5.39465405, 5.45812057, 5.52158709, 5.58505361, 5.64852012,\n",
       "       5.71198664, 5.77545316, 5.83891968, 5.9023862 , 5.96585272,\n",
       "       6.02931923, 6.09278575, 6.15625227, 6.21971879, 6.28318531])"
      ]
     },
     "execution_count": 141,
     "metadata": {},
     "output_type": "execute_result"
    }
   ],
   "source": [
    "t = np.linspace(start_punkt, ende_punkt, 100)\n",
    "t"
   ]
  },
  {
   "cell_type": "code",
   "execution_count": 142,
   "id": "e28584c4",
   "metadata": {},
   "outputs": [
    {
     "data": {
      "text/plain": [
       "array([ 1.        ,  0.99798668,  0.99195481,  0.9819287 ,  0.9679487 ,\n",
       "        0.95007112,  0.92836793,  0.90292654,  0.87384938,  0.84125353,\n",
       "        0.80527026,  0.76604444,  0.72373404,  0.67850941,  0.63055267,\n",
       "        0.58005691,  0.52722547,  0.47227107,  0.41541501,  0.35688622,\n",
       "        0.29692038,  0.23575894,  0.17364818,  0.1108382 ,  0.04758192,\n",
       "       -0.01586596, -0.07924996, -0.14231484, -0.20480667, -0.26647381,\n",
       "       -0.32706796, -0.38634513, -0.44406661, -0.5       , -0.55392006,\n",
       "       -0.60560969, -0.65486073, -0.70147489, -0.74526445, -0.78605309,\n",
       "       -0.82367658, -0.85798341, -0.88883545, -0.91610846, -0.93969262,\n",
       "       -0.95949297, -0.97542979, -0.98743889, -0.99547192, -0.99949654,\n",
       "       -0.99949654, -0.99547192, -0.98743889, -0.97542979, -0.95949297,\n",
       "       -0.93969262, -0.91610846, -0.88883545, -0.85798341, -0.82367658,\n",
       "       -0.78605309, -0.74526445, -0.70147489, -0.65486073, -0.60560969,\n",
       "       -0.55392006, -0.5       , -0.44406661, -0.38634513, -0.32706796,\n",
       "       -0.26647381, -0.20480667, -0.14231484, -0.07924996, -0.01586596,\n",
       "        0.04758192,  0.1108382 ,  0.17364818,  0.23575894,  0.29692038,\n",
       "        0.35688622,  0.41541501,  0.47227107,  0.52722547,  0.58005691,\n",
       "        0.63055267,  0.67850941,  0.72373404,  0.76604444,  0.80527026,\n",
       "        0.84125353,  0.87384938,  0.90292654,  0.92836793,  0.95007112,\n",
       "        0.9679487 ,  0.9819287 ,  0.99195481,  0.99798668,  1.        ])"
      ]
     },
     "execution_count": 142,
     "metadata": {},
     "output_type": "execute_result"
    }
   ],
   "source": [
    "funksjons_verdier = np.cos(t)\n",
    "funksjons_verdier"
   ]
  },
  {
   "cell_type": "code",
   "execution_count": 143,
   "id": "03b9a4e0",
   "metadata": {},
   "outputs": [
    {
     "data": {
      "text/plain": [
       "[<matplotlib.lines.Line2D at 0x1ee0c2fe2e0>]"
      ]
     },
     "execution_count": 143,
     "metadata": {},
     "output_type": "execute_result"
    },
    {
     "data": {
      "image/png": "[encoded data removed]",
      "text/plain": [
       "<Figure size 640x480 with 1 Axes>"
      ]
     },
     "metadata": {},
     "output_type": "display_data"
    }
   ],
   "source": [
    "plt.plot(t, funksjons_verdier)"
   ]
  },
  {
   "cell_type": "markdown",
   "id": "d5dad92c",
   "metadata": {},
   "source": [
    "### Kan også plotte kurver"
   ]
  },
  {
   "cell_type": "code",
   "execution_count": null,
   "id": "bb88fd90",
   "metadata": {},
   "outputs": [],
   "source": []
  },
  {
   "cell_type": "code",
   "execution_count": null,
   "id": "f74dd4b9",
   "metadata": {},
   "outputs": [],
   "source": []
  },
  {
   "cell_type": "code",
   "execution_count": null,
   "id": "3ddb7cec",
   "metadata": {},
   "outputs": [],
   "source": []
  },
  {
   "cell_type": "markdown",
   "id": "6c1353e9",
   "metadata": {},
   "source": [
    "### Overflateplot\n",
    "\n",
    "La $f(x,y) = \\exp( xy)$. "
   ]
  },
  {
   "cell_type": "code",
   "execution_count": 151,
   "id": "25dee4bd",
   "metadata": {},
   "outputs": [],
   "source": [
    "x_rand = np.linspace(0, 3, 40)\n",
    "y_rand = np.linspace(1, 3, 40)"
   ]
  },
  {
   "cell_type": "code",
   "execution_count": 152,
   "id": "512ff956",
   "metadata": {},
   "outputs": [],
   "source": [
    "x, y = np.meshgrid(x_rand, y_rand)"
   ]
  },
  {
   "cell_type": "code",
   "execution_count": 153,
   "id": "7f0ffdc2",
   "metadata": {},
   "outputs": [
    {
     "data": {
      "text/plain": [
       "array([[1.00000000e+00, 1.07995900e+00, 1.16631144e+00, ...,\n",
       "        1.72214181e+01, 1.85984254e+01, 2.00855369e+01],\n",
       "       [1.00000000e+00, 1.08422761e+00, 1.17554950e+00, ...,\n",
       "        1.99276946e+01, 2.16061566e+01, 2.34259915e+01],\n",
       "       [1.00000000e+00, 1.08851309e+00, 1.18486074e+00, ...,\n",
       "        2.30592516e+01, 2.51002971e+01, 2.73220019e+01],\n",
       "       ...,\n",
       "       [1.00000000e+00, 1.24967021e+00, 1.56167563e+00, ...,\n",
       "        3.81443687e+03, 4.76678812e+03, 5.95691312e+03],\n",
       "       [1.00000000e+00, 1.25460961e+00, 1.57404528e+00, ...,\n",
       "        4.41386027e+03, 5.53767152e+03, 6.94761592e+03],\n",
       "       [1.00000000e+00, 1.25956854e+00, 1.58651290e+00, ...,\n",
       "        5.10748065e+03, 6.43322193e+03, 8.10308393e+03]])"
      ]
     },
     "execution_count": 153,
     "metadata": {},
     "output_type": "execute_result"
    }
   ],
   "source": [
    "func = np.exp(x * y)\n",
    "func"
   ]
  },
  {
   "cell_type": "code",
   "execution_count": 155,
   "id": "958b9a12",
   "metadata": {},
   "outputs": [
    {
     "data": {
      "text/plain": [
       "<mpl_toolkits.mplot3d.art3d.Poly3DCollection at 0x1ee0dfba970>"
      ]
     },
     "execution_count": 155,
     "metadata": {},
     "output_type": "execute_result"
    },
    {
     "data": {
      "image/png": "[encoded data removed]",
      "text/plain": [
       "<Figure size 640x480 with 1 Axes>"
      ]
     },
     "metadata": {},
     "output_type": "display_data"
    }
   ],
   "source": [
    "ax = plt.axes(projection='3d')\n",
    "ax.plot_surface(x, y, func, cmap = plt.cm.cividis)"
   ]
  },
  {
   "cell_type": "code",
   "execution_count": null,
   "id": "d8e04ffc",
   "metadata": {},
   "outputs": [],
   "source": []
  },
  {
   "cell_type": "code",
   "execution_count": null,
   "id": "453c829f",
   "metadata": {},
   "outputs": [],
   "source": []
  },
  {
   "cell_type": "markdown",
   "id": "4d1834e0",
   "metadata": {},
   "source": [
    "### Linejær algebra\n",
    "\n",
    "\n",
    "Mer informasjon om dette kan du finne her: \n",
    "- https://www.geeksforgeeks.org/numpy-linear-algebra/\n",
    "- https://numpy.org/doc/stable/reference/routines.linalg.html"
   ]
  },
  {
   "cell_type": "code",
   "execution_count": null,
   "id": "8e8544dd",
   "metadata": {},
   "outputs": [],
   "source": [
    "import numpy.linalg as linalg"
   ]
  },
  {
   "cell_type": "code",
   "execution_count": 10,
   "id": "913db6d6",
   "metadata": {},
   "outputs": [],
   "source": [
    "matrise_2 = np.array([[1, 2, 3], [0, 2, 4], [0, 0, 1]])"
   ]
  },
  {
   "cell_type": "code",
   "execution_count": null,
   "id": "27608d6d",
   "metadata": {},
   "outputs": [],
   "source": [
    "# Invers av matrise\n",
    "\n",
    "linalg.inv(matrise_2)"
   ]
  },
  {
   "cell_type": "code",
   "execution_count": null,
   "id": "49b67728",
   "metadata": {},
   "outputs": [],
   "source": [
    "# Determinant\n",
    "linalg.det(matrise_2)"
   ]
  },
  {
   "cell_type": "markdown",
   "id": "98463c9f",
   "metadata": {},
   "source": [
    "#### Løse ligningsettet\n",
    "$$\\begin{pmatrix}1& 2& 3\\\\ 0& 2& 4\\\\ 0& 0& 1\\end{pmatrix}\\begin{pmatrix}x\\\\y\\\\z\\end{pmatrix}=\\begin{pmatrix}1\\\\2\\\\0\\end{pmatrix}$$"
   ]
  },
  {
   "cell_type": "code",
   "execution_count": 13,
   "id": "c0e7d739",
   "metadata": {},
   "outputs": [
    {
     "data": {
      "text/plain": [
       "array([1, 2, 0])"
      ]
     },
     "execution_count": 13,
     "metadata": {},
     "output_type": "execute_result"
    }
   ],
   "source": [
    "y = np.array([1, 2, 0])\n",
    "y"
   ]
  },
  {
   "cell_type": "code",
   "execution_count": null,
   "id": "938e22cb",
   "metadata": {},
   "outputs": [],
   "source": [
    "matrise_2"
   ]
  },
  {
   "cell_type": "code",
   "execution_count": null,
   "id": "68f99f69",
   "metadata": {},
   "outputs": [],
   "source": [
    "# Løse ligninger\n",
    "linalg.solve(matrise_2, y)"
   ]
  },
  {
   "cell_type": "markdown",
   "id": "fcc21acf",
   "metadata": {},
   "source": [
    "### Komplekse tall\n",
    "Imaginære enheten er 1j i numpy."
   ]
  },
  {
   "cell_type": "code",
   "execution_count": null,
   "id": "b24237e9",
   "metadata": {},
   "outputs": [],
   "source": [
    "z = 1j -3\n",
    "w = (1j+4)/2\n",
    "\n",
    "w"
   ]
  },
  {
   "cell_type": "code",
   "execution_count": null,
   "id": "feddc456",
   "metadata": {},
   "outputs": [],
   "source": [
    "z * w"
   ]
  },
  {
   "cell_type": "code",
   "execution_count": null,
   "id": "5e651efc",
   "metadata": {},
   "outputs": [],
   "source": [
    "np.abs(z)"
   ]
  },
  {
   "cell_type": "code",
   "execution_count": null,
   "id": "a35d2546",
   "metadata": {},
   "outputs": [],
   "source": [
    "np.real(z)"
   ]
  },
  {
   "cell_type": "code",
   "execution_count": null,
   "id": "6cdb5214",
   "metadata": {},
   "outputs": [],
   "source": [
    "np.imag(z)"
   ]
  },
  {
   "cell_type": "code",
   "execution_count": null,
   "id": "a9226935",
   "metadata": {},
   "outputs": [],
   "source": [
    "# Kompleks vektor\n",
    "complex_vec = np.array([1j -3, (1j+4)/2, 5j+1])\n",
    "complex_vec"
   ]
  },
  {
   "cell_type": "code",
   "execution_count": null,
   "id": "80164ef0",
   "metadata": {},
   "outputs": [],
   "source": [
    "# Absolutverdi av hvert av de komplekse tallet.\n",
    "np.abs(complex_vec)"
   ]
  },
  {
   "cell_type": "code",
   "execution_count": null,
   "id": "800e356d",
   "metadata": {},
   "outputs": [],
   "source": [
    "# Realdelen til hver av de komplekse tallene\n",
    "np.real(complex_vec)"
   ]
  },
  {
   "cell_type": "code",
   "execution_count": null,
   "id": "9b5c2d3b",
   "metadata": {},
   "outputs": [],
   "source": [
    "# Imaginærdelen til hver av de komplekse tallene i vektoren\n",
    "np.imag(complex_vec)"
   ]
  },
  {
   "cell_type": "code",
   "execution_count": null,
   "id": "ace26fa7",
   "metadata": {},
   "outputs": [],
   "source": []
  }
 ],
 "metadata": {
  "kernelspec": {
   "display_name": "Python 3 (ipykernel)",
   "language": "python",
   "name": "python3"
  },
  "language_info": {
   "codemirror_mode": {
    "name": "ipython",
    "version": 3
   },
   "file_extension": ".py",
   "mimetype": "text/x-python",
   "name": "python",
   "nbconvert_exporter": "python",
   "pygments_lexer": "ipython3",
   "version": "3.9.15"
  }
 },
 "nbformat": 4,
 "nbformat_minor": 5
}
