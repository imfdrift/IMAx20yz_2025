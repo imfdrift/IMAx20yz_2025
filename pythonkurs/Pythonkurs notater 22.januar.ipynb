{
 "cells": [
  {
   "cell_type": "markdown",
   "id": "a88fcb91-24eb-4f20-92b1-60ae5fefd47f",
   "metadata": {},
   "source": [
    "# Python kræsjkurs dag 2"
   ]
  },
  {
   "cell_type": "markdown",
   "id": "9a0454c3",
   "metadata": {},
   "source": [
    "#### kl.17:15-19:00 22.01.2025"
   ]
  },
  {
   "cell_type": "markdown",
   "id": "fbe25bbe-9fca-41c7-8564-09ec68048eb4",
   "metadata": {},
   "source": [
    "## Lister og tupler"
   ]
  },
  {
   "cell_type": "code",
   "execution_count": null,
   "id": "f27bbfc4",
   "metadata": {},
   "outputs": [],
   "source": [
    "element_1 = 1\n",
    "element_2 = False\n",
    "element_3 = \"Hei!\""
   ]
  },
  {
   "cell_type": "code",
   "execution_count": null,
   "id": "14f68747",
   "metadata": {},
   "outputs": [],
   "source": [
    "liste = [element_1, element_2, element_3]\n",
    "liste"
   ]
  },
  {
   "cell_type": "code",
   "execution_count": null,
   "id": "b2e4e982",
   "metadata": {},
   "outputs": [],
   "source": [
    "tupel = (element_1, element_2, element_3)\n",
    "tupel"
   ]
  },
  {
   "cell_type": "markdown",
   "id": "a37994a8-28f8-451e-a04f-aae7750057c8",
   "metadata": {},
   "source": [
    "### Indeksing"
   ]
  },
  {
   "cell_type": "code",
   "execution_count": null,
   "id": "bf843794",
   "metadata": {},
   "outputs": [],
   "source": [
    "liste[1]"
   ]
  },
  {
   "cell_type": "code",
   "execution_count": null,
   "id": "9ca2e85e",
   "metadata": {},
   "outputs": [],
   "source": [
    "liste[2]"
   ]
  },
  {
   "cell_type": "code",
   "execution_count": null,
   "id": "52e286a2",
   "metadata": {},
   "outputs": [],
   "source": [
    "tupel[1]"
   ]
  },
  {
   "cell_type": "code",
   "execution_count": null,
   "id": "cb67ee0f",
   "metadata": {},
   "outputs": [],
   "source": [
    "tupel[0]"
   ]
  },
  {
   "cell_type": "code",
   "execution_count": null,
   "id": "bebdd531",
   "metadata": {},
   "outputs": [],
   "source": [
    "liste[3]"
   ]
  },
  {
   "cell_type": "code",
   "execution_count": null,
   "id": "dc06beab",
   "metadata": {},
   "outputs": [],
   "source": [
    "liste[2] = \"Hade!\""
   ]
  },
  {
   "cell_type": "code",
   "execution_count": null,
   "id": "c795a885",
   "metadata": {},
   "outputs": [],
   "source": [
    "print(liste)"
   ]
  },
  {
   "cell_type": "code",
   "execution_count": null,
   "id": "f38b8f80",
   "metadata": {},
   "outputs": [],
   "source": [
    "tupel[2] = 'Hade!'"
   ]
  },
  {
   "cell_type": "markdown",
   "id": "44706b69-7dce-445d-825f-ede4d296ff33",
   "metadata": {},
   "source": [
    "### Negativ indeksing"
   ]
  },
  {
   "cell_type": "code",
   "execution_count": null,
   "id": "f5ddcb44-0a00-486d-b614-5258efbe42f4",
   "metadata": {},
   "outputs": [],
   "source": [
    "liste"
   ]
  },
  {
   "cell_type": "code",
   "execution_count": null,
   "id": "a42dd661",
   "metadata": {},
   "outputs": [],
   "source": [
    "liste[-1]"
   ]
  },
  {
   "cell_type": "code",
   "execution_count": null,
   "id": "fac76d5d",
   "metadata": {},
   "outputs": [],
   "source": [
    "liste[-2]"
   ]
  },
  {
   "cell_type": "code",
   "execution_count": null,
   "id": "7d9ac758",
   "metadata": {},
   "outputs": [],
   "source": [
    "liste[-3]"
   ]
  },
  {
   "cell_type": "code",
   "execution_count": null,
   "id": "4765f1a1",
   "metadata": {},
   "outputs": [],
   "source": [
    "liste[-4]"
   ]
  },
  {
   "cell_type": "markdown",
   "id": "5cd29a15",
   "metadata": {},
   "source": [
    "#### Oppgave\n",
    "\n",
    "Lag en liten handleliste som inneholder: brød, melk og ost."
   ]
  },
  {
   "cell_type": "code",
   "execution_count": null,
   "id": "fadc9a98",
   "metadata": {},
   "outputs": [],
   "source": [
    "handleliste = [\"brød\", \"melk\", \"ost\"]"
   ]
  },
  {
   "cell_type": "markdown",
   "id": "41c5798e-6d42-4f57-a0bf-e4c5f61ed874",
   "metadata": {},
   "source": [
    "## Løkker\n",
    "Hvordan gjenta handlinger?\n",
    "### For-løkker\n",
    "\n",
    "#### Eksempel\n",
    "Skriv ut tallene fra 1 til 100."
   ]
  },
  {
   "cell_type": "code",
   "execution_count": null,
   "id": "3f4101a9",
   "metadata": {},
   "outputs": [],
   "source": [
    "for tall in range(1, 101):\n",
    "    print(tall)"
   ]
  },
  {
   "cell_type": "markdown",
   "id": "ce347d5a-8b65-493a-ba1d-5fa6e3207dab",
   "metadata": {},
   "source": [
    "#### Eksempel \n",
    "Skriv ut elementene i følgende handleliste."
   ]
  },
  {
   "cell_type": "code",
   "execution_count": null,
   "id": "312822ba-27c3-4857-9f24-9b82899f1c57",
   "metadata": {},
   "outputs": [],
   "source": [
    "handleliste = [\"Melk\", \"Ost\", \"9 Epler\", \"Pære\"]"
   ]
  },
  {
   "cell_type": "code",
   "execution_count": null,
   "id": "9bbcc733",
   "metadata": {
    "scrolled": true
   },
   "outputs": [],
   "source": [
    "for mat in handleliste:\n",
    "    print(mat)"
   ]
  },
  {
   "cell_type": "markdown",
   "id": "ff6a04bb-1c2e-49fe-9664-54cd389e1ca4",
   "metadata": {},
   "source": [
    "#### Skriv ut alle tallene som er større enn 25"
   ]
  },
  {
   "cell_type": "code",
   "execution_count": null,
   "id": "aaf3f3f1-d9c4-4cef-a6b5-02d82fd00036",
   "metadata": {},
   "outputs": [],
   "source": [
    "mange_tall = [-1, 100, 30, 80, 10, 2, -100, 40, 70]\n",
    "over_25 = []"
   ]
  },
  {
   "cell_type": "code",
   "execution_count": null,
   "id": "1e15310c",
   "metadata": {},
   "outputs": [],
   "source": [
    "for tall in mange_tall:\n",
    "    if tall > 25:\n",
    "        over_25.append(tall)\n",
    "\n",
    "print(over_25)"
   ]
  },
  {
   "cell_type": "code",
   "execution_count": null,
   "id": "4ae0384b",
   "metadata": {},
   "outputs": [],
   "source": []
  },
  {
   "cell_type": "markdown",
   "id": "ae6c22d0-3ac1-42ae-93af-563d7419eb72",
   "metadata": {},
   "source": [
    "#### Oppgave trinnskatt\n",
    "Trinnskatt beskrives her: https://www.skatteetaten.no/satser/trinnskatt/.\n",
    "\n",
    "a) Lag to lister med trinnskatt og grensene for trinnskatten.\n",
    "\n",
    "b) Finn skatten til en person med inntekt på 10'000'000 NOK ved å bruke en for løkke."
   ]
  },
  {
   "cell_type": "code",
   "execution_count": null,
   "id": "3a94f42f-3c38-40cd-a803-bcf80e583205",
   "metadata": {},
   "outputs": [],
   "source": [
    "trinnskatt_prosent = [0, 1.7, 4, 13.7, 16.7, 17.7]\n",
    "trinnskatt_nedre_grenser = [0, 217401, 306051, 697151, 942401, 1410751]"
   ]
  },
  {
   "cell_type": "code",
   "execution_count": null,
   "id": "642eda5b-379f-43dc-a953-ccd73b108ffa",
   "metadata": {},
   "outputs": [],
   "source": [
    "inntekt = 10000000\n",
    "skatt = 0\n",
    "ikke_beskattet = inntekt\n",
    "\n",
    "for trinn in range(6):\n",
    "    if ikke_beskattet >= trinnskatt_nedre_grenser[-trinn-1]:\n",
    "        skatt = skatt + (ikke_beskattet-trinnskatt_nedre_grenser[-trinn-1])*trinnskatt_prosent[-trinn-1]/100\n",
    "        ikke_beskattet = trinnskatt_nedre_grenser[-trinn-1] - 1\n",
    "        \n",
    "        \n",
    "print(skatt)"
   ]
  },
  {
   "cell_type": "markdown",
   "id": "e7c09436-1df3-438e-9e46-6d9a2b49d928",
   "metadata": {},
   "source": [
    "### While-løkker\n",
    "Brukes når vi ikke vet hvor mange ganger den skal kjøres."
   ]
  },
  {
   "cell_type": "markdown",
   "id": "8dcf8b77-b3cb-4aa2-a4aa-2593e60d2a1b",
   "metadata": {},
   "source": [
    "#### Eksempel 1\n",
    "Se om feilen er over terskelverdien."
   ]
  },
  {
   "cell_type": "code",
   "execution_count": null,
   "id": "2010e3dd-4f40-42f4-9e4e-fc3a6b61393f",
   "metadata": {},
   "outputs": [],
   "source": [
    "feilledd = list(range(1, 100))\n",
    "print(feilledd)"
   ]
  },
  {
   "cell_type": "code",
   "execution_count": null,
   "id": "be131bc7-0128-428d-b11d-29cfbb4ad186",
   "metadata": {},
   "outputs": [],
   "source": [
    "indeks = 0"
   ]
  },
  {
   "cell_type": "code",
   "execution_count": null,
   "id": "51132ceb-039e-4521-9a59-ba91b6a7ba06",
   "metadata": {},
   "outputs": [],
   "source": [
    "terskelverdi = 25\n",
    "\n",
    "while feilledd[indeks] < terskelverdi:\n",
    "    print(feilledd[indeks])\n",
    "    indeks += 1"
   ]
  },
  {
   "cell_type": "markdown",
   "id": "decad716-cd06-4423-aa7a-5905952cddd4",
   "metadata": {},
   "source": [
    "#### Eksempel 2\n",
    "\n",
    "Lag alle fibonacci tallene under 100.\n",
    "\n",
    "https://en.wikipedia.org/wiki/Fibonacci_sequence"
   ]
  },
  {
   "cell_type": "code",
   "execution_count": 9,
   "id": "78ca449b-885a-4e62-8c16-c0894a14eab1",
   "metadata": {},
   "outputs": [],
   "source": [
    "a_n = 0\n",
    "a_n_1 = 1"
   ]
  },
  {
   "cell_type": "code",
   "execution_count": 10,
   "id": "21bb5016-5042-42ea-9118-3df43ce0cc59",
   "metadata": {},
   "outputs": [
    {
     "name": "stdout",
     "output_type": "stream",
     "text": [
      "1\n",
      "1\n",
      "2\n",
      "3\n",
      "5\n",
      "8\n",
      "13\n",
      "21\n",
      "34\n",
      "55\n",
      "89\n",
      "144\n",
      "233\n",
      "377\n",
      "610\n",
      "987\n"
     ]
    }
   ],
   "source": [
    "while a_n_1 < 1200:\n",
    "    a_n_2 = a_n_1 + a_n\n",
    "    a_n = a_n_1\n",
    "    a_n_1 = a_n_2\n",
    "    \n",
    "    print(a_n)"
   ]
  },
  {
   "cell_type": "markdown",
   "id": "8deb6978-52c9-45e2-ad1c-c4683f998f0e",
   "metadata": {},
   "source": [
    "## Numpy"
   ]
  },
  {
   "cell_type": "code",
   "execution_count": 11,
   "id": "505bacbe-d2c4-40b8-8ef0-5f76ff9c417d",
   "metadata": {},
   "outputs": [],
   "source": [
    "# Pakkeimport for mer funksjonalitet\n",
    "import numpy as np"
   ]
  },
  {
   "cell_type": "markdown",
   "id": "b42947c7-c91c-466d-bff5-81f151887474",
   "metadata": {},
   "source": [
    "### Vektoroperasjoner"
   ]
  },
  {
   "cell_type": "code",
   "execution_count": 12,
   "id": "f18273ad-8c74-4dad-a4c2-b9210d48edc5",
   "metadata": {},
   "outputs": [
    {
     "data": {
      "text/plain": [
       "array([1, 2, 3, 4])"
      ]
     },
     "execution_count": 12,
     "metadata": {},
     "output_type": "execute_result"
    }
   ],
   "source": [
    "vektor_1 = np.array([1, 2, 3, 4])\n",
    "vektor_1"
   ]
  },
  {
   "cell_type": "code",
   "execution_count": 13,
   "id": "b9e62634-29ee-453e-ada7-98f540ffed4d",
   "metadata": {},
   "outputs": [
    {
     "data": {
      "text/plain": [
       "array([3, 2, 1, 0])"
      ]
     },
     "execution_count": 13,
     "metadata": {},
     "output_type": "execute_result"
    }
   ],
   "source": [
    "vektor_2 = np.array([3, 2, 1, 0])\n",
    "vektor_2"
   ]
  },
  {
   "cell_type": "code",
   "execution_count": 16,
   "id": "84c70552-3845-4dbd-933d-1bf2b4db9bea",
   "metadata": {},
   "outputs": [
    {
     "data": {
      "text/plain": [
       "array([5, 6, 7, 8])"
      ]
     },
     "execution_count": 16,
     "metadata": {},
     "output_type": "execute_result"
    }
   ],
   "source": [
    "2 * vektor_1 + vektor_2"
   ]
  },
  {
   "cell_type": "code",
   "execution_count": 17,
   "id": "075f00e9-dff7-453c-8e31-43ceb9f4ff9e",
   "metadata": {},
   "outputs": [
    {
     "data": {
      "text/plain": [
       "array([3, 4, 3, 0])"
      ]
     },
     "execution_count": 17,
     "metadata": {},
     "output_type": "execute_result"
    }
   ],
   "source": [
    "vektor_1 * vektor_2"
   ]
  },
  {
   "cell_type": "markdown",
   "id": "69ce9f75-92da-4bad-894d-b3168e4b1b1c",
   "metadata": {},
   "source": [
    "### Vektorer\n",
    "Andre måter å lage vektorer på."
   ]
  },
  {
   "cell_type": "code",
   "execution_count": 26,
   "id": "506d0dae-fbdd-4f34-b8bb-1bb25fcf16b8",
   "metadata": {},
   "outputs": [
    {
     "data": {
      "text/plain": [
       "array([1.        , 1.11111111, 1.22222222, 1.33333333, 1.44444444,\n",
       "       1.55555556, 1.66666667, 1.77777778, 1.88888889, 2.        ])"
      ]
     },
     "execution_count": 26,
     "metadata": {},
     "output_type": "execute_result"
    }
   ],
   "source": [
    "# Vektor med 10 punkter i intervallet [1, 2]\n",
    "np.linspace(1, 2, 10)"
   ]
  },
  {
   "cell_type": "code",
   "execution_count": 25,
   "id": "c26b1fd3-a679-4f1e-9de4-1598c213e6a1",
   "metadata": {},
   "outputs": [
    {
     "data": {
      "text/plain": [
       "array([ 1,  2,  3,  4,  5,  6,  7,  8,  9, 10, 11, 12, 13, 14, 15, 16, 17,\n",
       "       18, 19, 20, 21, 22, 23, 24, 25, 26, 27, 28, 29, 30, 31, 32, 33, 34,\n",
       "       35, 36, 37, 38, 39, 40, 41, 42, 43, 44, 45, 46, 47, 48, 49, 50, 51,\n",
       "       52, 53, 54, 55, 56, 57, 58, 59, 60, 61, 62, 63, 64, 65, 66, 67, 68,\n",
       "       69, 70, 71, 72, 73, 74, 75, 76, 77, 78, 79, 80, 81, 82, 83, 84, 85,\n",
       "       86, 87, 88, 89, 90, 91, 92, 93, 94, 95, 96, 97, 98, 99])"
      ]
     },
     "execution_count": 25,
     "metadata": {},
     "output_type": "execute_result"
    }
   ],
   "source": [
    "# Tallene fra 1 til 99\n",
    "np.arange(1, 100)"
   ]
  },
  {
   "cell_type": "markdown",
   "id": "58dd6814-8cb4-4ee4-8faa-95b1ad346550",
   "metadata": {},
   "source": [
    "#### Eksempel\n",
    "Finn følgende kombinasjoner av vektorene \n",
    "- $\\vec{v}_1 = (1, 2, 3, 4)$ og\n",
    "- $\\vec{v}_2 = (12, 11, 12, 0)$.\n",
    "\n",
    "Finn $2\\vec{v}_1-\\vec{v}_2$.\n"
   ]
  },
  {
   "cell_type": "code",
   "execution_count": 28,
   "id": "daf7c23f-abbe-45c7-8799-4df655ab7ed0",
   "metadata": {},
   "outputs": [
    {
     "data": {
      "text/plain": [
       "array([1, 2, 3, 4])"
      ]
     },
     "execution_count": 28,
     "metadata": {},
     "output_type": "execute_result"
    }
   ],
   "source": [
    "v_1 = np.arange(1, 5)\n",
    "v_1"
   ]
  },
  {
   "cell_type": "code",
   "execution_count": 29,
   "id": "71aaab8a",
   "metadata": {},
   "outputs": [],
   "source": [
    "v_2 = np.array([12, 11, 12, 0])"
   ]
  },
  {
   "cell_type": "code",
   "execution_count": 32,
   "id": "1aee0c54",
   "metadata": {},
   "outputs": [
    {
     "data": {
      "text/plain": [
       "array([-10,  -7,  -6,   8])"
      ]
     },
     "execution_count": 32,
     "metadata": {},
     "output_type": "execute_result"
    }
   ],
   "source": [
    "2*v_1 - v_2"
   ]
  },
  {
   "cell_type": "markdown",
   "id": "c22b0844-46d8-41fa-ab12-7f89e69b8d09",
   "metadata": {},
   "source": [
    "### Matriser"
   ]
  },
  {
   "cell_type": "code",
   "execution_count": 37,
   "id": "0f3bb77b-6272-46c8-806e-507d8a806a9f",
   "metadata": {},
   "outputs": [
    {
     "data": {
      "text/plain": [
       "array([[ 1,  2,  3],\n",
       "       [ 4,  5,  6],\n",
       "       [ 7,  8,  9],\n",
       "       [10, 11, 12]])"
      ]
     },
     "execution_count": 37,
     "metadata": {},
     "output_type": "execute_result"
    }
   ],
   "source": [
    "matrise = np.array([[1, 2, 3], [4, 5, 6], [7, 8, 9], [10, 11, 12]])\n",
    "matrise"
   ]
  },
  {
   "cell_type": "code",
   "execution_count": 34,
   "id": "1c8b540c-eb24-4bae-811d-671197daf212",
   "metadata": {},
   "outputs": [
    {
     "data": {
      "text/plain": [
       "(4, 3)"
      ]
     },
     "execution_count": 34,
     "metadata": {},
     "output_type": "execute_result"
    }
   ],
   "source": [
    "# Antall rader og kolonner\n",
    "matrise.shape"
   ]
  },
  {
   "cell_type": "code",
   "execution_count": 35,
   "id": "703a9650-4c2a-409a-a988-538f5d05d2cd",
   "metadata": {},
   "outputs": [
    {
     "data": {
      "text/plain": [
       "12"
      ]
     },
     "execution_count": 35,
     "metadata": {},
     "output_type": "execute_result"
    }
   ],
   "source": [
    "# Antall posisjoner\n",
    "matrise.size"
   ]
  },
  {
   "cell_type": "markdown",
   "id": "3a52ed56-f494-4f29-a291-49d600d16feb",
   "metadata": {},
   "source": [
    "### Lineærkombinasjoner"
   ]
  },
  {
   "cell_type": "code",
   "execution_count": 38,
   "id": "709e1074-3956-4cd2-8d68-a567c1c1d1dc",
   "metadata": {},
   "outputs": [
    {
     "data": {
      "text/plain": [
       "array([[1, 2, 3],\n",
       "       [2, 0, 1]])"
      ]
     },
     "execution_count": 38,
     "metadata": {},
     "output_type": "execute_result"
    }
   ],
   "source": [
    "matrise_1 = np.array([[1, 2, 3], [2, 0, 1]])\n",
    "matrise_1"
   ]
  },
  {
   "cell_type": "code",
   "execution_count": 39,
   "id": "68d4a6c3-c67c-4c9e-87da-fdb7e102d5da",
   "metadata": {},
   "outputs": [
    {
     "data": {
      "text/plain": [
       "array([[1, 0, 1],\n",
       "       [1, 0, 1]])"
      ]
     },
     "execution_count": 39,
     "metadata": {},
     "output_type": "execute_result"
    }
   ],
   "source": [
    "matrise_2 = np.array([[1, 0, 1], [1, 0, 1]])\n",
    "matrise_2"
   ]
  },
  {
   "cell_type": "code",
   "execution_count": 40,
   "id": "87dd946d-5383-4f0c-bb14-8fc57ea722f7",
   "metadata": {},
   "outputs": [
    {
     "data": {
      "text/plain": [
       "array([[2, 4, 6],\n",
       "       [4, 0, 2]])"
      ]
     },
     "execution_count": 40,
     "metadata": {},
     "output_type": "execute_result"
    }
   ],
   "source": [
    "2 * matrise_1"
   ]
  },
  {
   "cell_type": "code",
   "execution_count": 41,
   "id": "5eb0f798-8344-4949-a234-c87c66277f4f",
   "metadata": {},
   "outputs": [
    {
     "data": {
      "text/plain": [
       "array([[0, 2, 2],\n",
       "       [1, 0, 0]])"
      ]
     },
     "execution_count": 41,
     "metadata": {},
     "output_type": "execute_result"
    }
   ],
   "source": [
    "matrise_1 - matrise_2"
   ]
  },
  {
   "cell_type": "code",
   "execution_count": 42,
   "id": "b610c375-2997-4e21-9b2a-e2fc6b012a8b",
   "metadata": {},
   "outputs": [
    {
     "data": {
      "text/plain": [
       "array([[1, 0, 3],\n",
       "       [2, 0, 1]])"
      ]
     },
     "execution_count": 42,
     "metadata": {},
     "output_type": "execute_result"
    }
   ],
   "source": [
    "matrise_1 * matrise_2"
   ]
  },
  {
   "cell_type": "markdown",
   "id": "2eb44ced-1192-4d37-8b73-c4f60b40bce7",
   "metadata": {},
   "source": [
    "### Matrisemultiplikasjon"
   ]
  },
  {
   "cell_type": "code",
   "execution_count": 43,
   "id": "961873aa-5d7b-40e3-a7f2-26671c1b821f",
   "metadata": {},
   "outputs": [],
   "source": [
    "A = np.array([[1, 0], [2, 3]])\n",
    "B = np.array([[2, 0], [1, 1]])"
   ]
  },
  {
   "cell_type": "markdown",
   "id": "0dfc4762-61f6-48d1-ae96-6b101f51a6be",
   "metadata": {},
   "source": [
    "Finn matrisemultiplikasjonen \n",
    "$$AB=\\begin{bmatrix}1&0\\\\2&3\\end{bmatrix}\\begin{bmatrix}2&0\\\\1&1\\end{bmatrix}.$$"
   ]
  },
  {
   "cell_type": "code",
   "execution_count": 44,
   "id": "deadfb0d-4b25-46de-9590-a50e0d6f6422",
   "metadata": {},
   "outputs": [
    {
     "data": {
      "text/plain": [
       "array([[2, 0],\n",
       "       [7, 3]])"
      ]
     },
     "execution_count": 44,
     "metadata": {},
     "output_type": "execute_result"
    }
   ],
   "source": [
    "A @ B"
   ]
  },
  {
   "cell_type": "markdown",
   "id": "3c4d613e-ca90-471f-8514-5211a7f23fba",
   "metadata": {},
   "source": [
    "#### Finn matrisemultiplikasjonen \n",
    "$$A\\begin{bmatrix}1\\\\2\\end{bmatrix}=\\begin{bmatrix}1&0\\\\2&3\\end{bmatrix}\\begin{bmatrix}1\\\\2\\end{bmatrix}.$$"
   ]
  },
  {
   "cell_type": "code",
   "execution_count": 45,
   "id": "e6fc3faa-d035-4a9c-8691-de2f0a07d943",
   "metadata": {},
   "outputs": [],
   "source": [
    "vektor = np.array([1, 2])"
   ]
  },
  {
   "cell_type": "code",
   "execution_count": 47,
   "id": "4472688a",
   "metadata": {},
   "outputs": [
    {
     "data": {
      "text/plain": [
       "array([1, 8])"
      ]
     },
     "execution_count": 47,
     "metadata": {},
     "output_type": "execute_result"
    }
   ],
   "source": [
    "A @ vektor"
   ]
  },
  {
   "cell_type": "markdown",
   "id": "a113fa54",
   "metadata": {},
   "source": [
    "### Transponere matriser"
   ]
  },
  {
   "cell_type": "code",
   "execution_count": 48,
   "id": "875ddb9f",
   "metadata": {},
   "outputs": [
    {
     "data": {
      "text/plain": [
       "array([[1, 0],\n",
       "       [2, 3]])"
      ]
     },
     "execution_count": 48,
     "metadata": {},
     "output_type": "execute_result"
    }
   ],
   "source": [
    "A"
   ]
  },
  {
   "cell_type": "code",
   "execution_count": 49,
   "id": "a0f4cc5c",
   "metadata": {},
   "outputs": [
    {
     "data": {
      "text/plain": [
       "array([[1, 2],\n",
       "       [0, 3]])"
      ]
     },
     "execution_count": 49,
     "metadata": {},
     "output_type": "execute_result"
    }
   ],
   "source": [
    "A.T"
   ]
  },
  {
   "cell_type": "code",
   "execution_count": 50,
   "id": "ca063517",
   "metadata": {},
   "outputs": [
    {
     "data": {
      "text/plain": [
       "array([[1, 2, 3],\n",
       "       [2, 0, 1]])"
      ]
     },
     "execution_count": 50,
     "metadata": {},
     "output_type": "execute_result"
    }
   ],
   "source": [
    "matrise_1"
   ]
  },
  {
   "cell_type": "code",
   "execution_count": 51,
   "id": "1a2b7932",
   "metadata": {},
   "outputs": [
    {
     "data": {
      "text/plain": [
       "array([[1, 2],\n",
       "       [2, 0],\n",
       "       [3, 1]])"
      ]
     },
     "execution_count": 51,
     "metadata": {},
     "output_type": "execute_result"
    }
   ],
   "source": [
    "matrise_1.T"
   ]
  }
 ],
 "metadata": {
  "kernelspec": {
   "display_name": "Python 3 (ipykernel)",
   "language": "python",
   "name": "python3"
  },
  "language_info": {
   "codemirror_mode": {
    "name": "ipython",
    "version": 3
   },
   "file_extension": ".py",
   "mimetype": "text/x-python",
   "name": "python",
   "nbconvert_exporter": "python",
   "pygments_lexer": "ipython3",
   "version": "3.9.15"
  },
  "widgets": {
   "application/vnd.jupyter.widget-state+json": {
    "state": {},
    "version_major": 2,
    "version_minor": 0
   }
  }
 },
 "nbformat": 4,
 "nbformat_minor": 5
}
