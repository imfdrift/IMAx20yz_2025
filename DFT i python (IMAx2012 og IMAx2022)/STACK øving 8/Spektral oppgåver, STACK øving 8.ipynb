{
 "cells": [
  {
   "cell_type": "markdown",
   "id": "9fe03079",
   "metadata": {},
   "source": [
    "# Oppgave 7"
   ]
  },
  {
   "cell_type": "markdown",
   "id": "15cb07c9",
   "metadata": {},
   "source": [
    "I denne oppgaven skal vi bruke numpys fft modul til å finne den diskrete fouriertransformasjonen av en funksjon $f$, og deretter sammenligne resultatet med den kontinuerlige fouriertransformasjonen. `numpy.fft` har funksjonen `fft` for å beregne den diskrete fouriertransformasjonen.\n",
    "\n",
    "<p><strong>a)</strong> Finn den diskrete fouriertransformasjonen av funksjonen $f(t) = \\exp(-t)u(t)$ på intervallet $[0, 1]$, hvor $u$ er Heaviside-funksjonen. La prøvingsraten være $100$ punkter per sekund. Den første prøven skal være i punktet $t = 0$, og den siste prøven skal være i punktet $t = 0.99$. Svaret må lagres med variabelnavn <code>F_dft</code>.</p>\n",
    "\n",
    "<p><strong>b)</strong> Finn fouriertransformasjonen av \\(f\\). Du skal nå sammenligne ${\\normalsize 𝓕}\\{f(t)\\}$ med den diskrete fouriertransformasjonen. Husk at du må dele den diskrete transformasjonen på prøvingsraten før du sammenligner. Hva er den største absolutte feilen mellom imaginærdelene av den diskrete fouriertransformasjonen og ${\\normalsize 𝓕}\\{f(t)\\}$ for frekvenser $\\omega$ større enn eller lik $10 \\,\\mathrm{Hz}$? Du kan bruke <code>numpy.fft</code>-funksjonen <code>fftfreq</code> for å finne frekvensene $\\omega$ som korresponderer til den diskrete fouriertransformasjonen. Oppgi svaret ditt som et flyttall med 3 desimalers nøyaktighet og variabelnavn <code>error</code>.</p>"
   ]
  },
  {
   "cell_type": "code",
   "execution_count": null,
   "id": "81b3101b",
   "metadata": {},
   "outputs": [],
   "source": [
    "import numpy as np # Pakke for å jobbe med vektorer i python\n",
    "from numpy import fft # Last ned fft modulen\n",
    "\n",
    "# Prøvefrekvens\n",
    "sampling_rate = ??\n",
    "samples = ??\n",
    "\n",
    "# Tidspunktene prøvene er tatt i\n",
    "times = ??\n",
    "\n",
    "# Funksjonsverdiene\n",
    "f = ??\n",
    "\n",
    "# dft av funksjonen\n",
    "F_dft = fft.fft(??)\n",
    "\n",
    "# Frekvensene sett av F_dft\n",
    "freq_sample = fft.fftfreq(??, ??)\n",
    "\n",
    "# Fouriertransformasjonen av f\n",
    "F = ??\n",
    "\n",
    "# Normalisering for sammenligning\n",
    "F_dft_2 = F_dft / sampling_rate\n",
    "\n",
    "# Feilledd for den imaginære delen for frekvenser større enn 10\n",
    "imag_error = np.abs(F_dft_2.imag - F.imag)\n",
    "error = np.round(np.max(imag_error[freq_sample >= ??]), 3)"
   ]
  },
  {
   "cell_type": "markdown",
   "id": "9ba4a237",
   "metadata": {},
   "source": [
    "# Oppgave 8"
   ]
  },
  {
   "cell_type": "markdown",
   "id": "52d5455d",
   "metadata": {},
   "source": [
    "<p>I denne oppgaven skal vi jobbe med en lydfil <code>bang.npy</code>. Den kan importeres ved <code>bang = np.load(\"bang.npy\")</code>. Prøvefrekvensen er \\(44100 \\, \\mathrm{Hz}\\). Merk at det kan være lettere å kode i filen som ligger på jupyterhubben.</p>\r\n",
    "\r\n",
    "<p><strong>a)</strong> Definer en vektor <code>times</code> med tidspunktene for punktprøvene i <code>bang</code>. Definer deretter vektoren <code>vec = np.sin(2 * np.pi * 5000 * times)</code> og finn den diskrete fouriertransformasjonen av den sykliske konvolusjonen mellom <code>bang</code> og  <code>vec</code>. Det kan være lurt å bruke det du vet om den diskrete fouriertransformasjonen og den sykliske konvolusjonen. Svaret skal lagres med variabelnavn <code>fourier_of_convolved_signal</code>.</p>\r\n",
    "\r\n",
    "<p><strong>b)</strong> Finn den sykliske konvolusjonen mellom <code>bang</code> og <code>vec</code> ved å bruke svaret fra oppgave <strong>a)</strong>. (Denne metoden er mye raskere enn å konvoluere direkte.) Svaret skal lagres med variabelnavn <code>convolved_signal</code>.</p>"
   ]
  },
  {
   "cell_type": "code",
   "execution_count": null,
   "id": "04e51af0-6586-4778-a449-21227ddf5f1e",
   "metadata": {},
   "outputs": [],
   "source": [
    "import numpy as np # Pakke for å jobbe med vektorer i python\n",
    "from numpy import fft # Last ned fft modulen\n",
    "from IPython.display import Audio # Konstruktor (eng. constructor) som vi kjem til å bruke for å spele av lydfilene\n",
    "\n",
    "\n",
    "# Samplingsraten til lydfilen\n",
    "bang_sampling_rate = 44100\n",
    "\n",
    "# Importer lydfilen\n",
    "bang = np.load(\"bang.npy\")\n",
    "\n",
    "### Oppgave a)\n",
    "# Definerer en vektor med tidspunktene punktprøvene er tatt i\n",
    "times = ??\n",
    "\n",
    "# Definer vektoren vec\n",
    "vec = np.sin(2 * np.pi * 5000 * times)\n",
    "\n",
    "# Fouriertransformasjonen av konvolusjonen mellom bang og vec\n",
    "fourier_of_convolved_signal = ??\n",
    "\n",
    "### Oppgave b)\n",
    "# Konvolusjonen ved å bruke den diskrete fouriertransformasjonen\n",
    "convolved_signal = ??"
   ]
  },
  {
   "cell_type": "code",
   "execution_count": null,
   "id": "c999cbb9-d73e-4b2f-ba89-9beeb9803be2",
   "metadata": {},
   "outputs": [],
   "source": [
    "Audio(bang, rate=bang_sampling_rate)"
   ]
  },
  {
   "cell_type": "code",
   "execution_count": null,
   "id": "e0bb9bcb-2c32-4aa6-ae28-6ccbbc551634",
   "metadata": {},
   "outputs": [],
   "source": [
    "Audio(convolved_signal, rate=bang_sampling_rate)"
   ]
  },
  {
   "cell_type": "markdown",
   "id": "0651771a",
   "metadata": {},
   "source": [
    "# Oppgave 9"
   ]
  },
  {
   "cell_type": "markdown",
   "id": "f83826ef",
   "metadata": {},
   "source": [
    "Vi er gitt lydsignalet `bang`. Finn en approksimering til den deriverte av lydsignalet ved å bruke den diskrete fouriertransformasjonen og det du vet om fouriertransformasjonen. Lagre svaret i variabelen `bang_derivative`."
   ]
  },
  {
   "cell_type": "code",
   "execution_count": null,
   "id": "d279a1b6",
   "metadata": {},
   "outputs": [],
   "source": [
    "import numpy as np # Pakke for å jobbe med vektorer i python\n",
    "from numpy import fft # Last ned fft modulen\n",
    "from IPython.display import Audio # Konstruktor (eng. constructor) som vi kjem til å bruke for å spele av lydfilene\n",
    "\n",
    "# Samplingsraten til lydfilen\n",
    "bang_sampling_rate = 44100\n",
    "\n",
    "# Importer lydfilen\n",
    "bang = np.load(\"bang.npy\")\n",
    "\n",
    "# Frekvensene til lydfilen\n",
    "freq_sample = fft.fftfreq(bang.size, 1 / bang_sampling_rate)\n",
    "\n",
    "# Dft av signalet bang\n",
    "dft_bang = ??\n",
    "\n",
    "# Dft av den \"deriverte\" til signalet bang\n",
    "dft_bang_derivative = ??\n",
    "\n",
    "# Den \"deriverte\" til signalet bang\n",
    "bang_derivative = fft.ifft(dft_bang_derivative).real"
   ]
  },
  {
   "cell_type": "code",
   "execution_count": null,
   "id": "d882491f-7d2f-490b-88e5-5d2380db44c8",
   "metadata": {},
   "outputs": [],
   "source": [
    "Audio(bang_derivative, rate=bang_sampling_rate)"
   ]
  },
  {
   "cell_type": "markdown",
   "id": "d7875e78",
   "metadata": {},
   "source": [
    "# Oppgave 10\n",
    "Vi er gitt lydsignalet `bang`.\n",
    "## a)\n",
    "Bruk et lavpassfilter på sang for avkuttingspunktet av filteret er $100$. Lagre svaret ditt i variabelen `lowpass_bang`.\n",
    "## b)\n",
    "Lag et filter som plukker ut alle frekvensene i absoluttverdi  i intervallet $[80,1000]$. Lagre svaret ditt i variabelen `filter_bang`."
   ]
  },
  {
   "cell_type": "code",
   "execution_count": null,
   "id": "0c7be752",
   "metadata": {},
   "outputs": [],
   "source": [
    "import numpy as np # Pakke for å jobbe med vektorer i python\n",
    "from numpy import fft # Last ned fft modulen\n",
    "from IPython.display import Audio # Konstruktor (eng. constructor) som vi kjem til å bruke for å spele av lydfilene\n",
    "\n",
    "# Samplingsraten til lydfilen\n",
    "bang_sampling_rate = 44100\n",
    "\n",
    "# Importer lydfilen\n",
    "bang = np.load(\"bang.npy\")\n",
    "\n",
    "### ------------ ###\n",
    "### DELOPPGAVE A ###\n",
    "### ------------ ###\n",
    "\n",
    "# Sett verdien hvor vi skal kutte av frekvensene\n",
    "cutoff = 100\n",
    "\n",
    "# Ta den diskrete fouriertransformen av lydfilen\n",
    "dft_bang = fft.fft(bang)\n",
    "# Skaler x-aksen med hensyn på samplingsraten\n",
    "freq_sample = ???\n",
    "# Sett alle amplitudene over avkuttingsfrekvensen til null\n",
    "dft_bang[np.abs(freq_sample) > cutoff] = 0\n",
    "# Gå tilbake med den inverse diskrete fouriertransformen\n",
    "lowpass_bang = ???\n",
    "\n",
    "\n",
    "Audio(lowpass_bang, rate=bang_sampling_rate)"
   ]
  },
  {
   "cell_type": "code",
   "execution_count": null,
   "id": "a186f25d-a109-48d5-869f-04b3dd50ec64",
   "metadata": {},
   "outputs": [],
   "source": [
    "### ------------ ###\n",
    "### DELOPPGAVE B ###\n",
    "### ------------ ###\n",
    "\n",
    "# Definer avkuttingsfrekvensene\n",
    "cutoff_lower = 80\n",
    "cutoff_upper = 1000\n",
    "\n",
    "# Ta den diskrete fouriertransformen av lydfilen\n",
    "dft_bang = ???\n",
    "\n",
    "# Skaler x-aksen med hensyn på samplingsraten\n",
    "freq_sample = ??\n",
    "\n",
    "# Sett alle amplitudene over avkuttingsfrekvensen til null\n",
    "dft_bang[np.abs(freq_sample) < cutoff_lower] = 0\n",
    "dft_bang[np.abs(freq_sample) > cutoff_upper] = 0\n",
    "\n",
    "# Gå tilbake med den inverse diskrete fouriertransformen\n",
    "filter_bang = ??\n",
    "\n",
    "Audio(filter_bang, rate=bang_sampling_rate)"
   ]
  }
 ],
 "metadata": {
  "kernelspec": {
   "display_name": "Python 3 (ipykernel)",
   "language": "python",
   "name": "python3"
  },
  "language_info": {
   "codemirror_mode": {
    "name": "ipython",
    "version": 3
   },
   "file_extension": ".py",
   "mimetype": "text/x-python",
   "name": "python",
   "nbconvert_exporter": "python",
   "pygments_lexer": "ipython3",
   "version": "3.11.7"
  },
  "widgets": {
   "application/vnd.jupyter.widget-state+json": {
    "state": {},
    "version_major": 2,
    "version_minor": 0
   }
  }
 },
 "nbformat": 4,
 "nbformat_minor": 5
}
