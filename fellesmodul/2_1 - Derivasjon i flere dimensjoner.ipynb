{
 "cells": [
  {
   "cell_type": "markdown",
   "id": "f220f44d",
   "metadata": {},
   "source": [
    "# Derivasjon\n",
    "\n",
    "Vi begynner kalkulus for funksjoner av flere variabler med derivasjon.\n",
    "\n",
    "1. Retningsderiverte (innføring)\n",
    "2. De partiell deriverte\n",
    "3. Retningsderiverte II og gradient\n",
    "4. Kjerneregel [ikke pensum]\n",
    "5. Den andre deriverte\n",
    "\n",
    "**Læringsmål:**\n",
    "\n",
    "- Beregne de partiell deriverte og forstå deres betydning\n",
    "- Beregne retningsderiverte og gradient\n",
    "- Beregne den andre deriverte"
   ]
  },
  {
   "cell_type": "code",
   "execution_count": 5,
   "id": "342af18e",
   "metadata": {},
   "outputs": [],
   "source": [
    "# Kjør denne cellen for å importere viktige python pakker!\n",
    "import matplotlib.pyplot as plt # Pakke brukt til plotting\n",
    "import numpy as np # Pakke brukt til numeriske beregninger"
   ]
  },
  {
   "cell_type": "markdown",
   "id": "34deafff",
   "metadata": {},
   "source": [
    "## Retningsderiverte\n",
    "\n",
    "La oss begynne med en funksjon $f:\\mathbb{R}^2\\rightarrow\\mathbb{R}. $ \n",
    "\n",
    "Vi er vant til å tenke på den deriverte som en vekstrate/stigningstall. Hva vil det i så fall være i to dimensjoner? Står vi på en fjellside, er det klart at hvor bratt terrenget er avhengig av hvilken retning vi går i. Det samme gjelder for andre funksjoner. Så vi må oppgi en retning for å snakke om den deriverte i flere dimensjoner. Om vi skriver dette formelt får vi:\n",
    "\n",
    "$$\n",
    "\\frac{\\partial f}{\\partial \\vec{n}}(\\vec{x}) = \\left.\\frac{d}{dt}f(\\vec{x} + t\\vec{n})\\right|_{t=0} =  \\lim_{t\\rightarrow 0} \\frac{f(\\vec{x}+t\\vec{n}) - f(\\vec{x})}{t}.\n",
    "$$\n",
    "\n",
    "Vi sier at $\\frac{\\partial f}{\\partial \\vec{n}}(\\vec{x})$ er *den retningsderiverte* til $f$ i punktet $\\vec{x}$ i retningen $\\vec{n}$.\n",
    "\n",
    "Det er vanlig å bruke enhetsvektorer når vi snakker om en retning. Alle vektorer (bortsett fra nullvektor) har derimot en retning, og vi finner denne ved å dele vektoren på lengden.\n",
    "\n",
    "Det er også vanlig å skrive $\\operatorname{D}_{\\vec{n}}(f)$ for den retningsderiverte. Det er dette som er skrivemåten du stort sett vil se i forelesningene og i oppgavene.\n"
   ]
  },
  {
   "cell_type": "markdown",
   "id": "47a33a7a",
   "metadata": {},
   "source": [
    "## Eksempel\n",
    "\n",
    "La oss se hvordan det fungerer for funksjonen $f(x,y)=\\sin(xy)$.\n",
    "\n",
    "La $\\vec{n}$ være retningen $\\vec{n} = \\frac{1}{\\sqrt{2}}(1,-1)$ og la $\\vec{x}$ være punktet\n",
    " $\\vec{x} = (2,-1)$. Da er\n",
    "$$\n",
    "\\vec{x} + t\\vec{n} = \\begin{pmatrix}\n",
    "2 + \\frac{1}{\\sqrt{2}}t \\\\\n",
    "-1  -\\frac{1}{\\sqrt{2}}t\n",
    "\\end{pmatrix},\n",
    "$$\n",
    "\n",
    "og\n",
    "\n",
    "$$\n",
    "f(\\vec{x}+t\\vec{n}) = \\sin\\left(\\left(2 + \\frac{1}{\\sqrt{2}}t \\right)\\left(-1  -\\frac{1}{\\sqrt{2}}t\\right)\\right) = \\sin\\left(-2-\\frac{3}{\\sqrt{2}}t-t^2/2\\right).\n",
    "$$\n",
    "\n",
    "Siden $f(\\vec{x}+t\\vec{n})$ er en vanlig envariabelfunksjon som vi kjenner fra matematikk 1, så kan vi beregne den deriverte til\n",
    "$f(\\vec{x}+t\\vec{n})$ med hensyn på $t$ og ved å bruke kjerneregelen. Vi får da\n",
    "\n",
    "$$\n",
    "\\frac{df}{dt} = (-t-3/\\sqrt{2})\\cos\\left(-2-\\frac{3}{\\sqrt{2}}t-t^2/2\\right).\n",
    "$$\n",
    "\n",
    "Setter vi inn for $t=0$ får vi at den retningsderiverte er \n",
    "\n",
    "$$\n",
    "\\left.\\frac{d}{dt}f(\\vec{x} + t\\vec{n})\\right|_{t=0} = -\\frac{3}{\\sqrt{2}}\\cos\\left(-2\\right)=-\\frac{3}{\\sqrt{2}}\\cos\\left(2\\right)\\approx 0.8828.\n",
    "$$\n",
    "\n",
    "Vi viser funksjonene $f(x,y)$ og $f(\\vec{x}+t\\vec{n})$ i koden under:"
   ]
  },
  {
   "cell_type": "code",
   "execution_count": null,
   "id": "0217d52c",
   "metadata": {},
   "outputs": [],
   "source": [
    "# Bestem størelsen til plottet og at det skal være i 3D\n",
    "fig, ax = plt.subplots(figsize=(8, 8), subplot_kw={\"projection\": \"3d\"})\n",
    "\n",
    "# Lag et \"rutenett\" med 100x100 punkter i rektangelet [-3, 3] x [-3, 3]\n",
    "x, y = np.meshgrid(np.linspace(-3, 3, 100), np.linspace(-3, 3, 100))\n",
    "\n",
    "# Finn funksjonsverdiene for disse verdiene\n",
    "z = np.sin(x * y)\n",
    "\n",
    "# Plot overflaten\n",
    "ax.plot_surface(x, y, z)"
   ]
  },
  {
   "cell_type": "code",
   "execution_count": null,
   "id": "ffb65f38",
   "metadata": {},
   "outputs": [],
   "source": [
    "# Lag 100 punkter mellom -3 og 3\n",
    "t = np.linspace(-3,3,100)\n",
    "\n",
    "# Lag funksjonsverdiene for f(x+tn)\n",
    "z2 = np.sin(-2 - 3*t/np.sqrt(2) - t**2/2)\n",
    "\n",
    "# Plot funksjonen\n",
    "plt.plot(t, z2)"
   ]
  },
  {
   "cell_type": "markdown",
   "id": "1b79e21f",
   "metadata": {},
   "source": [
    "Som vi ser fra grafen, så er stigningstallet i punktet $t=0$ omtrent lik\n",
    "$\n",
    "\\left.\\frac{d}{dt}f(\\vec{x} + t\\vec{n})\\right|_{t=0} \\approx 0.8828.\n",
    "$\n",
    "\n",
    "Om vi nå ønsker finne den retningsderiverte i en annen retning eller i et annet punkt, så må vi gå igjennom hele denne prossesen på nytt. Heldigvis finnes det en lettere måte å regne ut den retningsderiverte på enn metoden vi viste over. Dette kommer vi til å lære om i seksjon 2_3.\n",
    "\n",
    "### Oppgave:\n",
    "\n",
    "1. Finn den retningsderiverte til funksjonen $f$ i punktet $\\vec{x}=(0,1)$ i retningen $\\vec{n}=(1,0)$.\n",
    "2. Modifiser koden over til å plotte funksjonen langs denne retningen. Stemmer svarene dine overens?\n",
    "3. I vårt eksempel har vi tatt $\\vec{n}$ til å være en *enhetsvektor*, dvs $||\\vec{n}||=1$. Hva skjer hvis vi velger en vektor med en annen størrelse? For eksempel om $\\vec{n}=(3,0)$?"
   ]
  },
  {
   "cell_type": "code",
   "execution_count": null,
   "id": "3c783ef4",
   "metadata": {},
   "outputs": [],
   "source": []
  }
 ],
 "metadata": {
  "kernelspec": {
   "display_name": "Python 3",
   "language": "python",
   "name": "python3"
  },
  "language_info": {
   "codemirror_mode": {
    "name": "ipython",
    "version": 3
   },
   "file_extension": ".py",
   "mimetype": "text/x-python",
   "name": "python",
   "nbconvert_exporter": "python",
   "pygments_lexer": "ipython3",
   "version": "3.12.6"
  }
 },
 "nbformat": 4,
 "nbformat_minor": 5
}
