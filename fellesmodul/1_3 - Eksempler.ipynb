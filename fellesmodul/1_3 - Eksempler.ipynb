{
 "cells": [
  {
   "cell_type": "markdown",
   "id": "7c8603a4",
   "metadata": {},
   "source": [
    "# Eksempler\n",
    "\n",
    "Her følger noen programrelevante eksempler av funksjoner. \n",
    "\n",
    "Det er sikkert mye her som oppleves som helt ukjent. Det er greit! Du vil lære mer om dette ute på studieprogrammene. Men som du kan se, så blit flervariabelfunksjoner brukt svært mye."
   ]
  },
  {
   "cell_type": "markdown",
   "id": "7d05eb0a",
   "metadata": {},
   "source": [
    "## Mekanikk\n",
    "\n",
    "Det er ofte slik at viktige fysiske størrelser som kraft, moment, tetthet og temperatur varierer over en konstruksjon, og er derfor funksjoner av posisjon. Kraft og moment er vektorer, og vi kan se på et kraftfelt som $F: \\mathbb{R}^3\\rightarrow\\mathbb{R}^3$ som en funksjon av posisjon. Det samme er tilfellet for moment. Siden tetthet er skalar kan vi representere tettheten $\\rho$ til en posisjon i rommet som en funksjon $\\rho:\\mathbb{R}^3\\rightarrow\\mathbb{R}$. Det samme gjelder for eksempel temperatur. \n",
    "\n",
    "Men vi ser også på systemer i planet (eller langs linjer), hvor vi pga. symmetrier (eller lignende) ignorerer avhengighet i en retning. Da kan vi se på kraft som en funksjon $F:\\mathbb{R}^2\\rightarrow\\mathbb{R}^2$. Dette er en forenkling som vi ofte gjør på jordas overflate, når vi ignorerer høyden, slik som for vind og havstrømmer.\n",
    "\n",
    "Hva med spenning? Den er generelt avhengig av både posisjon $\\vec{x}$ og et tverrsnitt (det er nok å oppgi bare en normalvektor $\\vec{n}$), og er en vektor selv. Den er også en funksjon $\\tau(\\vec{x},\\vec{n}):\\mathbb{R}^3 \\times \\mathbb{R}^3 \\rightarrow \\mathbb{R}^3$, men det er ikke hele historien. Hvis vi tar en vilkårlig $\\vec{x}$ og holder den konstant er funksjonen $\\tau(\\vec{x},\\vec{n}):\\mathbb{R}^3\\rightarrow\\mathbb{R}$ en lineær transformasjon, og kan dermed skrives som en matrise! Enda bedre viser det seg (se Bell, Konstruksjonsmekanikk, II.9) at matrisen er symmetrisk! Dermed er det trolig best å tenke på spenning som en funksjon $\\mathbb{R}^3\\rightarrow Y$, hvor $Y$ er rommet av $3\\times 3$ symmetriske matriser. \n",
    "\n",
    "Tøyning er en annen funksjon av samme type (se Bell, Konstruksjonsmekanikk, II.10). \n"
   ]
  },
  {
   "cell_type": "markdown",
   "id": "d579e8c4",
   "metadata": {},
   "source": [
    "## Elektrofag\n",
    "\n",
    "Grunnleggende elektrolære bruker vektorfelt, dvs. funksjoner på formen $\\mathbb{R}^3\\rightarrow\\mathbb{R}^3$. Eksempler er elektriske og magnetiske felt. Vi har også strømtetthet, elektrisk forskyvning/polarisering og magnetisering, som også er vektorfelt. Ladingstetthet og elektrisk potensial er eksempler på skalare funksjoner $\\mathbb{R}^3\\rightarrow\\mathbb{R}$. \n",
    "\n",
    "I mange tilfeller er funksjonene over også avhengig av tid, dvs. de er på formen $\\mathbb{R}^3 \\times \\mathbb{R}\\rightarrow \\mathbb{R}^3$, (eller $\\mathbb{R}^4\\rightarrow \\mathbb{R}^3$).\n",
    "\n",
    "For elektriske kretser så er vi mest opptatt av forhold mellom forskjellige størrelser (variabler), f.eks. Ohms lov, hvor $V=IR$ beskriver en funksjon $V:\\mathbb{R}^2 \\rightarrow \\mathbb{R}$. I analyse av vekselstrøm er det vanlig å utvide til komplekse tall, slik at vi har funksjoner $V:\\mathbb{C}^2 \\rightarrow \\mathbb{C}$. \n",
    "\n",
    "Det kan også hende at vi trenger flere variable, som for eksempel temperatur. Hvis motstand er avhengig av temperatur, så får vi $V=R(T)I$, slik at $V:\\mathbb{R}^3\\rightarrow\\mathbb{R}$."
   ]
  },
  {
   "cell_type": "markdown",
   "id": "501d0013",
   "metadata": {},
   "source": [
    "## Informatikk\n",
    "\n",
    "Funksjoner er overalt i informatikken. Vi kommer til å se flere eksempler i diskret matematikk, men også i bildebehandling og datavitenskap/maskinlæring er det mange interessante eksempler.\n",
    "\n",
    "Vi nevner at et bilde kan sees som en funksjon $b:\\mathbb{R}^2 \\mapsto \\mathbb{R}^3$, hvor vi oppgi en fargeverdi (i f.eks. tredimensjonalt RGB-rom) til hvert punkt $(x,y)$ i bildet. I praksis vil vi bare lagre verdier på endelig mange punkter $(x_i, y_i)$, dvs. vi bruker en *diskretisering* av funksjonen."
   ]
  },
  {
   "cell_type": "markdown",
   "id": "cc138ab6",
   "metadata": {},
   "source": [
    "## Kjemi og materialteknologi\n",
    "\n",
    "Materialteknologi bruker mange av de samme funksjonene som mekanikk (spenning, tøyning osv.) og termodynamikk (temperatur, entropi, varmekapasitet osv.).\n",
    "\n",
    "I tillegg er *konsentrasjonen* av et stoff viktig. Det er typisk et reelt tall. Hvis konsentrasjonen varierer med posisjon, så vil vi ha en funksjon \n",
    "$\\mathbb{R}^3 \\rightarrow \\mathbb{R}$.\n",
    "\n",
    "Et mer komplisert eksempel av en egenskapet til et material er *refleksjonsfaktor* (https://snl.no/refleksjonsfaktor). I en enkel tilnærming er det bare et skalartall, men mer generelt kan det være avhengig av både inn- og utvinklene, og muligens også bølgelengden (https://en.wikipedia.org/wiki/Bidirectional_reflectance_distribution_function). \n"
   ]
  },
  {
   "cell_type": "markdown",
   "id": "7ad1ee7d",
   "metadata": {},
   "source": [
    "## Logistikk\n",
    "\n",
    "Vi har skalare funksjoner $f(t)$ når vi sporer lagerføring av en vare på en fabrikk gjennom tiden.\n",
    "\n",
    "Men hva skjer hvis vi vil spore varer over alle steder i systemet, inkludert på veier hvor posisjonen endrer seg kontinuerlig? Da ender vi opp med funksjoner av type $X \\times \\mathbb{R} \\rightarrow \\mathbb{R}$. Om $X$ er en enkel veg kommer vi til å ende opp med en funksjon $\\mathbb{R} \\times \\mathbb{R} \\rightarrow \\mathbb{R}$."
   ]
  },
  {
   "cell_type": "markdown",
   "id": "c01a16c5",
   "metadata": {},
   "source": [
    "## Geomatikk\n",
    "\n",
    "Geoiden er et klassisk eksempel på en funksjon $U: \\mathbb{R}^2 \\rightarrow \\mathbb{R}$. Variablene til denne funksjonen er breddegrader og lengdegrader.\n",
    "\n",
    "Funksjonen $U$ kommer fra en mer generell funksjon $\\mathbb{R}^3 \\rightarrow\\mathbb{R}$ som er tyngdekraftspotensialet gitt som en funksjon av posisjon i rom. Geoiden er en nivåflate til denne funksjonen. \n"
   ]
  },
  {
   "cell_type": "markdown",
   "id": "d4b899c3",
   "metadata": {},
   "source": [
    "## Termodynamikk\n",
    "\n",
    "Termodynamikk er en viktig anvendelse av temaene i dette notatet. Mange opplever termodynamikk som vanskelig, ofte på grunn av manglende forståelse av funksjoner av flere variable.\n",
    "\n",
    "Tilstanden i et enkelt kompressibelt system er beskrevet av to uavhengig variable, typisk bruker vi to av disse tre: temperatur ($T$), trykk ($\\rho$) og volum ($V$). Da kan alle andre termodynamiske størrelser, som varme, entropi, entalpi osv. være gitt som funksjoner $\\mathbb{R}^2 \\rightarrow \\mathbb{R}$. \n",
    "\n",
    "Visualisering har en lang historie i dette tilfelle. I læreboka \"Engineering thermodynamics\" ser man en overflate i rommet med trykket til vann som en funksjon av volum og temperatur. Den skotske fysikeren James Clerk Maxwell konstruerte til og med en fysisk modell av noen lignende i gips, se [wikipedia](https://en.wikipedia.org/wiki/Maxwell's_thermodynamic_surface) for mer informasjon."
   ]
  },
  {
   "cell_type": "markdown",
   "id": "5c4bdb26",
   "metadata": {},
   "source": [
    "## Fysikk\n",
    "\n",
    "Eksemplene fra mekanikk og elektrofag er begge relevant i fysikk. \n",
    "\n",
    "I tillegg har vi fluidmekanikk, som har noen fellestrekk med begge. Her er (det tidsavhengige) hastighetsfeltet $u:\\mathbb{R}^3\\times\\mathbb{R}\\rightarrow\\mathbb{R}^3$, samt trykket $p:\\mathbb{R}^3\\times\\mathbb{R}\\rightarrow\\mathbb{R}$ viktig. Om systemet er konstant i tid blir de istedet henholdsvis $u:\\mathbb{R}^3\\rightarrow\\mathbb{R}^3$ og $p:\\mathbb{R}^3\\rightarrow\\mathbb{R}$.\n",
    "\n",
    "For å finne posisjonen til en partikkel i strømmen, så må man løse differensialligningen\n",
    "\n",
    "$$\n",
    "\\dot{x}(t) = u\\big(x(t),t\\big).\n",
    "$$\n",
    "\n",
    "I motsetning til elektriske felt, finnes det ikke noen fysisk *strømpotensial*. Men noen forenklede modeller tillater en slik funksjon. Det er en stor hjelp når man skal trekke konklusjoner, men kan ofte føre til fysiske feil.\n",
    "\n",
    "Vi har også spennings- og forflytningstensor, akkurat som i mekanikk."
   ]
  }
 ],
 "metadata": {
  "kernelspec": {
   "display_name": "Python 3 (ipykernel)",
   "language": "python",
   "name": "python3"
  },
  "language_info": {
   "codemirror_mode": {
    "name": "ipython",
    "version": 3
   },
   "file_extension": ".py",
   "mimetype": "text/x-python",
   "name": "python",
   "nbconvert_exporter": "python",
   "pygments_lexer": "ipython3",
   "version": "3.11.4"
  }
 },
 "nbformat": 4,
 "nbformat_minor": 5
}
