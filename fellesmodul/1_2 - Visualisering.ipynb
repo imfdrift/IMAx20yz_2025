{
 "cells": [
  {
   "cell_type": "markdown",
   "id": "3d2848f2",
   "metadata": {},
   "source": [
    "# Visualisering\n",
    "\n",
    "En funksjon $\\mathbb{R} \\rightarrow\\mathbb{R } $ kan visualiseres\n",
    "ved å tegne et bilde av grafen til funksjonen. Hvor lett det er å visualisere\n",
    "funksjoner $\\mathbb{R}^m\\rightarrow\\mathbb{R}^n$ er avhengig av\n",
    "dimensjonene $n$ og $m$. Det er ikke lett å visualisere vektorer med dimensjon \n",
    "4 eller større. \n",
    "\n",
    "I dette notatet kommer vi til å se på visualiseringe av følgende funksjoner:\n",
    "1. Kurveplott for $f:\\mathbb{R} \\rightarrow\\mathbb{R}^2$ og $f:\\mathbb{R} \\rightarrow\\mathbb{R}^3$\n",
    "2. Visualiseringer for skalare funksjoner av to variabler $f:\\mathbb{R }^2\\rightarrow\\mathbb{R}$. Vi skal spesifikt se på:\n",
    "    - Overflateplott\n",
    "    - Nivåkurveplott\n",
    "    - Varmeplott\n"
   ]
  },
  {
   "cell_type": "markdown",
   "id": "6f392085",
   "metadata": {},
   "source": [
    "## Kurveplott\n",
    "\n",
    "Det er vanlig å tenke på en funksjon $f$ som går fra $\\mathbb{R}$ til $\\mathbb{R}^2$ som en partikkelbevegelse i planet. \n",
    "\n",
    "Vi skriver ofte\n",
    "\n",
    "$$f(t)=(x (t), y (t))$$\n",
    "\n",
    "og tenker på $(x(t), y(t))$ som posisjonen til partikkelen ved tidspunkt $t$.\n",
    "\n",
    "Tilsvarende blir $g:\\mathbb{R}\\to \\mathbb{R}^3$ ofte sett på som en partikkel \n",
    "\n",
    "$$g(t)=(x (t), y (t), z(t))$$\n",
    "\n",
    "som beveger seg i rommet. La oss gå gjennom noen eksempler på hvordan vi kan visualisere banen, eller kurven, som partikelen følger. Vi må starte koden med å importere noen pakker for å få til dette. "
   ]
  },
  {
   "cell_type": "code",
   "execution_count": 46,
   "id": "3bc4512a",
   "metadata": {},
   "outputs": [],
   "source": [
    "import matplotlib.pyplot as plt # Pakke brukt til plotting\n",
    "import numpy as np              # Pakke brukt til numeriske beregninger"
   ]
  },
  {
   "cell_type": "markdown",
   "id": "af9abb7a",
   "metadata": {},
   "source": [
    "### Kurveplott i planet\n",
    "La oss si at vi ønsker å plotte banen til kurven \n",
    "\n",
    "$$f(t)=\\left(\\frac{t + t^3}{1 + t^4}, \\frac{t - t^3}{1 + t^4}\\right).$$\n",
    "\n",
    "Legg merke til at når $t\\to \\infty$ kommer denne kurven til å nærme seg origo, siden \n",
    "\n",
    "$$\\lim_{t\\to \\infty}\\frac{t + t^3}{1 + t^4}=\\lim_{t\\to \\infty}\\frac{t - t^3}{1 + t^4}=0.$$\n",
    "\n",
    "Vi kan kun plotte kurven på endelige intervaller. Om vi velger å plotte kurven begrenset til intervallet $[-12, 12]$, kan vi bruke følgende kode:"
   ]
  },
  {
   "cell_type": "code",
   "execution_count": null,
   "id": "d90369f5",
   "metadata": {},
   "outputs": [],
   "source": [
    "# Lager 1000 punkter mellom -12 og 12\n",
    "t = np.linspace(-12, 12, 1000)\n",
    "\n",
    "# Lager verdiene x(t) \n",
    "x = (t + t**3)/(1 + t**4)\n",
    "\n",
    "# Lager verdiene y(t)\n",
    "y = (t - t**3)/(1 + t**4)\n",
    "\n",
    "# Plotter banen til kurven i planet\n",
    "plt.plot(x, y)"
   ]
  },
  {
   "cell_type": "markdown",
   "id": "3e6f2e4a",
   "metadata": {},
   "source": [
    "Legg merke til at kurveplottet ikke gir oss informasjon om hvor partikelen befinner seg ved forskjellige tidspunkt. Det vil si at vi ikke vet hvor $f(1)$ bare ved å se på plottet. Likevel gir kurveplott oss en nyttig visualisering om hvordan partikelen beveger seg."
   ]
  },
  {
   "cell_type": "markdown",
   "id": "5aa347fa",
   "metadata": {},
   "source": [
    "### Kurveplott i rommet\n",
    "På en lignende måte kan vi visualisere en kurve i rommet. I koden under plotter vi kurven \n",
    "\n",
    "$$g(t)=\\left(\\left(\\frac{t^2}{4 \\pi^2  } + 1\\right)\\sin(t),\\left(\\frac{t^2}{4 \\pi^2} + 1\\right)\\cos(t),\\frac{t}{2\\pi} \\right)$$\n",
    "\n",
    "for verdier i intervallet $[-4\\pi, 4\\pi]$."
   ]
  },
  {
   "cell_type": "code",
   "execution_count": null,
   "id": "0052e4e5",
   "metadata": {},
   "outputs": [],
   "source": [
    "# Bestem størelsen til plottet og at det skal være i 3D\n",
    "fig, ax = plt.subplots(figsize=(10, 20), subplot_kw={\"projection\": \"3d\"})\n",
    "\n",
    "# Lager 500 punkter mellom -4pi og 4pi\n",
    "t = np.linspace(-4 * np.pi, 4 * np.pi, 500)\n",
    "\n",
    "# Lager vektoren x(t)\n",
    "x = (t**2/(4 * np.pi**2) + 1) * np.sin(t)\n",
    "\n",
    "# Lager vektoren y(t)\n",
    "y = (t**2/(4 * np.pi**2) + 1) * np.cos(t)\n",
    "\n",
    "# Lager vektoren z(t)\n",
    "z = t/(2 * np.pi)\n",
    "\n",
    "# Setter opp kurveplottet\n",
    "ax.plot(x, y, z)"
   ]
  },
  {
   "cell_type": "markdown",
   "id": "b5792369",
   "metadata": {},
   "source": [
    "Som vi ser, kommer partikelen til å bevege seg langs en slags spiral. Legg også merke til den første linjen med kode i cellen over. Her gir vi beskjed om at vi ønsker å plotte i 3D."
   ]
  },
  {
   "cell_type": "markdown",
   "id": "0b0930cb",
   "metadata": {},
   "source": [
    "### Oppgave:\n",
    "\n",
    "Bruk kodefeltet under til å tegne kurven \n",
    "\n",
    "$$f(t)=\\left(\\cos(t), \\sin(t)\\right)$$\n",
    "\n",
    "for intervallet $[0,\\pi]$."
   ]
  },
  {
   "cell_type": "code",
   "execution_count": 49,
   "id": "3f3e4839",
   "metadata": {},
   "outputs": [],
   "source": [
    "# Skriv og kjør svaret ditt her"
   ]
  },
  {
   "cell_type": "markdown",
   "id": "27432939",
   "metadata": {},
   "source": [
    "## Visualiseringer for skalare funksjoner av to variabler\n",
    "\n",
    "Det finnes flere muligheter for visualisering av en funksjon $f:\\mathbb{R}^2\\to \\mathbb{R}$. Den mest direkte analogien til grafen av en envariabelfunksjon er det som kalles *overflateplott*. I tillegg til dette skal vi også lære om *nivåkurveplott* og *varmeplott*.\n",
    "\n",
    "### Overflateplott\n",
    "La oss si at vi ønsker å visualisere funksjonen\n",
    "\n",
    "$$f(x,y)=(1 - x/2 + x^5 + y^3) \\exp(-x^2 - y^2).$$\n",
    "\n",
    "Igjen må vi velge hvor vi ønsker å tegne grafen. I koden under tegner vi den på rektangelet $[-3,3]\\times [-4, 4]$. Det vil si at vi tegner overflaten $x$ verdier i intervallet $[-3,3]$ og $y$ verdier i intervallet $[-4, 4]$."
   ]
  },
  {
   "cell_type": "code",
   "execution_count": null,
   "id": "b4a768f2",
   "metadata": {},
   "outputs": [],
   "source": [
    "# Bestem størrelsen til plottet og at det skal være i 3D\n",
    "fig, ax2 = plt.subplots(figsize=(15, 15), subplot_kw={\"projection\": \"3d\"})\n",
    "\n",
    "# Lager et rutenett med 256x256 punkter i rektangelet [-3, 3] x [-4, 4]\n",
    "x, y = np.meshgrid(np.linspace(-3, 3, 256), np.linspace(-4, 4, 256))\n",
    "\n",
    "# Lager funksjonsverdiene i rutenettet\n",
    "z = (1 - x/2 + x**5 + y**3) * np.exp(-x**2 - y**2)\n",
    "\n",
    "# Setter opp overflateplottet\n",
    "ax2.plot_surface(x, y, z)"
   ]
  },
  {
   "cell_type": "markdown",
   "id": "b1386022",
   "metadata": {},
   "source": [
    "Om vi ønsker, kan vi lese av punktverdier fra overflateplottet. Da velger vi et punkt i planet på bunnen og trekker en linje rett oppover til det treffer overflaten. Vi kan for eksempel se at i punktet $(3,2)$ er funksjonen tilnærmet lik $0$. Vi kan også se at den største verdien er omtrent $1$ og ligger over punktet $(0,0)$.\n",
    "\n",
    "Vi kan endre på hvordan grafen blir tegnet om vi ønsker. For eksempel så kan vi legge til farger som gjør overflateplottet lettere å forstå."
   ]
  },
  {
   "cell_type": "code",
   "execution_count": null,
   "id": "cd34b3cf",
   "metadata": {},
   "outputs": [],
   "source": [
    "# Importer farger\n",
    "from matplotlib import cm\n",
    "\n",
    "# Samme kode som over\n",
    "fig, ax2 = plt.subplots(figsize=(15, 15), subplot_kw={\"projection\": \"3d\"})\n",
    "\n",
    "x, y = np.meshgrid(np.linspace(-3, 3, 256), np.linspace(-4, 4, 256))\n",
    "\n",
    "z = (1 - x/2 + x**5 + y**3) * np.exp(-x**2 - y**2)\n",
    "\n",
    "# Lag plottet: \n",
    "# cmap=cm.Blues legger til blå fargegradient\n",
    "# vmin=z.min()*2 gjør at de lyseste blåfargene ikke blir med i gradienten\n",
    "ax2.plot_surface(x, y, z, vmin=2 * z.min() , cmap=cm.Blues)"
   ]
  },
  {
   "cell_type": "markdown",
   "id": "5ec30cd8",
   "metadata": {},
   "source": [
    "### Nivåkurveplott"
   ]
  },
  {
   "cell_type": "markdown",
   "id": "26529b76",
   "metadata": {},
   "source": [
    "Et alternativ til overflateplott er et såkalt _nivåkurveplott_ (eng. contour plot). En _nivåkurve_ er en kurve som består av alle punkter $(x,y)$ hvor funksjonen er lik en bestemt konstant verdi. For eksempel er nivåkurven til funksjonen \n",
    "\n",
    "$$g(x,y)=x^2+y^2$$ \n",
    "\n",
    "for verdien $1$ kurven består av alle verdier $(x,y)$ slik at $g(x,y)=x^2+y^2=1$. Vi vet fra før at ligningen $x^2+y^2=1$ beskriver en sirkel sentrert i origo med radius 1. Om vi ønsker kan vi lage et plott som viser flere nivåkurver til denne funksjonen. Igjen må vi velge en rektangulær del av planet, og denne gangen har vi valgt $[-1, 2]\\times [-2, 2]$.\n",
    "\n",
    "Legg merke til at nivåkurvene er sirkler, selv om det ikke ser slik ut på bildet. Grunnen er at bildet bruker ulik steglengde i $x$ og $y$-retning. Du kan få nivåkurver som ligner mer på sirkler hvis du velger et annet rektangel. "
   ]
  },
  {
   "cell_type": "code",
   "execution_count": null,
   "id": "56913e15",
   "metadata": {},
   "outputs": [],
   "source": [
    "# Lag et \"rutenett\" med alle 256x256 punkter på rektangelet [-1, 2] x [-2, 2]\n",
    "x, y = np.meshgrid(np.linspace(-1, 2, 256), np.linspace(-2, 2, 256))\n",
    "\n",
    "# Lag z verdiene for dette rutenettet\n",
    "z = x**2 + y**2\n",
    "\n",
    "# Hvilken verdier vi ønsker å se på nivåkurvene til\n",
    "levels = np.array([0.5, 1, 2])\n",
    "\n",
    "# Lag nivåkurveplottet for de gitte verdiene\n",
    "plt.contour(x, y, z, levels=levels)"
   ]
  },
  {
   "cell_type": "markdown",
   "id": "a1dc63e1",
   "metadata": {},
   "source": [
    "Om vi går tilbake til overflateplottet til funksjonen \n",
    "\n",
    "$$f(x,y)=(1 - x/2 + x^5 + y^3) \\exp(-x^2 - y^2)$$\n",
    "\n",
    "ser vi at overflateplottet ser litt ut som et fjell. Hvis vi har en funksjon som beskriver høyden over havet i et landskap, så vil høydekurvene på et topografisk kart være et nivåkurveplott. Dere kan se på et eksempel [her](https://www.google.no/maps/place/Galdh%C3%B8piggen/@61.6365146,8.2918183,14z/data=!3m1!4b1!4m6!3m5!1s0x4615061e3b8c21cd:0xeb7f8515a8aac69a!8m2!3d61.6364962!4d8.3124178!16s%2Fg%2F1pzszhgth!5m1!1e4?entry=ttu). "
   ]
  },
  {
   "cell_type": "code",
   "execution_count": null,
   "id": "585c14a7",
   "metadata": {},
   "outputs": [],
   "source": [
    "# Setter størelsen på plottet\n",
    "fig, ax1 = plt.subplots(figsize=(12, 10))\n",
    "\n",
    "# Lager et \"rutenett\" med alle 256x256 punkter på rektangelet [-3, 3] x [-4, 4]\n",
    "x, y = np.meshgrid(np.linspace(-3, 3, 256), np.linspace(-4, 4, 256))\n",
    "\n",
    "# Lager funksjonsverdiene i rutenettet\n",
    "z = (1 - x/2 + x**5 + y**3) * np.exp(-x**2 - y**2)\n",
    "\n",
    "# Lager 7 nivåer likt fordelt mellom minimumsverdien og maksimumsverdien\n",
    "levels = np.linspace(np.min(z), np.max(z), 7)\n",
    "\n",
    "# setter opp nivåkurveplottet\n",
    "ax1.contour(x, y, z, levels=levels)"
   ]
  },
  {
   "cell_type": "markdown",
   "id": "f19310c4",
   "metadata": {},
   "source": [
    "### Varmeplott\n",
    "Et plott som ligner på nivåkurveplottet er et såkalt _varmeplott_. Her prøver vi å plotte alle nivåkurvene samtidig ved å bruke en fargegradient. Om vi følger en bestemt farge rundt på bilde så følger vi en nivåkurve til funksjonen.\n",
    "La oss se hvordan vi kan lage et varmeplott for funksjonen \n",
    "$$f(x,y)=(1 - x/2 + x^5 + y^3) \\exp(-x^2 - y^2).$$"
   ]
  },
  {
   "cell_type": "code",
   "execution_count": null,
   "id": "891b7104",
   "metadata": {},
   "outputs": [],
   "source": [
    "# Setter størelsen på plottet\n",
    "fig, ax1 = plt.subplots(figsize=(15,10))\n",
    "\n",
    "# Lager et \"rutenett\" med alle 256x256 punkter på rektangelet [-3, 3] x [-4, 4]\n",
    "x, y = np.meshgrid(np.linspace(-3, 3, 256), np.linspace(-4, 4, 256))\n",
    "\n",
    "# Lager funksjonsverdiene i rutenettet\n",
    "z = (1 - x/2 + x**5 + y**3) * np.exp(-x**2 - y**2)\n",
    "\n",
    "# Lager fargegradienten:\n",
    "# Her er cmap='RdBu' fargegradienten Red-Blue.\n",
    "# Den gir fargen rød til lave verdier og fargen blå til høye verdier\n",
    "pos = ax1.imshow(z, cmap='RdBu')\n",
    "\n",
    "# Setter opp varmeplottet\n",
    "fig.colorbar(pos, ax=ax1)"
   ]
  },
  {
   "cell_type": "markdown",
   "id": "7b0c745b",
   "metadata": {},
   "source": [
    "Motivasjonen til navnet *varmeplott* er som følger: Sett at vi har en stålplate som ligger horisontalt. Vi varmer opp platen på endene og lar $f(x,y)$ beskrive temperaturen til et punkt $(x,y)$ på platen. Et varmeplott av funksjonen $f$ gir oss i dette tilfellet informasjon om temperaturen til de ulike områdene på stålplaten."
   ]
  },
  {
   "cell_type": "markdown",
   "id": "ac11e01d",
   "metadata": {},
   "source": [
    "### Oppgave:\n",
    "Lag et overflateplott og et varmeplott til funksjonen \n",
    "\n",
    "$$g(x,y)=x^2+y^2.$$"
   ]
  },
  {
   "cell_type": "code",
   "execution_count": null,
   "id": "4e689d99",
   "metadata": {},
   "outputs": [],
   "source": []
  }
 ],
 "metadata": {
  "kernelspec": {
   "display_name": "Python 3",
   "language": "python",
   "name": "python3"
  },
  "language_info": {
   "codemirror_mode": {
    "name": "ipython",
    "version": 3
   },
   "file_extension": ".py",
   "mimetype": "text/x-python",
   "name": "python",
   "nbconvert_exporter": "python",
   "pygments_lexer": "ipython3",
   "version": "3.12.6"
  }
 },
 "nbformat": 4,
 "nbformat_minor": 5
}
