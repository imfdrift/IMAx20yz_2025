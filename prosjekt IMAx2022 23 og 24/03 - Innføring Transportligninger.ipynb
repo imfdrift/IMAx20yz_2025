{
 "cells": [
  {
   "cell_type": "markdown",
   "id": "5a934dd0",
   "metadata": {},
   "source": [
    "# Transportligning"
   ]
  },
  {
   "cell_type": "markdown",
   "id": "4a3c4ded",
   "metadata": {},
   "source": [
    "I innføringen kalte vi ligningen\n",
    "\n",
    "$$\n",
    "u_x = u_y\n",
    "$$\n",
    "\n",
    "for en transportligning. La oss nå omdøpe variablene for $x$ og $t$. En mer generell versjon av samme ligning er\n",
    "\n",
    "$$\n",
    "u_t + a u_x = 0\n",
    "$$\n",
    "\n",
    "Det er ligningen som vi skal studere her. Senere vil vi se på den enda mer generell ligning\n",
    "\n",
    "$$\n",
    "u_t + a(x,t,u)u_x = g(x,t),\n",
    "$$\n",
    "\n",
    "og den nær beslektet *bevaringslov*\n",
    "\n",
    "$$\n",
    "u_t + f(x,t,u)_x = g(x,t)\n",
    "$$"
   ]
  },
  {
   "cell_type": "markdown",
   "id": "d91a7102",
   "metadata": {},
   "source": [
    "## 1. En analytisk løsning\n",
    "\n",
    "**Oppgave** sjekk med derivasjon at $u(x,t) = g(x-at)$ løser ligningen for hvilken som helst funksjon."
   ]
  },
  {
   "cell_type": "markdown",
   "id": "e388da3d",
   "metadata": {},
   "source": [
    "### a) Med initalbetingelser\n",
    "\n",
    "Anta at vi har en initialbetingelse av formen $u(x,0) = f(x)$.\n",
    "\n",
    "Sammenlign det med løsningen $u(x,t) = g(x-at)$; vi setter inn $t=0$ og får $u(x,0)=g(x)$. Dvs, vi må ta samme funksjon $g(\\cdot)$ som den initialbetingelse. Løsningen er altså\n",
    "\n",
    "$$\n",
    "u(x,t) = f(x-at)\n",
    "$$\n",
    "\n",
    "Hva betyr det? Vi ser at løsningen flytter på seg, med hastighet (inkludert retning) bestemt av $a$. Prøv koden under:"
   ]
  },
  {
   "cell_type": "code",
   "execution_count": 4,
   "id": "65fe55e4",
   "metadata": {},
   "outputs": [],
   "source": [
    "import numpy as np\n",
    "import matplotlib.pyplot as plt\n",
    "\n",
    "def f(x):\n",
    "    return np.sin(x)\n",
    "    # Legg inn funksjonen her\n",
    "\n",
    "# Hastighet her\n",
    "a=1    \n",
    "    \n",
    "x = np.arange(0, 2*np.pi, 0.01)\n",
    "\n",
    "t = np.arange(0, 2*np.pi, 0.05)\n",
    "\n",
    "# lager rutenettet\n",
    "X, T = np.meshgrid(x,t)\n",
    "\n",
    "# funksjonen på rutenettet\n",
    "u = f(X-a*T)"
   ]
  },
  {
   "cell_type": "code",
   "execution_count": null,
   "id": "b508735a",
   "metadata": {},
   "outputs": [],
   "source": [
    "## animasjon\n",
    "\n",
    "import matplotlib.animation as animation\n",
    "from IPython.display import HTML\n",
    "\n",
    "fig, ax = plt.subplots()\n",
    "\n",
    "# initialplott, for tid t=0\n",
    "line, = ax.plot(x, u[0,:])\n",
    "\n",
    "# oppdater plott, for andre tider t_i\n",
    "def animate(i):\n",
    "    line.set_ydata(u[i,:])\n",
    "    return line,\n",
    "\n",
    "# animasjon\n",
    "# interval bestemmer hvor fort det vises\n",
    "# save_count hvor mange tider t_i som inngår\n",
    "ani = animation.FuncAnimation(fig, animate, interval=20, blit=True, save_count=t.size)\n",
    "\n",
    "\n",
    "HTML(ani.to_jshtml())"
   ]
  },
  {
   "cell_type": "markdown",
   "id": "60ff5e14",
   "metadata": {},
   "source": [
    "Det er nyttig å se på en kontourplott. Kontourene har et spesielt navn: **karakteristikker**. \n",
    "\n",
    "Siden vi vet verdien av løsningen fra de initialbetingelsene, vet vi verdien av hver kontour gjennom $x$-aksen. Da kan vi finne løsningen hvor som helst ved å spore langs karakteristikkene."
   ]
  },
  {
   "cell_type": "code",
   "execution_count": null,
   "id": "c9b18b25",
   "metadata": {},
   "outputs": [],
   "source": [
    "# kontourplott\n",
    "\n",
    "plt.contour(X,T,u)"
   ]
  },
  {
   "cell_type": "markdown",
   "id": "68920e90",
   "metadata": {},
   "source": [
    "### b) Med randbetingelser\n",
    "\n",
    "Et typisk randverdiproblem er:\n",
    "\n",
    "$$\n",
    "u_t + a u_x = 0, \\quad 0<x<1, \\quad u(x,0)=f(x), \\quad  u(0,t)=h(t)\n",
    "$$\n",
    "\n",
    "Løsningen er fortsett $u(x,t) = g(x-at)$, men ved å sette $x=0$ får vi $u(0,t) = g(-at)$, slik at det ser ut som vi burde heller tatt $g(-at) = h(t)$, og dermed\n",
    "\n",
    "**Alternativ 1**\n",
    "$$\n",
    "u(x,t) = h\\left( -\\frac{x-at}{a}\\right)\n",
    "$$\n",
    "\n",
    "Men hva med den gamle løsningen\n",
    "\n",
    "**Alternativ 2**\n",
    "$$\n",
    "u(x,t) = f(x-at)?\n",
    "$$\n",
    "\n",
    "Vi kan forstå svaret bedre med å se på kontourene. Det viser seg at $u(x,t)$ er et av de to alternativene over, avhengig av verdien til $x, t$. \n",
    "\n",
    "\n",
    "**Oppgave**:\n",
    "Prøv å forstå fra plotten under at alternativ 1 inntreffer om $x < at$, mens om $x > at$ får vi alternativ 2."
   ]
  },
  {
   "cell_type": "code",
   "execution_count": null,
   "id": "f3c60fb0",
   "metadata": {},
   "outputs": [],
   "source": [
    "## nytt rutenett\n",
    "\n",
    "x = np.arange(0, 1, 0.01)\n",
    "\n",
    "t = np.arange(0, 1, 0.01)\n",
    "\n",
    "# lager rutenettet\n",
    "X, T = np.meshgrid(x,t)\n",
    "\n",
    "## kontourplott\n",
    "\n",
    "def h(x):\n",
    "    return 2+np.sin(x)\n",
    "\n",
    "def u(x,t):\n",
    "    return np.where(x > a*t, f(x-a*t), h(-(x-a*t)/a))\n",
    "\n",
    "v = u(X,T)\n",
    "\n",
    "# Hvilken verdier vi ønsker å se på nivåkurvene til\n",
    "levels = np.linspace(-1,3,20)\n",
    "\n",
    "plt.contour(X,T,v, levels=levels)"
   ]
  },
  {
   "cell_type": "markdown",
   "id": "e6a2c2a3",
   "metadata": {},
   "source": [
    "## 2. En numerisk løsning"
   ]
  },
  {
   "cell_type": "markdown",
   "id": "3b0e741a",
   "metadata": {},
   "source": [
    "Vår 'fasit' blir metoden:\n",
    "\n",
    "$$\n",
    "u^{n+1}_m = \\frac{1}{2}(u^n_{m+1} + u^n_{m-1}) + \\frac{ak}{2h} u^n_{m-1} - \\frac{ak}{2h} u^n_{m+1}\n",
    "$$\n",
    "\n",
    "som heter **Lax-Friedrichs metode**. Det er ikke nødvendigvis den beste metoden, men den er pålitelig, lite krevende og implementere, og kan lett adapteres til mer generelle bevaringslover (se senere)."
   ]
  },
  {
   "cell_type": "code",
   "execution_count": 16,
   "id": "b2bc720f",
   "metadata": {},
   "outputs": [],
   "source": [
    "## Lax-Friedrichs\n",
    "\n",
    "# a hastighet\n",
    "# fa randbetingelser på venstre side, en funksjon av tid\n",
    "# fb randbetingelser på høyre side, en funksjon av tid\n",
    "# h steglengde i rom\n",
    "# k steglengde i tid\n",
    "# t nåværende tid\n",
    "# x0 nåværende status, altså u(x_m)\n",
    "# return x1, status på neste tidspunkt, altså u(x_m+1)\n",
    "\n",
    "def lf(a, fa, fb, x0, h, k, t):\n",
    "    n = x0.size\n",
    "    x1 = np.zeros(n)\n",
    "    for i in np.arange(1,n-1):\n",
    "        x1[i] = (x0[i+1]+x0[i-1])/2 + (a*k/(2*h))*x0[i-1] - (a*k/(2*h))*x0[i+1]\n",
    "    x1[0] = fa(t)\n",
    "    x1[-1] = fb(t)\n",
    "    return x1"
   ]
  },
  {
   "cell_type": "code",
   "execution_count": 23,
   "id": "e12eb3c4",
   "metadata": {},
   "outputs": [],
   "source": [
    "# randbetingelser venstre side\n",
    "\n",
    "def fa(t):\n",
    "    return np.sin(np.pi*t)\n",
    "\n",
    "# randbetingelser høyre side\n",
    "\n",
    "def fb(t):\n",
    "    return np.sin(np.pi*t)\n",
    "\n",
    "# setter hastighet a\n",
    "\n",
    "hastighet = 1\n",
    "\n",
    "# setter opp gitteret med punkter i tid og rom\n",
    "# 200 punkter mellom 0 og 1 i tid\n",
    "# 50 punkter mellom 1 og -1 i rom\n",
    "\n",
    "T = 1\n",
    "n = 200\n",
    "\n",
    "a = -1\n",
    "b = 1\n",
    "m = 50\n",
    "\n",
    "t = np.linspace(0,T,n)\n",
    "x = np.linspace(a,b,m)\n",
    "\n",
    "# beregn k og h\n",
    "\n",
    "k = t[1]-t[0]\n",
    "h = x[1]-x[0]\n",
    "\n",
    "# initialiserer u\n",
    "u = np.zeros((n,m))\n",
    "\n",
    "# initialbetingelser\n",
    "u[0,:] = np.sin(np.pi*x)\n",
    "\n",
    "\n",
    "# fjern kommentarer fra metoden du vil bruke\n",
    "\n",
    "for i in np.arange(1,n):\n",
    "    u[i,:] = lf(hastighet, fa, fb, u[i-1,:],h,k,t[i])    "
   ]
  },
  {
   "cell_type": "code",
   "execution_count": null,
   "id": "852055b6",
   "metadata": {},
   "outputs": [],
   "source": [
    "fig, ax = plt.subplots()\n",
    "\n",
    "line, = ax.plot(x, u[0,:])\n",
    "\n",
    "def animate(i):\n",
    "    line.set_ydata(u[i,:])\n",
    "    return line,\n",
    "\n",
    "ani = animation.FuncAnimation(fig, animate, interval=20, blit=True, save_count=t.size)\n",
    "\n",
    "from IPython.display import HTML\n",
    "HTML(ani.to_jshtml())"
   ]
  }
 ],
 "metadata": {
  "kernelspec": {
   "display_name": "Python 3",
   "language": "python",
   "name": "python3"
  },
  "language_info": {
   "codemirror_mode": {
    "name": "ipython",
    "version": 3
   },
   "file_extension": ".py",
   "mimetype": "text/x-python",
   "name": "python",
   "nbconvert_exporter": "python",
   "pygments_lexer": "ipython3",
   "version": "3.8.8"
  }
 },
 "nbformat": 4,
 "nbformat_minor": 5
}
