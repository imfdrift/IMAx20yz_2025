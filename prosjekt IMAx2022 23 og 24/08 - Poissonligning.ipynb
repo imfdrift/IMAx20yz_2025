{
 "cells": [
  {
   "cell_type": "markdown",
   "id": "4802828b",
   "metadata": {},
   "source": [
    "# Poissonligningen"
   ]
  },
  {
   "cell_type": "markdown",
   "id": "0bc17878",
   "metadata": {},
   "source": [
    "## 1. Poissonligningen\n",
    "\n",
    "La oss begynne med ligningen i en dimensjon, dvs\n",
    "\n",
    "$$\n",
    "u_{xx} = f(x)\n",
    "$$\n",
    "\n",
    "Vi kan løse ligningen ved å integrere to ganger.\n",
    "\n",
    "### Eksempel\n",
    "\n",
    "Hvis $f(x)=0$ har vi \n",
    "$$\n",
    "u_x = \\int f(x) dx = A\\text{ og }u_{xx} = \\int u_x dx = Ax + B,\n",
    "$$ \n",
    "hvor konstantene $A$ og $B$ bestemmes ut fra randbetingelsene.\n",
    "\n",
    "Ting blir fort mer komplisert i flere dimensjoner. \n",
    "\n",
    "### Randbetingelser\n",
    "\n",
    "Ligningen \n",
    "\n",
    "$$\n",
    "\\Delta u(\\vec{x}) = f(\\vec{x}), \\quad \\vec{x}\\in \\Omega\n",
    "$$ \n",
    "\n",
    "kommer typisk med randbetingelser:\n",
    "\n",
    "1. dirichletbetingelser\n",
    "\n",
    "$$u(\\vec{x}) = g(\\vec{x}), \\quad \\vec{x}\\in \\partial \\Omega$$\n",
    "\n",
    "hvor $\\partial\\Omega$ er randen på området $\\Omega$ og hvor vi oppgir løsningen på randen.\n",
    "\n",
    "2. neumannbetingelser\n",
    "\n",
    "$$ \\frac{\\partial u}{\\partial \\vec{n}}(\\vec{x}) = g(\\vec{x}), \\quad \\vec{x}\\in \\partial \\Omega$$\n",
    "\n",
    "Hvor $\\vec{n}$ er normalvektoren på randen. Altså, vi oppgir retningsderiverte til $u$ i retning ut av området $\\Omega$.\n",
    "\n",
    "Det er mulig å kombinere de to, enten med å oppgi dirichletbetingelser på noen deler av randen og neumannbetingelser på andre, eller med å si at summen av $u$ og $\\frac{\\partial u}{\\partial \\vec{n}}$ er lik en oppgitt funksjon. Sistnevnte kalles for en *robinbetingelse*, men vi skal ikke se på denne muligheten, selv om den ikke skaper utfordringer.\n",
    "\n",
    "### Løsninger (ikke pensum)\n",
    "\n",
    "Er geometrien pen nok kan vi fortsatt skrive løsningen som et integral. For eksempel, ligningen på enhetsdisken:\n",
    "\n",
    "$$\n",
    "u_{xx} + u_{yy} = f(x,y), \\quad x^2 + y^2 < 1, \\qquad u(x,y)=0, \\quad x^2+ y^2 = 1\n",
    "$$\n",
    "\n",
    "har følgende løsning:\n",
    "\n",
    "$$\n",
    "u(\\vec{x}) = \\frac{1}{2\\pi}\\int_{||\\vec{y}||\\leq 1} \\frac{f(\\vec{y})d\\vec{y}}{\\log||\\vec{x}-\\vec{y}|| -\\log||\\frac{\\vec{x}}{||\\vec{x}||^2}-\\vec{y}||}\n",
    "$$\n",
    "\n",
    "Deilig! Vi har bare noen få problemer:\n",
    "\n",
    "1. Integralet er ikke så lett å løse\n",
    "2. Vi må finne et nytt integral hvis vi endrer geometrien av randbetingelsene\n",
    "3. For noen geometrier er det nesten like vanskelig å finne et slikt integral som å løse ligningen. \n",
    "\n",
    "### Eksempel:\n",
    "\n",
    "Det kan vises at ligningen\n",
    "\n",
    "$$\n",
    "u_{xx}(x,y) + u_{yy}(x,y) = 0, \\quad 0<x<1,\\;\\; 0<y<1\n",
    "$$\n",
    "\n",
    "med randbetingelser $u(x,0)=u(0,y)=u(1,y)=0$, $u(x,1)=\\sin(\\pi x)$ har løsning\n",
    "\n",
    "$$\n",
    "u(x,y) = \\frac{\\sin(\\pi x)\\sinh(\\pi y)}{\\sinh(\\pi)}\n",
    "$$\n",
    "\n",
    "Her kan geometrien fortsett skape vanskeligheter, men i mindre grad."
   ]
  },
  {
   "cell_type": "markdown",
   "id": "083558e8",
   "metadata": {},
   "source": [
    "## 2. Numeriske metode: 1d randverdiproblem\n",
    "\n",
    "La oss nå betrakte den ordinære differensialligningen\n",
    "\n",
    "$$\n",
    "u_{tt} + \\omega^2 u = f(x), \\quad u(0) = a,\\;\\; u(1) = b.\n",
    "$$\n",
    "\n",
    "Det blir det samme som en poissonligning i 1 dimensjon hvis vi har $\\omega=0$.\n",
    "\n",
    "Vi lært i PNS/matte 1 at vi kan løse ligningen ved å skrive det om som en $2\\times 2$ førsteordensligning. Men det blir litt vrient, da vi ender opp med randbetingelser på begge sider, så det er ikke hva vi gjør her.\n",
    "\n",
    "### Utregning av $u_{tt}$\n",
    "\n",
    "Strategien vi bruker her er å benytte Taylors teorem til å skrive:\n",
    "\n",
    "$$\n",
    "u_{tt} \\approx \\frac{1}{h^2} (u(t+h) - 2u(t) + u(t-h)) \n",
    "$$\n",
    "\n",
    "Merk at formelen kun gjelder for $0<t<1$, og ikke på randen der $t=0$ eller $t=1$. \n",
    "Vi skal løse problemet numerisk ved å diskretisere og finne verdiene $u_i$ for $i=1,\\cdots,m$. I tillegg kommer randbetingelsene $u_0=a$ og $u_{m+1}=b$.\n",
    "\n",
    "Konsekvensen er at etter diskretisering, så er utregning av den andrederiverte gitt ved den lineære avbildningen $L$:\n",
    "\n",
    "$$\n",
    "L: u_n \\mapsto \\frac{u_{n+1}-2u_n+u_{n-1}}{h^2}\n",
    "$$\n",
    "\n",
    "for $n=1,\\cdots, m$ (vi har også randverdiene).  Som lineær avbildning kan den beskrives med en $m\\times m$-matrise, lik\n",
    "\n",
    "$$\n",
    "L = \\frac{1}{h^2}\n",
    "\\begin{pmatrix}\n",
    "-2 & 1 & 0  & \\ldots & 0 & 0\\\\\n",
    "1 & -2 & 1  & \\ldots & 0 & 0\\\\\n",
    "0 & 1 & -2  & \\ldots & 0 & 0\\\\\n",
    "\\vdots & \\vdots & \\vdots &  & \\vdots & \\vdots \\\\\n",
    "0 & 0 & 0 & \\ldots  & -2 & 1 \\\\\n",
    "0 & 0 & 0 & \\ldots  & 1 & -2\n",
    "\\end{pmatrix}\n",
    "$$\n",
    "\n",
    "Nok en gang er det litt uklart hva som skjer ved randen. Vi skal se på det litt lenger ned i teksten, men først viser vi hvordan vi lager matrisen $L$\n",
    "i Python."
   ]
  },
  {
   "cell_type": "markdown",
   "id": "2dfe6659",
   "metadata": {},
   "source": [
    "### a) Programmering 1: en hurtigløsning\n",
    "\n",
    "Vi lager vi matrisen $L$. Det viser seg å være forbausende lett!"
   ]
  },
  {
   "cell_type": "code",
   "execution_count": 1,
   "id": "c26aa182",
   "metadata": {},
   "outputs": [
    {
     "name": "stdout",
     "output_type": "stream",
     "text": [
      "[[-50.  25.   0.   0.]\n",
      " [ 25. -50.  25.   0.]\n",
      " [  0.  25. -50.  25.]\n",
      " [  0.   0.  25. -50.]]\n"
     ]
    }
   ],
   "source": [
    "import numpy as np\n",
    "\n",
    "# antall punkter langs x-aksen, vi legger til endepunktene\n",
    "m = 4\n",
    "x = np.linspace(0,1,m+2)\n",
    "h = x[1] - x[0]\n",
    "\n",
    "# Vi lager matrisen L\n",
    "L = (1/h**2)*(np.diag((m-1)*[1], -1) + np.diag((m)*[-2],0) + np.diag((m-1)*[1],1))\n",
    "\n",
    "print(L)\n"
   ]
  },
  {
   "cell_type": "markdown",
   "id": "84a80aa4",
   "metadata": {},
   "source": [
    "### b) Programmering 2: et alternativ\n",
    "\n",
    "Vi kunne imidlertidig også ha satt opp matrisen med for-løkke:"
   ]
  },
  {
   "cell_type": "code",
   "execution_count": 2,
   "id": "c76438e6",
   "metadata": {},
   "outputs": [
    {
     "name": "stdout",
     "output_type": "stream",
     "text": [
      "[[-50.  25.   0.   0.]\n",
      " [ 25. -50.  25.   0.]\n",
      " [  0.  25. -50.  25.]\n",
      " [  0.   0.  25. -50.]]\n"
     ]
    }
   ],
   "source": [
    "# initialiserer matrisen\n",
    "L_for = np.zeros((m,m))\n",
    "\n",
    "# løkka, går fra i=0 til i=m-2\n",
    "for i in np.arange(m-1):\n",
    "    L_for[i,i+1] = 1\n",
    "    L_for[i+1,i] = 1\n",
    "    L_for[i,i] = -2\n",
    "\n",
    "# vi savner den siste -2 nederst til høyre\n",
    "L_for[-1,-1] = -2\n",
    "\n",
    "# del på h^2\n",
    "L_for = L_for/(h**2)\n",
    "\n",
    "print(L_for)"
   ]
  },
  {
   "cell_type": "markdown",
   "id": "b14b1cfd",
   "metadata": {},
   "source": [
    "## 3. Randbetingelsene 1: Dirichlet\n",
    "\n",
    "Nå ser vi på hvordan randbetingelsene påvirker det som skjer ved randen. Vi ser altså på ligningen \n",
    "\n",
    "$$\n",
    "u_{tt} + \\omega^2 u = f(x), \\quad u(0) = a, \\; \\; u(1) = b.\n",
    "$$\n",
    "\n",
    "Vi ser på tilfellet hvor $f(x)=0$ først.  La $u_n = u(x_n)$. Vi må legge inn $u_0 = u(0) = a$ og $u_{m+1} = u(1) = b$. Legg merke til at den første ligningen burde egentlig ha vært\n",
    "\n",
    "$$\n",
    "\\frac{u_0 - 2u_1 + u_2}{h^2} + \\omega^2 u_1 = 0\n",
    "$$\n",
    "\n",
    "Men den første linjen til $(L + \\omega^2)\\vec{u}=L\\vec{u} + \\omega^2 \\vec{u}$ er lik\n",
    "\n",
    "$$\n",
    "\\frac{- 2u_1 + u_2}{h^2} + \\omega^2 u_1 = 0\n",
    "$$\n",
    "\n",
    "Vi må altså flytte $u_0$ til den andre siden og får\n",
    "\n",
    "$$\n",
    "\\frac{- 2u_1 + u_2}{h^2} + \\omega^2 u_1 = \\frac{u_0}{h^2} = -\\frac{a}{h^2}\n",
    "$$\n",
    "\n",
    "Vi gjør det samme med den siste ligningen i $(L + \\omega^2) \\vec{u} = 0$. Vi ender da opp med\n",
    "\n",
    "$$\n",
    "(L + \\omega^2) \\vec{u} = \\vec{F}, \\quad\n",
    "\\vec{F} = \\begin{pmatrix}\n",
    "-\\frac{a}{h^2} \\\\\n",
    "0 \\\\\n",
    "\\vdots \\\\\n",
    "0 \\\\\n",
    "-\\frac{b}{h^2}\n",
    "\\end{pmatrix}\n",
    "$$\n",
    "\n",
    "Hvis $f(x)$ ikke er $0$, så må vi først regne $\\vec{F} = f(x)$. Vi legger en kommentar i koden under for å vise hvordan dette kan gjøre i praksis."
   ]
  },
  {
   "cell_type": "code",
   "execution_count": 3,
   "id": "00bdd9bd",
   "metadata": {},
   "outputs": [
    {
     "name": "stdout",
     "output_type": "stream",
     "text": [
      "[-0.61646118 -0.20826391  0.20826391  0.61646118]\n"
     ]
    }
   ],
   "source": [
    "import numpy.linalg as la\n",
    "\n",
    "omega = 1\n",
    "a = -1\n",
    "b = 1\n",
    "\n",
    "# vi lager ligningssystemet Ax = F\n",
    "A = L + (omega**2) * np.eye(m)\n",
    "# Erstatt linjen under med f.eks. F = np.sin(x) hvis f(x) ikke er 0\n",
    "F = np.zeros(m)  # i eksemplet her er f(x)=0\n",
    "F[0] = F[0] - a/(h**2)\n",
    "F[-1] = F[-1] - b/(h**2)\n",
    "\n",
    "# vi løser og skriver ut løsningen\n",
    "U = la.solve(A,F)\n",
    "print(U)"
   ]
  },
  {
   "cell_type": "markdown",
   "id": "6b42308f",
   "metadata": {},
   "source": [
    "### Test\n",
    "\n",
    "Så langt har vi bare prøvd små verdier for $m$, for å illustrere prosessen. Vi prøver nå med større verdier, på ligningen \n",
    "\n",
    "$$\n",
    "\\frac{d^2 u}{dx^2} + \\pi^2 u = 0, \\quad u(0) = -1,\\;\\; u(1) = 1.\n",
    "$$\n",
    "\n",
    "Den generelle løsningen er   \n",
    "$$\n",
    "u = A\\sin\\pi x + B\\cos\\pi x,\n",
    "$$\n",
    "\n",
    "Vi har $u(0)=B$ og $u(1)=-B$, slik at den eksakte løsningen blir\n",
    "\n",
    "$$\n",
    "u = - \\cos\\pi x\n",
    "$$\n",
    "\n",
    "Vi løser dette numerisk."
   ]
  },
  {
   "cell_type": "code",
   "execution_count": 4,
   "id": "b8932cc9",
   "metadata": {},
   "outputs": [
    {
     "data": {
      "text/plain": [
       "[<matplotlib.lines.Line2D at 0x2166f097bf0>]"
      ]
     },
     "execution_count": 4,
     "metadata": {},
     "output_type": "execute_result"
    },
    {
     "data": {
      "image/png": "[encoded data removed]",
      "text/plain": [
       "<Figure size 640x480 with 1 Axes>"
      ]
     },
     "metadata": {},
     "output_type": "display_data"
    }
   ],
   "source": [
    "import numpy as np\n",
    "import numpy.linalg as la\n",
    "import matplotlib.pyplot as plt\n",
    "\n",
    "# Vi setter opp og løser problemet som i eksemplet over\n",
    "omega = np.pi\n",
    "a = -1\n",
    "b = 1\n",
    "m = 100\n",
    "x = np.linspace(0,1,m+2)\n",
    "h = x[1] - x[0]\n",
    "L = (1/h**2)*(np.diag((m-1)*[1], -1) + np.diag(m*[-2],0) + np.diag((m-1)*[1],1))\n",
    "A = L + (omega**2) * np.eye(m)\n",
    "F = np.zeros(m)  # erstattes med F = f(x) hvis f(x) ikke er 0\n",
    "F[0] = F[0]-a/(h**2)\n",
    "F[-1] = F[-1]-b/(h**2)\n",
    "\n",
    "# vi finner den numeriske løsningen og plotter denne\n",
    "U = la.solve(A,F)\n",
    "plt.plot(x[1:-1],U)  # vi plotter ikke randbetingelsen, derfor x[1:-1]\n",
    "\n",
    "# vi finner eksakte løsningen og plotter denne\n",
    "U_analytisk = - np.cos(omega*x[1:-1])  \n",
    "plt.plot(x[1:-1],U_analytisk)  \n",
    "\n",
    "# Hvis alt gikk bra så ser du bare en kurve, da de to kurvene følger hverandre nøyaktig."
   ]
  }
 ],
 "metadata": {
  "kernelspec": {
   "display_name": "Python 3",
   "language": "python",
   "name": "python3"
  },
  "language_info": {
   "codemirror_mode": {
    "name": "ipython",
    "version": 3
   },
   "file_extension": ".py",
   "mimetype": "text/x-python",
   "name": "python",
   "nbconvert_exporter": "python",
   "pygments_lexer": "ipython3",
   "version": "3.12.6"
  }
 },
 "nbformat": 4,
 "nbformat_minor": 5
}
