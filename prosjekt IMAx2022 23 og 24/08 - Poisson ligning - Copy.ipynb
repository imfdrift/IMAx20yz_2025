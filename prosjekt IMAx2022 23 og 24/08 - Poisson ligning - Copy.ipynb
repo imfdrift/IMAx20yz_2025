{
 "cells": [
  {
   "cell_type": "markdown",
   "id": "4802828b",
   "metadata": {},
   "source": [
    "# Poissonligningen"
   ]
  },
  {
   "cell_type": "markdown",
   "id": "0bc17878",
   "metadata": {},
   "source": [
    "## 1. Poissonligningen\n",
    "\n",
    "La oss begynne med ligningen i bare en dimensjon, dvs\n",
    "\n",
    "$$\n",
    "u_{xx} = f(x)\n",
    "$$\n",
    "\n",
    "Vi kan løse ligningen ved å integrere to ganger.\n",
    "\n",
    "### Eksempel\n",
    "\n",
    "Hvis $f(x)=0$ har vi \n",
    "$$\n",
    "u_x = \\int f(x) dx = A\\text{ og }u_{xx} = \\int u_x dx = Ax + B,$$ \n",
    "hvor konstantene $A$ og $B$ bestemmes ut fra randbetingelsene.\n",
    "\n",
    "(Ting blir fort mer komplisert i flere dimensjoner. )\n",
    "\n",
    "### Randbetingelser\n",
    "\n",
    "Ligningen \n",
    "\n",
    "$$\n",
    "\\Delta u(\\vec{x}) = f(\\vec{x}), \\quad \\vec{x}\\in \\Omega\n",
    "$$ \n",
    "\n",
    "kommer typisk med randbetingelser:\n",
    "\n",
    "1. dirichletbetingelser\n",
    "\n",
    "$$u(\\vec{x}) = g(\\vec{x}), \\quad \\vec{x}\\in \\partial \\Omega$$\n",
    "\n",
    "hvor $\\partial\\Omega$ er randen på området $\\Omega$ og hvor vi oppgir løsningen på randen.\n",
    "\n",
    "2. neumannbetingelser\n",
    "\n",
    "$$ \\frac{\\partial u}{\\partial \\vec{n}}(\\vec{x}) = g(\\vec{x}), \\quad \\vec{x}\\in \\partial \\Omega$$\n",
    "\n",
    "Hvor $\\vec{n}$ er normalvektoren på randen. Altså, vi oppgir retningsderiverte til $u$ i retning ut av området $\\Omega$.\n",
    "\n",
    "Det er mulig å kombinere de to, enten med å oppgi Dirichlet betingelser på noen deler av randen og Neumann på andre deler, eller med å si at summen av $u$ og $\\frac{\\partial u}{\\partial \\vec{n}}$ er lik en oppgitt funksjon. Sistnevnte kalles for en *robinbetingelse*, men vi skal ikke se på denne muligheten, selv om den ikke skaper store utfordringer.\n",
    "\n",
    "### Løsninger (ikke pensum)\n",
    "\n",
    "Er geometrien pen nok kan vi fortsatt skrive løsningen som et integral. For eksempel, ligningen på enhetsdisken:\n",
    "\n",
    "$$\n",
    "u_{xx} + u_{yy} = f(x,y), \\quad x^2 + y^2 < 1, \\qquad u(x,y)=0, \\quad x^2+ y^2 = 1\n",
    "$$\n",
    "\n",
    "har følgende løsning:\n",
    "\n",
    "$$\n",
    "u(\\vec{x}) = \\frac{1}{2\\pi}\\int_{||\\vec{y}||\\leq 1} \\frac{f(\\vec{y})d\\vec{y}}{\\log||\\vec{x}-\\vec{y}|| -\\log||\\frac{\\vec{x}}{||\\vec{x}||^2}-\\vec{y}||}\n",
    "$$\n",
    "\n",
    "Deilig! Vi har bare noen få problemer:\n",
    "\n",
    "1. Integralet er ikke så lett å løse\n",
    "2. Vi må finne et nytt integral hvis vi endrer geometrien av randbetingelsene\n",
    "3. For noen geometrier er det nesten like vanskelig å finne et slikt integral som å løse ligningen. \n",
    "\n",
    "### Eksempel:\n",
    "\n",
    "Det kan vises at ligningen\n",
    "\n",
    "$$\n",
    "u_{xx}(x,y) + u_{yy}(x,y) = 0, \\quad 0<x<1,\\;\\; 0<y<1\n",
    "$$\n",
    "\n",
    "med randbetingelser $u(x,0)=u(0,y)=u(1,y)=0$, $u(x,1)=\\sin(\\pi x)$ har løsning\n",
    "\n",
    "$$\n",
    "u(x,y) = \\frac{\\sin(\\pi x)\\sinh(\\pi y)}{\\sinh(\\pi)}\n",
    "$$\n",
    "\n",
    "Her kan geometrien fortsett skape vanskeligheter, men i mindre grad."
   ]
  },
  {
   "cell_type": "markdown",
   "id": "083558e8",
   "metadata": {},
   "source": [
    "## 2. Numeriske metode: 1d randverdiproblem\n",
    "\n",
    "La oss nå betrakte den ordinære differensialligningen\n",
    "\n",
    "$$\n",
    "\\frac{d^2 u}{dt^2} + \\omega^2 u = f(x), \\quad u(0) = a,\\;\\; u(1) = b.\n",
    "$$\n",
    "\n",
    "Det blir det samme som en poissonligning i 1 dimensjon hvis vi har $\\omega=0$.\n",
    "\n",
    "Vi lært i PNS/matte 1 at vi kan løse ligningen ved å skrive det om som en $2\\times 2$ førsteordensligning. Men det blir litt vrient, da vi ender opp med randbetingelser på begge sider, så det er ikke hva vi gjør her.\n",
    "\n",
    "### Utregning av $\\frac{d^2 u}{dt^2}$\n",
    "\n",
    "Strategien vi bruker her er å benytte Taylors teorem til å skrive:\n",
    "\n",
    "$$\n",
    "\\frac{d^2 u}{dt^2} \\approx \\frac{1}{h^2} (u(t+h) - 2u(t) + u(t-h)) \n",
    "$$\n",
    "\n",
    "Merk at formelen kun gjelder for $0<t<$.\n",
    "Vi skal løse problemet numerisk ved å diskretisere og finne verdiene $u_i$ for $i=1,\\cdots,m$. I tillegg kommer randbetingelsene $u_0=a$ og $u_{m+1}=b$.\n",
    "\n",
    "Konsekvensen er at etter diskretisering, så erstatter vi $\\frac{d^2 u}{dt^2}$ med den lineære avbildningen $L$:\n",
    "\n",
    "$$\n",
    "L: u_n \\mapsto \\frac{u_{n+1}-2u_n+u_{n-1}}{h^2}\n",
    "$$\n",
    "\n",
    "for $n=1,\\cdots, m$ (vi ignorerer randverdiene).  Som lineær avbildning kan den beskrives med en $m\\times m$-matrise, her har vi\n",
    "\n",
    "$$\n",
    "L = \\frac{1}{h^2}\n",
    "\\begin{pmatrix}\n",
    "-2 & 1 & 0  & \\ldots & 0 & 0\\\\\n",
    "1 & -2 & 1  & \\ldots & 0 & 0\\\\\n",
    "0 & 1 & -2  & \\ldots & 0 & 0\\\\\n",
    "\\vdots & \\vdots & \\vdots &  & \\vdots & \\vdots \\\\\n",
    "0 & 0 & 0 & \\ldots  & -2 & 1 \\\\\n",
    "0 & 0 & 0 & \\ldots  & 1 & -2\n",
    "\\end{pmatrix}\n",
    "$$\n",
    "\n",
    "Nok en gang er det litt uklart hva som skjer ved randen. Vi skal se på det om kort tid, men først viser vi hvordan vi lager matrisen $L$\n",
    "i Python."
   ]
  },
  {
   "cell_type": "markdown",
   "id": "2dfe6659",
   "metadata": {},
   "source": [
    "### a) Programmering 1: en hurtigløsning\n",
    "\n",
    "Først lager vi matrisa $L$. Det viser seg å være forbausende lett!"
   ]
  },
  {
   "cell_type": "code",
   "execution_count": 57,
   "id": "c26aa182",
   "metadata": {},
   "outputs": [
    {
     "name": "stdout",
     "output_type": "stream",
     "text": [
      "[[-50.  25.   0.   0.]\n",
      " [ 25. -50.  25.   0.]\n",
      " [  0.  25. -50.  25.]\n",
      " [  0.   0.  25. -50.]]\n"
     ]
    }
   ],
   "source": [
    "import numpy as np\n",
    "\n",
    "# antall punkter langs x-aksen, vi legger til endepunktene\n",
    "m = 4\n",
    "x = np.linspace(0,1,m+2)\n",
    "h = x[1] - x[0]\n",
    "\n",
    "# Vi lager matrisen L\n",
    "L = (1/h**2)*(np.diag((m-1)*[1], -1) + np.diag((m)*[-2],0) + np.diag((m-1)*[1],1))\n",
    "\n",
    "print(L)\n"
   ]
  },
  {
   "cell_type": "markdown",
   "id": "84a80aa4",
   "metadata": {},
   "source": [
    "### b) Programmering 2: et alternativ\n",
    "\n",
    "Vi kunne imidlertidig også ha satt opp matrisen med en for-løkke:"
   ]
  },
  {
   "cell_type": "code",
   "execution_count": 58,
   "id": "c76438e6",
   "metadata": {},
   "outputs": [
    {
     "name": "stdout",
     "output_type": "stream",
     "text": [
      "[[-50.  25.   0.   0.]\n",
      " [ 25. -50.  25.   0.]\n",
      " [  0.  25. -50.  25.]\n",
      " [  0.   0.  25. -50.]]\n"
     ]
    }
   ],
   "source": [
    "# initialiserer matrisen\n",
    "L_for = np.zeros((m,m))\n",
    "\n",
    "# løkka, går fra i=0 til i=m-2\n",
    "for i in np.arange(m-1):\n",
    "    L_for[i,i+1] = 1\n",
    "    L_for[i+1,i] = 1\n",
    "    L_for[i,i] = -2\n",
    "\n",
    "# vi savner den siste -2 nederst til høyre\n",
    "L_for[-1,-1] = -2\n",
    "\n",
    "# del på h^2\n",
    "L_for = L_for/(h**2)\n",
    "\n",
    "print(L_for)"
   ]
  },
  {
   "cell_type": "markdown",
   "id": "b14b1cfd",
   "metadata": {},
   "source": [
    "## 3. Randbetingelsene 1: Dirichlet\n",
    "\n",
    "Nå ser vi på hvordan randbetingelsene påvirker det som skjer ved randen. Vi ser altså på ligningen \n",
    "\n",
    "$$\n",
    "\\frac{d^2 u}{dt^2} + \\omega^2 u = f(x), \\quad u(0) = a, \\; \\; u(1) = b.\n",
    "$$\n",
    "\n",
    "Vi ser på tilfellet hvor $f(x)=0$ først.  La $u_n = u(x_n)$. Vi må legge inn $u_0 = u(0) = a$ og $u_{m+1} = u(1) = b$. Legg merke til at den første ligningen burde egentlig ha vært\n",
    "\n",
    "$$\n",
    "\\frac{u_0 - 2u_1 + u_2}{h^2} + \\omega^2 u_1 = 0\n",
    "$$\n",
    "\n",
    "Men den første linjen til $(L + \\omega^2)\\vec{u}=L\\vec{u} + \\omega^2 \\vec{u}$ er lik\n",
    "\n",
    "$$\n",
    "\\frac{- 2u_1 + u_2}{h^2} + \\omega^2 u_1 = 0\n",
    "$$\n",
    "\n",
    "Vi må altså flytte $u_0$ til den andre siden og får\n",
    "\n",
    "$$\n",
    "\\frac{- 2u_1 + u_2}{h^2} + \\omega^2 u_1 = \\frac{u_0}{h^2} = -\\frac{a}{h^2}\n",
    "$$\n",
    "\n",
    "Vi gjør det samme med den siste ligningen i $(L + \\omega^2) \\vec{u} = 0$. Vi ender da opp med\n",
    "\n",
    "$$\n",
    "(L + \\omega^2) \\vec{u} = \\vec{F}, \\quad\n",
    "\\vec{F} = \\begin{pmatrix}\n",
    "-\\frac{a}{h^2} \\\\\n",
    "0 \\\\\n",
    "\\vdots \\\\\n",
    "0 \\\\\n",
    "-\\frac{b}{h^2}\n",
    "\\end{pmatrix}\n",
    "$$\n",
    "\n",
    "Hvis $f(x)$ ikke er $0$, så må vi først regne $\\vec{F} = f(x)$. Vi legger en kommentar i koden under for å vise hvordan dette kan gjøre i praksis."
   ]
  },
  {
   "cell_type": "code",
   "execution_count": 59,
   "id": "00bdd9bd",
   "metadata": {},
   "outputs": [
    {
     "name": "stdout",
     "output_type": "stream",
     "text": [
      "[-0.8526952  -0.67128259 -0.46301868 -0.23623402]\n"
     ]
    }
   ],
   "source": [
    "import numpy.linalg as la\n",
    "\n",
    "omega = 1\n",
    "a = -1\n",
    "b = 1\n",
    "\n",
    "# vi lager ligningssystemet Ax = F\n",
    "A = L + (omega**2) * np.eye(m)\n",
    "# Erstatt linjen under med F = f(x) hvis f(x) er ulik 0\n",
    "F = np.zeros(m)  # i eksemplet her er f(x)=0\n",
    "F[0] = F[0] - a/(h**2)\n",
    "F[-1] = F[0] -b/(h**2)\n",
    "\n",
    "# vi løser med sparse solver\n",
    "U = la.solve(A,F)\n",
    "\n",
    "print(U)"
   ]
  },
  {
   "cell_type": "markdown",
   "id": "6b42308f",
   "metadata": {},
   "source": [
    "### Test\n",
    "\n",
    "Så langt har vi bare prøvd små verdier for $m$, for å illustrere prosessen. Vi prøver nå med større verdier, på ligningen \n",
    "\n",
    "$$\n",
    "\\frac{d^2 u}{dx^2} + \\pi^2 u = 0, \\quad u(0) = -1, u(1) = 1.\n",
    "$$\n",
    "\n",
    "Den generelle løsningen er   \n",
    "$$\n",
    "u = A\\sin\\pi x + B\\cos\\pi x,\n",
    "$$\n",
    "\n",
    "Vi har $u(0)=B$ og $u(1)=-B$, slik at den eksakte løsningen blir\n",
    "\n",
    "$$\n",
    "u = - \\cos\\pi x\n",
    "$$\n",
    "\n",
    "Vi løser dette numerisk."
   ]
  },
  {
   "cell_type": "code",
   "execution_count": 60,
   "id": "b8932cc9",
   "metadata": {},
   "outputs": [
    {
     "data": {
      "text/plain": [
       "[<matplotlib.lines.Line2D at 0x20073d70ce0>]"
      ]
     },
     "execution_count": 60,
     "metadata": {},
     "output_type": "execute_result"
    },
    {
     "data": {
      "image/png": "[encoded data removed]",
      "text/plain": [
       "<Figure size 640x480 with 1 Axes>"
      ]
     },
     "metadata": {},
     "output_type": "display_data"
    }
   ],
   "source": [
    "import numpy as np\n",
    "import numpy.linalg as la\n",
    "import matplotlib.pyplot as plt\n",
    "\n",
    "# Vi setter opp og løser problemet som i eksemplet over\n",
    "omega = np.pi\n",
    "a = -1\n",
    "b = 1\n",
    "m = 100\n",
    "x = np.linspace(0,1,m+2)\n",
    "h = x[1] - x[0]\n",
    "L = (1/h**2)*(np.diag((m-1)*[1], -1) + np.diag(m*[-2],0) + np.diag((m-1)*[1],1))\n",
    "A = L + (omega**2) * np.eye(m)\n",
    "F = np.zeros(m)\n",
    "F[0] = -a/(h**2)\n",
    "F[-1] = -b/(h**2)\n",
    "\n",
    "# vi finner den numeriske løsningen og plotter denne\n",
    "U = la.solve(A,F)\n",
    "plt.plot(x[1:-1],U)  # vi plotter ikke randbetingelsen, derfor x[1:-1]\n",
    "\n",
    "# vi finner eksakte løsningen og plotter denne\n",
    "U_analytisk = - np.cos(omega*x[1:-1])  \n",
    "plt.plot(x[1:-1],U_analytisk)  # vi plotter ikke randbetingelsen\n",
    "\n",
    "# Hvis alt gikk bra så ser du bare en kurve, da de to kurvene følger hverandre nøyaktig."
   ]
  },
  {
   "cell_type": "markdown",
   "id": "bf1359fd",
   "metadata": {},
   "source": [
    "## 4. Andreordens ODE 2: Neumann randbetingelser\n",
    "\n",
    "Hva skjer hvis vi tar $u'(0) = a, u'(1) = b$?.\n",
    "\n",
    "Vi vet ikke lenger hva endpunktene $u_0$ og $u_{m+1}$ skal være. Løsningen er å legge dem til i $\\vec{u}$. Vi trenger to ny ligninger. Den letteste løsning er å ta\n",
    "\n",
    "$$\n",
    "\\frac{u_1 - u_0}{h} = u'(0) = a, \\quad \n",
    "\\frac{u_{m+1} - u_{m}}{h} = u'(1) = b,\n",
    "$$\n",
    "\n",
    "Vi viser hvordan vi lager matrisen $L$ for dette systemet. Merk at det også er mulig å lage matrisen ved hjelp av for-løkker."
   ]
  },
  {
   "cell_type": "code",
   "execution_count": 61,
   "id": "52d28859",
   "metadata": {},
   "outputs": [
    {
     "name": "stdout",
     "output_type": "stream",
     "text": [
      "[[ -5.   5.   0.   0.   0.   0.]\n",
      " [-25.  50. -25.   0.   0.   0.]\n",
      " [  0. -25.  50. -25.   0.   0.]\n",
      " [  0.   0. -25.  50. -25.   0.]\n",
      " [  0.   0.   0. -25.  50. -25.]\n",
      " [  0.   0.   0.   0.  -5.   5.]]\n"
     ]
    }
   ],
   "source": [
    "import numpy as np\n",
    "import numpy.linalg as la\n",
    "\n",
    "m = 4\n",
    "x = np.linspace(0,1,m+2)\n",
    "h = x[1] - x[0]\n",
    "\n",
    "# matrisen er nå (m+2)x(m+2), siden vi må også regne ut x_0 og x_m+1\n",
    "L = (1/h**2)*(np.diag((m+1)*[-1],-1) + np.diag((m+2)*[2],0) + np.diag((m+1)*[-1],1))\n",
    "\n",
    "# legger inn riktige likninger (neumann randbetingelser) i første rad \n",
    "L[0,0] = -1/h\n",
    "L[0,1] = 1/h\n",
    "\n",
    "# legger inn riktige ligninger (neumann randbetingelser) i siste rad\n",
    "L[-1,-1] = 1/h\n",
    "L[-1,-2] = -1/h\n",
    "\n",
    "print(L)"
   ]
  },
  {
   "cell_type": "markdown",
   "id": "e3b523c2",
   "metadata": {},
   "source": [
    "### Eksempel: Løsning av andreordens ligningen\n",
    "\n",
    "Vi har endt opp med et lineært system som vi kan løse. Vi viser hele løsningen under.\n"
   ]
  },
  {
   "cell_type": "code",
   "execution_count": 62,
   "id": "7fe8a63d",
   "metadata": {},
   "outputs": [
    {
     "data": {
      "text/plain": [
       "[<matplotlib.lines.Line2D at 0x20072ab4b00>]"
      ]
     },
     "execution_count": 62,
     "metadata": {},
     "output_type": "execute_result"
    },
    {
     "data": {
      "image/png": "[encoded data removed]",
      "text/plain": [
       "<Figure size 640x480 with 1 Axes>"
      ]
     },
     "metadata": {},
     "output_type": "display_data"
    }
   ],
   "source": [
    "import numpy as np\n",
    "import numpy.linalg as la\n",
    "\n",
    "m = 40\n",
    "x = np.linspace(0,1,m+2)\n",
    "h = x[1] - x[0]\n",
    "omega = np.pi\n",
    "\n",
    "# Vi lager matrisen L\n",
    "L = (1/h**2)*(np.diag((m+1)*[-1],-1) + np.diag((m+2)*[2],0) + np.diag((m+1)*[-1],1))\n",
    "L[0,0] = -1/h\n",
    "L[0,1] = 1/h\n",
    "L[-1,-1] = 1/h\n",
    "L[-1,-2] = -1/h\n",
    "\n",
    "A = L + (omega**2)*np.eye(m+2)\n",
    "F = np.zeros(m+2) # Hvis f(x) ikke er 0, sett F = f(x) istedet\n",
    "F[0] = a  # randbetingelser\n",
    "F[-1] = b\n",
    "\n",
    "# løser systemet\n",
    "V = la.solve(A,F)\n",
    "\n",
    "plt.plot(x,V)"
   ]
  },
  {
   "cell_type": "markdown",
   "id": "7b513fcc",
   "metadata": {},
   "source": [
    "### b) Poisson ligning ($\\omega=0$)\n",
    "\n",
    "Om $\\omega=0$ har vi altså Poissonligningen\n",
    "\n",
    "$$\n",
    "u''(x) = 0, \\quad u'(0)=a, u'(1)=b\n",
    "$$\n",
    "\n",
    "Den generelle løsning blir $u(x)=Ax + B$, slik at $u'(0)=u'(1)=A$. \n",
    "\n",
    "Vi har to situasjoner:\n",
    "\n",
    "1. Hvis $a=b$ har vi uendelig mange løsninger $u(x)=Ax + B$, hvor vi kan velge $B$ som vi vil\n",
    "2. Hvis $a\\neq b$ har vi ingen løsninger.\n",
    "\n",
    "Situasjonen gjenspeiles i den numeriske løsningen: Matrisen $L$ er ikke inverterbar, og ligningen\n",
    "\n",
    "$$\n",
    "L\\vec{u} = \\vec{F}\n",
    "$$\n",
    "\n",
    "har enten uendelig mange eller ingen løsninger, ut fra om $\\vec{F}$ ligger i bilderommet til $L$, som er avhengig av verdiene til $a$ og $b$.\n",
    "\n",
    "**Oppgave:**\n",
    "\n",
    "Undersøk hva som skjer ved hjelp av koden under og det du husker fra lineær algebra i Matematikk 1."
   ]
  },
  {
   "cell_type": "code",
   "execution_count": 63,
   "id": "c9657b73",
   "metadata": {},
   "outputs": [
    {
     "ename": "NameError",
     "evalue": "name 'sp' is not defined",
     "output_type": "error",
     "traceback": [
      "\u001b[1;31m---------------------------------------------------------------------------\u001b[0m",
      "\u001b[1;31mNameError\u001b[0m                                 Traceback (most recent call last)",
      "Cell \u001b[1;32mIn[63], line 8\u001b[0m\n\u001b[0;32m      4\u001b[0m b \u001b[38;5;241m=\u001b[39m \u001b[38;5;241m1\u001b[39m\n\u001b[0;32m      6\u001b[0m omega \u001b[38;5;241m=\u001b[39m \u001b[38;5;241m0\u001b[39m\n\u001b[1;32m----> 8\u001b[0m I \u001b[38;5;241m=\u001b[39m \u001b[43msp\u001b[49m\u001b[38;5;241m.\u001b[39meye(m\u001b[38;5;241m+\u001b[39m\u001b[38;5;241m2\u001b[39m)\n\u001b[0;32m     10\u001b[0m I \u001b[38;5;241m=\u001b[39m sp\u001b[38;5;241m.\u001b[39mcsr_matrix(I)\n\u001b[0;32m     12\u001b[0m I[\u001b[38;5;241m0\u001b[39m,\u001b[38;5;241m0\u001b[39m]\u001b[38;5;241m=\u001b[39m\u001b[38;5;241m0\u001b[39m\n",
      "\u001b[1;31mNameError\u001b[0m: name 'sp' is not defined"
     ]
    }
   ],
   "source": [
    "# Har får vi ingen løsninger!\n",
    "\n",
    "a = 1\n",
    "b = 1\n",
    "\n",
    "omega = 0\n",
    "\n",
    "I = sp.eye(m+2)\n",
    "\n",
    "I = sp.csr_matrix(I)\n",
    "\n",
    "I[0,0]=0\n",
    "I[-1,-1]=0\n",
    "\n",
    "B = L2 + (omega**2) * I\n",
    "\n",
    "G = np.zeros(m+2)\n",
    "\n",
    "G[0] = a\n",
    "G[-1] = b\n",
    "\n",
    "V = lin.spsolve(B,G)\n",
    "\n",
    "print(V)"
   ]
  },
  {
   "cell_type": "code",
   "execution_count": null,
   "id": "c52c2bae",
   "metadata": {},
   "outputs": [],
   "source": [
    "# Beregner egenverdier/egenvektorer til B.\n",
    "\n",
    "everdi, evektor = np.linalg.eig(B.toarray())\n",
    "\n",
    "print(everdi)\n",
    "\n",
    "# Vi ser at den femte egenverdi er (tilnærmet) null\n",
    "\n",
    "# Nullrommet til matrisa er altså\n",
    "V = evektor[:,4]"
   ]
  },
  {
   "cell_type": "code",
   "execution_count": null,
   "id": "0a5cec0b",
   "metadata": {},
   "outputs": [],
   "source": [
    "# Vi ser under at i dette tilfelle tilsvarer nullrommet en konstant funksjon f(x) = C\n",
    "\n",
    "# Det tilsvarer forventningen at løsninger defineres kun opp til en konstant\n",
    "\n",
    "plt.plot(x,V)"
   ]
  },
  {
   "cell_type": "code",
   "execution_count": null,
   "id": "67cacfec",
   "metadata": {},
   "outputs": [],
   "source": [
    "# Vi kan finne en minste kvadraters løsning under. Den beregner løsningen Lu = F med minst norm ||u|| om den finnes\n",
    "# ellers beregner den u slik at normen ||Lu - F|| er minst mulig. \n",
    "\n",
    "V2, istop, itn, r1, r2 = lin.lsmr(B,G)[:5]\n",
    "\n",
    "# minst kvadraters løsning\n",
    "plt.plot(x,V2)"
   ]
  },
  {
   "cell_type": "code",
   "execution_count": null,
   "id": "8109d922",
   "metadata": {},
   "outputs": [],
   "source": [
    "# gir størrelse på ||Lu-F||\n",
    "print(r1)"
   ]
  }
 ],
 "metadata": {
  "kernelspec": {
   "display_name": "Python 3",
   "language": "python",
   "name": "python3"
  },
  "language_info": {
   "codemirror_mode": {
    "name": "ipython",
    "version": 3
   },
   "file_extension": ".py",
   "mimetype": "text/x-python",
   "name": "python",
   "nbconvert_exporter": "python",
   "pygments_lexer": "ipython3",
   "version": "3.12.6"
  }
 },
 "nbformat": 4,
 "nbformat_minor": 5
}
