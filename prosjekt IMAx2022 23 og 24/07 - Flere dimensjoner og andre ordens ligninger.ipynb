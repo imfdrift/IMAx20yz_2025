{
 "cells": [
  {
   "cell_type": "markdown",
   "id": "6ffaa704",
   "metadata": {},
   "source": [
    "# Flere dimensjoner og andreordens ligninger"
   ]
  },
  {
   "cell_type": "markdown",
   "id": "42d53d64",
   "metadata": {},
   "source": [
    "## 1. Transportligning i flere dimensjoner\n",
    "\n",
    "Vi kan også betrakt ligninger av type\n",
    "\n",
    "$$\n",
    "\\vec{u}_x + A(x,t)\\vec{u}_t = \\vec{f}(x,t),\n",
    "$$\n",
    "\n",
    "Hvor\n",
    "$$\n",
    "\\vec{u} = \\begin{pmatrix}\n",
    "u(x,t) \\\\\n",
    "v(x,t)\n",
    "\\end{pmatrix}\n",
    "$$\n",
    "\n",
    "Det viser seg at alle andre ordens lineære ligninger kan (mer eller mindre!) bli skrevet på denne formen. Da vil eigenverdiene til $A$ være avgjørende for oppførsel til ligningen.\n",
    "\n",
    "1. Om $A$ har 2 reelle egenverdier, systemet lar seg diagonaliseres, og det oppfører seg ganske lik den skalar transportligningen. Et slikt system kalles for hyperbolsk.\n",
    "\n",
    "2. Om $A$ har kun 1 reell egenverdi, vi får kun 1 karakteristikk, og systemet blir ganske annerledes. Det kalles for parabolsk.\n",
    "\n",
    "3. Om $A$ har ingen reelle egenverdier får vi en elliptisk ligning.\n",
    "\n",
    "I tilfelle 2 og 3 er det vanligvis bedre å betrakte systemet som en andreordens ligning."
   ]
  },
  {
   "cell_type": "markdown",
   "id": "652df2c8",
   "metadata": {},
   "source": [
    "## Eksempel - bølgeligning\n",
    "\n",
    "En viktig andreordens ligning, bølgeligning (se neste kapittel), kan også sees på som en todimensjonal transportligning\n",
    "\n",
    "$$\n",
    "\\vec{u}_t + A \\vec{u}_x = 0,\\quad \n",
    "A=\\begin{pmatrix}\n",
    "0 & -c^2 \\\\\n",
    "-1 & 0\n",
    "\\end{pmatrix}\n",
    "$$\n",
    "\n",
    "Den kan også skrives som en bevaringslov:\n",
    "\n",
    "$$\n",
    "\\vec{u}_t + \\vec{F}(\\vec{u})_x = 0, \\quad \\vec{F}(u,v)=\\begin{pmatrix}\n",
    "-c^2 v \\\\\n",
    "-u\n",
    "\\end{pmatrix}\n",
    "$$\n",
    "\n",
    "Vi kan anvende metoden av karateristikker, men fremgangsmåte blir litt mer komplisert. Den letteste måte er å gjøre ligningssystemet om til to \"avkoblede\" transportligninger ved å diagonalisere $A$. Det tar oss utenfor kursets læringsmål."
   ]
  },
  {
   "cell_type": "code",
   "execution_count": null,
   "id": "05c0cd9b",
   "metadata": {},
   "outputs": [],
   "source": []
  },
  {
   "cell_type": "markdown",
   "id": "c045fd11",
   "metadata": {},
   "source": [
    "## 2. Numeriske metoder\n",
    "\n",
    "Det viser seg at bevaringsloven over kan løses med en vektor versjon av Lax-Friedrichs:\n",
    "\n",
    "$$\n",
    "\\vec{u}^{n+1}_m = \\frac{1}{2}(\\vec{u}^n_{m+1} + \\vec{u}^n_{m-1}) - \\frac{k}{2h}\\big(\\vec{F}(\\vec{u}^n_{m+1})-\\vec{F}(\\vec{u}^n_{m-1})\\big)\n",
    "$$\n",
    "\n",
    "Vi kommer ikke til å utdype her, men metoden skal vises senere i notaten som handler om bølgeligningen."
   ]
  },
  {
   "cell_type": "code",
   "execution_count": null,
   "id": "1929f7da",
   "metadata": {},
   "outputs": [],
   "source": []
  },
  {
   "cell_type": "markdown",
   "id": "efb02bd2",
   "metadata": {},
   "source": [
    "## 3. Andreordens ligninger\n",
    "\n",
    "Husk at vi klassifiserte ligninger av type\n",
    "\n",
    "$$\n",
    "\\vec{u}_x + A(x,t)\\vec{u}_t = \\vec{f}(x,t),\n",
    "$$\n",
    "\n",
    "som\n",
    "\n",
    "1. Elliptisk\n",
    "2. Parabolsk\n",
    "3. Hyperbolsk\n",
    "\n",
    "ut fra egenverdiene til $A$. Det viser seg at andreordens lineære ligninger kan skrives om til førsteordens systemer av typen over, og klassiferes på det samme måte. Vi skal se på det viktigste eksempel av alle tre, nemlig\n",
    "\n",
    "1. Poisson ligning\n",
    "$$u_{xx} + u_{yy} = f(x,y),$$\n",
    "\n",
    "som også kalles for Laplace ligning i det spesielle tilfelle $f=0$\n",
    "\n",
    "2. Varmeligning\n",
    "$$u_{t} = c^2 u_{xx} + f(t,x)$$\n",
    "\n",
    "3. Bølgeligning\n",
    "$$u_{tt} = c^2 u_{xx}$$\n",
    "\n",
    "Initial- og randbetingelser er en viktig del av systemet, og vil påvirke løsningen i stor grad, både analytisk og numerisk."
   ]
  }
 ],
 "metadata": {
  "kernelspec": {
   "display_name": "Python 3",
   "language": "python",
   "name": "python3"
  },
  "language_info": {
   "codemirror_mode": {
    "name": "ipython",
    "version": 3
   },
   "file_extension": ".py",
   "mimetype": "text/x-python",
   "name": "python",
   "nbconvert_exporter": "python",
   "pygments_lexer": "ipython3",
   "version": "3.8.8"
  }
 },
 "nbformat": 4,
 "nbformat_minor": 5
}
