{
 "cells": [
  {
   "cell_type": "markdown",
   "id": "a92b678e",
   "metadata": {},
   "source": [
    "# Pythonkurs 1/3\n",
    "- 15 januar 2025 onsdag 17:15-19:00\n",
    "- Link til opptak: https://ntnu.cloud.panopto.eu/Panopto/Pages/Viewer.aspx?id=4a68d903-c318-497b-8178-b2660131dee7\n",
    "- Jupyterhub: https://s.ntnu.no/imax20yz\n",
    "- Anaconda: https://anaconda.org/"
   ]
  },
  {
   "cell_type": "markdown",
   "id": "0b93b3e3",
   "metadata": {},
   "source": [
    "Her er det tekst!!"
   ]
  },
  {
   "cell_type": "markdown",
   "id": "7c746d67",
   "metadata": {},
   "source": [
    "## Python som kalkulator"
   ]
  },
  {
   "cell_type": "code",
   "execution_count": 1,
   "id": "37867162",
   "metadata": {},
   "outputs": [
    {
     "name": "stdout",
     "output_type": "stream",
     "text": [
      "2\n"
     ]
    }
   ],
   "source": [
    "# Dette er en kodecelle\n",
    "\n",
    "print(1 + 1)"
   ]
  },
  {
   "cell_type": "code",
   "execution_count": 2,
   "id": "d36cc39c",
   "metadata": {},
   "outputs": [
    {
     "data": {
      "text/plain": [
       "7"
      ]
     },
     "execution_count": 2,
     "metadata": {},
     "output_type": "execute_result"
    }
   ],
   "source": [
    "3 + 4"
   ]
  },
  {
   "cell_type": "code",
   "execution_count": 3,
   "id": "ebfc77c4",
   "metadata": {},
   "outputs": [
    {
     "data": {
      "text/plain": [
       "-1"
      ]
     },
     "execution_count": 3,
     "metadata": {},
     "output_type": "execute_result"
    }
   ],
   "source": [
    "3 - 4"
   ]
  },
  {
   "cell_type": "code",
   "execution_count": 4,
   "id": "01bbb68b",
   "metadata": {},
   "outputs": [
    {
     "data": {
      "text/plain": [
       "20"
      ]
     },
     "execution_count": 4,
     "metadata": {},
     "output_type": "execute_result"
    }
   ],
   "source": [
    "4 * 5"
   ]
  },
  {
   "cell_type": "code",
   "execution_count": 5,
   "id": "e3831c6d",
   "metadata": {},
   "outputs": [
    {
     "data": {
      "text/plain": [
       "4.386666666666667"
      ]
     },
     "execution_count": 5,
     "metadata": {},
     "output_type": "execute_result"
    }
   ],
   "source": [
    "13.16 / 3"
   ]
  },
  {
   "cell_type": "code",
   "execution_count": 6,
   "id": "34c1a818",
   "metadata": {},
   "outputs": [
    {
     "data": {
      "text/plain": [
       "4"
      ]
     },
     "execution_count": 6,
     "metadata": {},
     "output_type": "execute_result"
    }
   ],
   "source": [
    "2 ** 2"
   ]
  },
  {
   "cell_type": "code",
   "execution_count": 7,
   "id": "1a4f6c3f",
   "metadata": {},
   "outputs": [
    {
     "ename": "ZeroDivisionError",
     "evalue": "division by zero",
     "output_type": "error",
     "traceback": [
      "\u001b[1;31m---------------------------------------------------------------------------\u001b[0m",
      "\u001b[1;31mZeroDivisionError\u001b[0m                         Traceback (most recent call last)",
      "Cell \u001b[1;32mIn[7], line 4\u001b[0m\n\u001b[0;32m      1\u001b[0m \u001b[38;5;241m1\u001b[39m \u001b[38;5;241m+\u001b[39m \u001b[38;5;241m1\u001b[39m \n\u001b[0;32m      3\u001b[0m \u001b[38;5;66;03m# Under er en feil\u001b[39;00m\n\u001b[1;32m----> 4\u001b[0m \u001b[38;5;241;43m2\u001b[39;49m\u001b[43m \u001b[49m\u001b[38;5;241;43m/\u001b[39;49m\u001b[43m \u001b[49m\u001b[38;5;241;43m0\u001b[39;49m\n",
      "\u001b[1;31mZeroDivisionError\u001b[0m: division by zero"
     ]
    }
   ],
   "source": [
    "1 + 1 \n",
    "\n",
    "# Under er en feil\n",
    "2 / 0"
   ]
  },
  {
   "cell_type": "markdown",
   "id": "c6c6584f",
   "metadata": {},
   "source": [
    "### Praktisk eksempel\n",
    "Hvor mange tommer er 25 cm? 1 tomme er 2.54 cm."
   ]
  },
  {
   "cell_type": "code",
   "execution_count": 10,
   "id": "e0f8b0f5",
   "metadata": {},
   "outputs": [
    {
     "data": {
      "text/plain": [
       "9.84251968503937"
      ]
     },
     "execution_count": 10,
     "metadata": {},
     "output_type": "execute_result"
    }
   ],
   "source": [
    "25 / 2.54"
   ]
  },
  {
   "cell_type": "markdown",
   "id": "a200d407",
   "metadata": {},
   "source": [
    "## Variabler"
   ]
  },
  {
   "cell_type": "code",
   "execution_count": 11,
   "id": "0e659ae6",
   "metadata": {},
   "outputs": [],
   "source": [
    "x = 2"
   ]
  },
  {
   "cell_type": "code",
   "execution_count": 12,
   "id": "5b69cac3",
   "metadata": {},
   "outputs": [
    {
     "data": {
      "text/plain": [
       "2"
      ]
     },
     "execution_count": 12,
     "metadata": {},
     "output_type": "execute_result"
    }
   ],
   "source": [
    "x"
   ]
  },
  {
   "cell_type": "code",
   "execution_count": 13,
   "id": "86f49962",
   "metadata": {},
   "outputs": [
    {
     "data": {
      "text/plain": [
       "3"
      ]
     },
     "execution_count": 13,
     "metadata": {},
     "output_type": "execute_result"
    }
   ],
   "source": [
    "x + 1"
   ]
  },
  {
   "cell_type": "code",
   "execution_count": 14,
   "id": "a19b52d7",
   "metadata": {},
   "outputs": [
    {
     "data": {
      "text/plain": [
       "10"
      ]
     },
     "execution_count": 14,
     "metadata": {},
     "output_type": "execute_result"
    }
   ],
   "source": [
    "y_verdi = 10\n",
    "y_verdi"
   ]
  },
  {
   "cell_type": "code",
   "execution_count": 15,
   "id": "a765bf58",
   "metadata": {},
   "outputs": [
    {
     "data": {
      "text/plain": [
       "12"
      ]
     },
     "execution_count": 15,
     "metadata": {},
     "output_type": "execute_result"
    }
   ],
   "source": [
    "x + y_verdi"
   ]
  },
  {
   "cell_type": "code",
   "execution_count": 16,
   "id": "bce06127",
   "metadata": {},
   "outputs": [
    {
     "data": {
      "text/plain": [
       "12"
      ]
     },
     "execution_count": 16,
     "metadata": {},
     "output_type": "execute_result"
    }
   ],
   "source": [
    "z = x + y_verdi\n",
    "z"
   ]
  },
  {
   "cell_type": "code",
   "execution_count": 17,
   "id": "c17a00f0",
   "metadata": {},
   "outputs": [
    {
     "ename": "SyntaxError",
     "evalue": "invalid syntax (3412267752.py, line 1)",
     "output_type": "error",
     "traceback": [
      "\u001b[1;36m  Cell \u001b[1;32mIn[17], line 1\u001b[1;36m\u001b[0m\n\u001b[1;33m    y verdi = 5\u001b[0m\n\u001b[1;37m      ^\u001b[0m\n\u001b[1;31mSyntaxError\u001b[0m\u001b[1;31m:\u001b[0m invalid syntax\n"
     ]
    }
   ],
   "source": [
    "y verdi = 5"
   ]
  },
  {
   "cell_type": "code",
   "execution_count": 18,
   "id": "4a324873",
   "metadata": {},
   "outputs": [],
   "source": [
    "porsjoner = 5"
   ]
  },
  {
   "cell_type": "code",
   "execution_count": 19,
   "id": "077f3292",
   "metadata": {},
   "outputs": [],
   "source": [
    "hvetemel = 62.5 * porsjoner\n",
    "salt = 0.13 * porsjoner\n",
    "egg = 0.5 * porsjoner\n",
    "eggeplomme = 0.5 * porsjoner"
   ]
  },
  {
   "cell_type": "code",
   "execution_count": 20,
   "id": "62f8d36a",
   "metadata": {},
   "outputs": [
    {
     "data": {
      "text/plain": [
       "312.5"
      ]
     },
     "execution_count": 20,
     "metadata": {},
     "output_type": "execute_result"
    }
   ],
   "source": [
    "hvetemel"
   ]
  },
  {
   "cell_type": "markdown",
   "id": "2cc721cc",
   "metadata": {},
   "source": [
    "## Typer"
   ]
  },
  {
   "cell_type": "markdown",
   "id": "1815632e",
   "metadata": {},
   "source": [
    "### Heltall - integer"
   ]
  },
  {
   "cell_type": "code",
   "execution_count": 21,
   "id": "e3b23a90",
   "metadata": {},
   "outputs": [
    {
     "data": {
      "text/plain": [
       "int"
      ]
     },
     "execution_count": 21,
     "metadata": {},
     "output_type": "execute_result"
    }
   ],
   "source": [
    "type(1)"
   ]
  },
  {
   "cell_type": "code",
   "execution_count": 22,
   "id": "ab0f6c42",
   "metadata": {},
   "outputs": [
    {
     "data": {
      "text/plain": [
       "int"
      ]
     },
     "execution_count": 22,
     "metadata": {},
     "output_type": "execute_result"
    }
   ],
   "source": [
    "type(porsjoner)"
   ]
  },
  {
   "cell_type": "markdown",
   "id": "52366fdd",
   "metadata": {},
   "source": [
    "### Desimaltall - flytetall"
   ]
  },
  {
   "cell_type": "code",
   "execution_count": 23,
   "id": "94a78e76",
   "metadata": {},
   "outputs": [
    {
     "data": {
      "text/plain": [
       "float"
      ]
     },
     "execution_count": 23,
     "metadata": {},
     "output_type": "execute_result"
    }
   ],
   "source": [
    "type(3.1)"
   ]
  },
  {
   "cell_type": "code",
   "execution_count": 24,
   "id": "a8d9cce0",
   "metadata": {},
   "outputs": [
    {
     "data": {
      "text/plain": [
       "float"
      ]
     },
     "execution_count": 24,
     "metadata": {},
     "output_type": "execute_result"
    }
   ],
   "source": [
    "type(hvetemel)"
   ]
  },
  {
   "cell_type": "markdown",
   "id": "3a18506b",
   "metadata": {},
   "source": [
    "### Setninger - strenger"
   ]
  },
  {
   "cell_type": "code",
   "execution_count": 25,
   "id": "ea457be2",
   "metadata": {},
   "outputs": [],
   "source": [
    "velkomst_1 = \"Hallo!\"\n"
   ]
  },
  {
   "cell_type": "code",
   "execution_count": 26,
   "id": "68e0bb04",
   "metadata": {},
   "outputs": [
    {
     "data": {
      "text/plain": [
       "'Hallo!'"
      ]
     },
     "execution_count": 26,
     "metadata": {},
     "output_type": "execute_result"
    }
   ],
   "source": [
    "velkomst_1"
   ]
  },
  {
   "cell_type": "code",
   "execution_count": 27,
   "id": "b3fece66",
   "metadata": {},
   "outputs": [
    {
     "name": "stdout",
     "output_type": "stream",
     "text": [
      "Hallo!\n"
     ]
    }
   ],
   "source": [
    "print(velkomst_1)"
   ]
  },
  {
   "cell_type": "code",
   "execution_count": 28,
   "id": "262d9be3",
   "metadata": {},
   "outputs": [
    {
     "data": {
      "text/plain": [
       "str"
      ]
     },
     "execution_count": 28,
     "metadata": {},
     "output_type": "execute_result"
    }
   ],
   "source": [
    "type(velkomst_1)"
   ]
  },
  {
   "cell_type": "code",
   "execution_count": 29,
   "id": "089eb9bf",
   "metadata": {},
   "outputs": [],
   "source": [
    "velkomst_2 = \"Hei verden! \""
   ]
  },
  {
   "cell_type": "code",
   "execution_count": 30,
   "id": "31ac4948",
   "metadata": {},
   "outputs": [
    {
     "data": {
      "text/plain": [
       "'Hallo!Hei verden! '"
      ]
     },
     "execution_count": 30,
     "metadata": {},
     "output_type": "execute_result"
    }
   ],
   "source": [
    "velkomst_1 + velkomst_2"
   ]
  },
  {
   "cell_type": "code",
   "execution_count": 31,
   "id": "6d085e33",
   "metadata": {},
   "outputs": [
    {
     "data": {
      "text/plain": [
       "'Hallo!1'"
      ]
     },
     "execution_count": 31,
     "metadata": {},
     "output_type": "execute_result"
    }
   ],
   "source": [
    "velkomst_1 + '1'"
   ]
  },
  {
   "cell_type": "code",
   "execution_count": 32,
   "id": "af139b74",
   "metadata": {},
   "outputs": [
    {
     "data": {
      "text/plain": [
       "'12'"
      ]
     },
     "execution_count": 32,
     "metadata": {},
     "output_type": "execute_result"
    }
   ],
   "source": [
    "'1' + '2'"
   ]
  },
  {
   "cell_type": "code",
   "execution_count": null,
   "id": "ca7da80f",
   "metadata": {},
   "outputs": [],
   "source": []
  },
  {
   "cell_type": "code",
   "execution_count": null,
   "id": "f1a4b6e2",
   "metadata": {},
   "outputs": [],
   "source": []
  },
  {
   "cell_type": "markdown",
   "id": "93d00917",
   "metadata": {},
   "source": [
    "Oppgave: Skriv ut mengden salt og egg i oppskriften. "
   ]
  },
  {
   "cell_type": "code",
   "execution_count": 33,
   "id": "1252dc75",
   "metadata": {},
   "outputs": [
    {
     "name": "stdout",
     "output_type": "stream",
     "text": [
      "Antall porsjoner er 5\n",
      "312.5 g hvetemel\n",
      "0.65 ts salt\n",
      "2.5 stk. egg\n"
     ]
    }
   ],
   "source": [
    "print(f'Antall porsjoner er {porsjoner}')\n",
    "\n",
    "print(f'{hvetemel} g hvetemel')\n",
    "print(f'{salt} ts salt')\n",
    "print(f'{egg} stk. egg')"
   ]
  },
  {
   "cell_type": "markdown",
   "id": "68fd84a7",
   "metadata": {},
   "source": [
    "### Sannhetsverdier - boolske verdier"
   ]
  },
  {
   "cell_type": "code",
   "execution_count": 34,
   "id": "b072ff49",
   "metadata": {},
   "outputs": [
    {
     "data": {
      "text/plain": [
       "True"
      ]
     },
     "execution_count": 34,
     "metadata": {},
     "output_type": "execute_result"
    }
   ],
   "source": [
    "True"
   ]
  },
  {
   "cell_type": "code",
   "execution_count": 35,
   "id": "5a6e4ab5",
   "metadata": {},
   "outputs": [
    {
     "data": {
      "text/plain": [
       "False"
      ]
     },
     "execution_count": 35,
     "metadata": {},
     "output_type": "execute_result"
    }
   ],
   "source": [
    "False"
   ]
  },
  {
   "cell_type": "code",
   "execution_count": 36,
   "id": "faa424ab",
   "metadata": {},
   "outputs": [
    {
     "data": {
      "text/plain": [
       "bool"
      ]
     },
     "execution_count": 36,
     "metadata": {},
     "output_type": "execute_result"
    }
   ],
   "source": [
    "type(False)"
   ]
  },
  {
   "cell_type": "markdown",
   "id": "460c38c7",
   "metadata": {},
   "source": [
    "#### Sammenligninger\n",
    "- større (\\>) og mindre (\\<)\n",
    "- større eller lik (\\>=) og mindre eller lik (\\<=)\n",
    "- lik (==)\n",
    "- Ikke lik (!=)"
   ]
  },
  {
   "cell_type": "code",
   "execution_count": 37,
   "id": "5d77094f",
   "metadata": {},
   "outputs": [
    {
     "data": {
      "text/plain": [
       "True"
      ]
     },
     "execution_count": 37,
     "metadata": {},
     "output_type": "execute_result"
    }
   ],
   "source": [
    "4 > 3"
   ]
  },
  {
   "cell_type": "code",
   "execution_count": 38,
   "id": "1a2c07d4",
   "metadata": {},
   "outputs": [
    {
     "data": {
      "text/plain": [
       "False"
      ]
     },
     "execution_count": 38,
     "metadata": {},
     "output_type": "execute_result"
    }
   ],
   "source": [
    "4 < 3"
   ]
  },
  {
   "cell_type": "code",
   "execution_count": 39,
   "id": "997843b7",
   "metadata": {},
   "outputs": [
    {
     "data": {
      "text/plain": [
       "False"
      ]
     },
     "execution_count": 39,
     "metadata": {},
     "output_type": "execute_result"
    }
   ],
   "source": [
    "4 == 3"
   ]
  },
  {
   "cell_type": "code",
   "execution_count": 40,
   "id": "6d9bd3c4",
   "metadata": {},
   "outputs": [
    {
     "data": {
      "text/plain": [
       "False"
      ]
     },
     "execution_count": 40,
     "metadata": {},
     "output_type": "execute_result"
    }
   ],
   "source": [
    "'Hei' != 'Hei'"
   ]
  },
  {
   "cell_type": "markdown",
   "id": "f20d632f",
   "metadata": {},
   "source": [
    "Oppgave"
   ]
  },
  {
   "cell_type": "code",
   "execution_count": 41,
   "id": "6f9d2385",
   "metadata": {},
   "outputs": [],
   "source": [
    "variabel = 3"
   ]
  },
  {
   "cell_type": "markdown",
   "id": "2b7e93f4",
   "metadata": {},
   "source": [
    "- Er variabel større enn 0?\n",
    "- Er varibel mindre eller lik 5?"
   ]
  },
  {
   "cell_type": "code",
   "execution_count": 42,
   "id": "f8531594",
   "metadata": {},
   "outputs": [
    {
     "data": {
      "text/plain": [
       "True"
      ]
     },
     "execution_count": 42,
     "metadata": {},
     "output_type": "execute_result"
    }
   ],
   "source": [
    "variabel > 0"
   ]
  },
  {
   "cell_type": "code",
   "execution_count": 43,
   "id": "54a38c7c",
   "metadata": {},
   "outputs": [
    {
     "data": {
      "text/plain": [
       "True"
      ]
     },
     "execution_count": 43,
     "metadata": {},
     "output_type": "execute_result"
    }
   ],
   "source": [
    "variabel <= 5"
   ]
  },
  {
   "cell_type": "markdown",
   "id": "e0b9fb9f",
   "metadata": {},
   "source": [
    "## If setninger"
   ]
  },
  {
   "cell_type": "code",
   "execution_count": 44,
   "id": "bbe9814e",
   "metadata": {},
   "outputs": [],
   "source": [
    "if 2 > 3:\n",
    "    print(f'tallet 2 er større enn tallet 3')"
   ]
  },
  {
   "cell_type": "code",
   "execution_count": 45,
   "id": "8e77b628",
   "metadata": {},
   "outputs": [
    {
     "name": "stdout",
     "output_type": "stream",
     "text": [
      "tallet 2 er mindre enn tallet 3\n"
     ]
    }
   ],
   "source": [
    "if 2 > 3:\n",
    "    print(f'tallet 2 er større enn tallet 3')\n",
    "elif 2 < 3:\n",
    "    print(f'tallet 2 er mindre enn tallet 3')    "
   ]
  },
  {
   "cell_type": "markdown",
   "id": "9600a5ae",
   "metadata": {},
   "source": [
    "#### Praktisk eksempel\n",
    "Bussbilletprisene til et busselskap er som følger:\n",
    "- Barnebillet for personer under 16 koster 20 kr.\n",
    "- Seniorbillet for personer over 65 koster 30 kr.\n",
    "- Studentbillet koster 30 kr.\n",
    "- Vanlig billet koster 40 kr."
   ]
  },
  {
   "cell_type": "code",
   "execution_count": 46,
   "id": "5937daa0",
   "metadata": {},
   "outputs": [],
   "source": [
    "alder = 30\n",
    "student = True"
   ]
  },
  {
   "cell_type": "code",
   "execution_count": 47,
   "id": "339ea86b",
   "metadata": {},
   "outputs": [],
   "source": [
    "if alder < 16:\n",
    "    pris = 20\n",
    "elif alder > 65:\n",
    "    pris = 30\n",
    "elif student == True:\n",
    "    pris = 30\n",
    "else:\n",
    "    pris = 40"
   ]
  },
  {
   "cell_type": "code",
   "execution_count": 48,
   "id": "34be8e90",
   "metadata": {},
   "outputs": [
    {
     "data": {
      "text/plain": [
       "30"
      ]
     },
     "execution_count": 48,
     "metadata": {},
     "output_type": "execute_result"
    }
   ],
   "source": [
    "pris"
   ]
  },
  {
   "cell_type": "markdown",
   "id": "12a38c15",
   "metadata": {},
   "source": [
    "#### Oppgave\n",
    "\n",
    "Skriv et program som tar inn temperatur og gir ut følgende:\n",
    "1. Hvis temperaturen er under 0°C, skal programmet anbefale å kle seg varmt.\n",
    "2. Hvis temperaturen er mellom 0°C og 20°C, skal programmet anbefale å ta på en jakke.\n",
    "3. Hvis temperaturen er mellom 20°C og 30°C, skal programmet anbefale å kle seg lett.\n",
    "4. Hvis temperaturen er over 30°C, skal programmet anbefale å drikke mye vann."
   ]
  },
  {
   "cell_type": "code",
   "execution_count": 49,
   "id": "b19da37e",
   "metadata": {},
   "outputs": [
    {
     "name": "stdout",
     "output_type": "stream",
     "text": [
      "Drikk mye vann!\n"
     ]
    }
   ],
   "source": [
    "temperatur = 40\n",
    "\n",
    "if temperatur < 0:\n",
    "    print('Kle deg varmt!')\n",
    "elif temperatur <= 20:\n",
    "    print('Ta på deg en jakke!')\n",
    "elif temperatur <= 30:\n",
    "    print('Kle deg lett!')\n",
    "else:\n",
    "    print('Drikk mye vann!')"
   ]
  },
  {
   "cell_type": "markdown",
   "id": "b8ad4791",
   "metadata": {},
   "source": [
    "## Numpy"
   ]
  },
  {
   "cell_type": "code",
   "execution_count": 50,
   "id": "b9eb0903",
   "metadata": {},
   "outputs": [],
   "source": [
    "import numpy as np"
   ]
  },
  {
   "cell_type": "code",
   "execution_count": 51,
   "id": "f16f0bbf",
   "metadata": {},
   "outputs": [],
   "source": [
    "# Ønsker å lage vektoren (1, 2, 1)\n",
    "vec = np.array([1, 2, 1])"
   ]
  },
  {
   "cell_type": "code",
   "execution_count": 52,
   "id": "5a1dc67c",
   "metadata": {},
   "outputs": [
    {
     "data": {
      "text/plain": [
       "array([2, 4, 2])"
      ]
     },
     "execution_count": 52,
     "metadata": {},
     "output_type": "execute_result"
    }
   ],
   "source": [
    "2 * vec"
   ]
  },
  {
   "cell_type": "code",
   "execution_count": 53,
   "id": "ab6a7065",
   "metadata": {},
   "outputs": [],
   "source": [
    "vec_1 = np.array([0, 0, 3])"
   ]
  },
  {
   "cell_type": "code",
   "execution_count": 54,
   "id": "6f2ed0b6",
   "metadata": {},
   "outputs": [
    {
     "data": {
      "text/plain": [
       "array([1, 2, 4])"
      ]
     },
     "execution_count": 54,
     "metadata": {},
     "output_type": "execute_result"
    }
   ],
   "source": [
    "vec + vec_1"
   ]
  }
 ],
 "metadata": {
  "kernelspec": {
   "display_name": "Python 3",
   "language": "python",
   "name": "python3"
  },
  "language_info": {
   "codemirror_mode": {
    "name": "ipython",
    "version": 3
   },
   "file_extension": ".py",
   "mimetype": "text/x-python",
   "name": "python",
   "nbconvert_exporter": "python",
   "pygments_lexer": "ipython3",
   "version": "3.11.9"
  }
 },
 "nbformat": 4,
 "nbformat_minor": 5
}
